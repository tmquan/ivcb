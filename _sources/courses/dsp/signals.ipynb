{
 "cells": [
  {
   "cell_type": "markdown",
   "metadata": {},
   "source": [
    "# Signals and Sequences"
   ]
  },
  {
   "cell_type": "code",
   "execution_count": 1,
   "metadata": {
    "tags": [
     "hide_input"
    ]
   },
   "outputs": [],
   "source": [
    "# HIDE/SHOW\n",
    "# ! pip install -U sympy \n",
    "# ! pip install -U numpy\n",
    "# ! pip install -U matplotlib\n",
    "\n",
    "# ! sudo apt install -y cm-super\n",
    "# ! sudo apt install -y texlive texlive-latex-extra texlive-fonts-recommended dvipng"
   ]
  },
  {
   "cell_type": "code",
   "execution_count": 2,
   "metadata": {
    "tags": [
     "hide_input"
    ]
   },
   "outputs": [
    {
     "name": "stdout",
     "output_type": "stream",
     "text": [
      "removed 'signals/aperiodic_ct.png'\n",
      "removed 'signals/aperiodic_dt.png'\n",
      "removed 'signals/compexpneg_ct.png'\n",
      "removed 'signals/compexpneg_dt.png'\n",
      "removed 'signals/compexppos_ct.png'\n",
      "removed 'signals/compexppos_dt.png'\n",
      "removed 'signals/cosine_ct.png'\n",
      "removed 'signals/cosine_dt.png'\n",
      "removed 'signals/delta_ct.png'\n",
      "removed 'signals/delta_dt.png'\n",
      "removed 'signals/even_ct.png'\n",
      "removed 'signals/even_dt.png'\n",
      "removed 'signals/intro_ct.png'\n",
      "removed 'signals/intro_dg.png'\n",
      "removed 'signals/intro_dt.png'\n",
      "removed 'signals/intro_qt.png'\n",
      "removed 'signals/odd_ct.png'\n",
      "removed 'signals/odd_dt.png'\n",
      "removed 'signals/periodic_ct.png'\n",
      "removed 'signals/periodic_dt.png'\n",
      "removed 'signals/ramp_ct.png'\n",
      "removed 'signals/ramp_dt.png'\n",
      "removed 'signals/realexpneg_ct.png'\n",
      "removed 'signals/realexpneg_dt.png'\n",
      "removed 'signals/realexppos_ct.png'\n",
      "removed 'signals/realexppos_dt.png'\n",
      "removed 'signals/rect_ct.png'\n",
      "removed 'signals/rect_dt.png'\n",
      "removed 'signals/sign_ct.png'\n",
      "removed 'signals/sign_dt.png'\n",
      "removed 'signals/sinc_ct.png'\n",
      "removed 'signals/sinc_dt.png'\n",
      "removed 'signals/sine_ct.png'\n",
      "removed 'signals/sine_dt.png'\n",
      "removed 'signals/step_ct.png'\n",
      "removed 'signals/step_dt.png'\n",
      "removed 'signals/tri_ct.png'\n",
      "removed 'signals/tri_dt.png'\n"
     ]
    }
   ],
   "source": [
    "# HIDE/SHOW\n",
    "# %reset -f\n",
    "! rm -rfv *.png *.jpg signals/*\n",
    "import os\n",
    "import shutil\n",
    "import warnings\n",
    "warnings.filterwarnings('ignore')\n",
    "\n",
    "from IPython.display import display, HTML\n",
    "import sympy as sp\n",
    "import numpy as np\n",
    "from lcapy import Circuit\n",
    "\n",
    "from sympy.abc import t, x, y\n",
    "import matplotlib.pyplot as plt\n",
    "from matplotlib.ticker import MaxNLocator\n",
    "\n",
    "saved_dir = \"signals\"\n",
    "if os.path.exists(saved_dir):\n",
    "    shutil.rmtree(saved_dir)\n",
    "os.makedirs(saved_dir)\n",
    "\n",
    "plt.rcParams['text.usetex'] = True\n",
    "plt.rcParams['font.family'] = 'serif'\n",
    "plt.rcParams['font.serif'] = ['Computer Modern Roman']\n",
    "plt.rcParams['font.sans-serif'] = ['Computer Modern Sans Serif']\n",
    "plt.rcParams['font.size'] = 24\n",
    "plt.rcParams['figure.figsize'] = (12, 8)\n",
    "plt.rcParams['axes.labelsize'] = 24\n",
    "plt.rcParams['axes.titlesize'] = 24\n",
    "plt.rcParams['xtick.labelsize'] = 16\n",
    "plt.rcParams['ytick.labelsize'] = 16\n",
    "%matplotlib inline "
   ]
  },
  {
   "cell_type": "code",
   "execution_count": null,
   "metadata": {
    "tags": [
     "hide_input"
    ]
   },
   "outputs": [],
   "source": [
    "# HIDE/SHOW            \n",
    "def mpl_axes_plot(axes, expr, xrange, zero_is_none=False, **kwargs):\n",
    "    x, start, stop = xrange\n",
    "    func = sp.lambdify(x, expr)\n",
    "    x = np.linspace(start, stop, 10000)\n",
    "    y = func(x)\n",
    "    axes.tick_params(axis='x')\n",
    "    axes.tick_params(axis='y')\n",
    "    axes.xaxis.set_major_locator(MaxNLocator(integer=True))\n",
    "    axes.yaxis.set_major_locator(MaxNLocator(integer=True))\n",
    "    axes.grid(False)\n",
    "    axes.margins(0.02, 0.02)\n",
    "    if zero_is_none:\n",
    "        y[y==0] = np.nan\n",
    "    axes.plot(x, y, **kwargs)\n",
    "    axes.plot(x, np.zeros_like(x), color='k', alpha=0.5)\n",
    "    return axes\n",
    "    \n",
    "def mpl_axes_stem(axes, expr, xrange, zero_is_none=False, **kwargs):\n",
    "    x, start, stop, step = xrange\n",
    "    func = sp.lambdify(x, expr, ['numpy', 'sympy'])\n",
    "    x = np.arange(start, stop, step)\n",
    "    y = func(x)\n",
    "    axes.tick_params(axis='x')\n",
    "    axes.tick_params(axis='y')\n",
    "    axes.xaxis.set_major_locator(MaxNLocator(integer=True))\n",
    "    axes.yaxis.set_major_locator(MaxNLocator(integer=True))\n",
    "    axes.grid(False)\n",
    "    axes.margins(0.02, 0.02)\n",
    "    axes.plot(x, np.zeros_like(x), color='k', alpha=0.5)\n",
    "    if zero_is_none:\n",
    "        y[y==0] = np.nan\n",
    "    axes.stem(x, y, basefmt=\" \", use_line_collection=True, **kwargs)\n",
    "    return axes\n",
    "    \n",
    "def mpl_axes_step(axes, expr, xrange, **kwargs):\n",
    "    x, start, stop, step = xrange\n",
    "    func = sp.lambdify(x, expr)\n",
    "    x = np.arange(start, stop, step)\n",
    "    y = func(x)\n",
    "    axes.tick_params(axis='x')\n",
    "    axes.tick_params(axis='y')\n",
    "    axes.xaxis.set_major_locator(MaxNLocator(integer=True))\n",
    "    axes.yaxis.set_major_locator(MaxNLocator(integer=True))\n",
    "    axes.grid(False)\n",
    "    axes.margins(0.02, 0.02)\n",
    "    axes.plot(x, np.zeros_like(x), color='k', alpha=0.5)\n",
    "    return axes.step(x, y, **kwargs)"
   ]
  },
  {
   "cell_type": "markdown",
   "metadata": {},
   "source": [
    "## What are Signals?\n",
    "\n",
    "- Signals convey information. \n",
    "- Signals are represented as mathematical functions of one or more independent variables. \n",
    "- Signals are represented as mathematical functions of one dimensional variable in time.\n",
    "\n"
   ]
  },
  {
   "cell_type": "markdown",
   "metadata": {},
   "source": [
    "## Types of Signals\n",
    "\n",
    "- Continuous-time (CT) Signals\t\t\t\n",
    "- Discrete-time (DT) Signals\n",
    "- Quantized Signals \n",
    "- Digital Signals?"
   ]
  },
  {
   "cell_type": "code",
   "execution_count": null,
   "metadata": {
    "tags": [
     "hide_input"
    ]
   },
   "outputs": [],
   "source": [
    "# HIDE/SHOW\n",
    "h = t*sp.sin(t/1.7)\n",
    "\n",
    "###############################################################################\n",
    "fig, ax = plt.subplots(1, 1)\n",
    "mpl_axes_plot(ax, \n",
    "    expr=h, \n",
    "    xrange=(t, -60, 60), \n",
    "    color='b'\n",
    ")\n",
    "ax.set_xlim(-1., 15, 1)\n",
    "ax.set_ylim(-15, 15, 1)\n",
    "# ax.set_title(r'Continuous-time Signal')\n",
    "plt.savefig(os.path.join(saved_dir, 'intro_ct.png')); plt.close()\n",
    "\n",
    "fig, ax = plt.subplots(1, 1)\n",
    "mpl_axes_stem(ax, \n",
    "    expr=h, \n",
    "    xrange=(t, -60, 60, 0.5), \n",
    "    linefmt='b', \n",
    "    markerfmt='bo'\n",
    ")\n",
    "ax.set_xlim(-1., 15, 1)\n",
    "ax.set_ylim(-15, 15, 1)\n",
    "# ax.set_title(r'Discrete-time Signal')\n",
    "plt.savefig(os.path.join(saved_dir, 'intro_dt.png')); plt.close()\n",
    "\n",
    "###############################################################################\n",
    "fig, ax = plt.subplots(1, 1)\n",
    "mpl_axes_step(ax, \n",
    "    expr=h, \n",
    "    xrange=(t, -60, 60, 0.5), \n",
    "    color='b'\n",
    ")\n",
    "ax.set_xlim(-1., 15, 1)\n",
    "ax.set_ylim(-15, 15, 1)\n",
    "# ax.set_title(r'Quantized Signal')\n",
    "plt.savefig(os.path.join(saved_dir, 'intro_qt.png')); plt.close()\n",
    "\n",
    "fig, ax = plt.subplots(1, 1)\n",
    "mpl_axes_stem(ax, \n",
    "    expr=h.xreplace({n : round(n, 1) for n in h.atoms(sp.Number)}),\n",
    "    xrange=(t, -60, 60, 0.5), \n",
    "    linefmt='b', \n",
    "    markerfmt='b_'\n",
    ")\n",
    "ax.set_xlim(-1., 15, 1)\n",
    "ax.set_ylim(-15, 15, 1)\n",
    "# ax.set_title(r'Digital Signal')\n",
    "plt.savefig(os.path.join(saved_dir, 'intro_dg.png')); plt.close()"
   ]
  },
  {
   "cell_type": "markdown",
   "metadata": {},
   "source": [
    "<style>\n",
    "td, th {\n",
    "   border: none!important;\n",
    "}\n",
    "table th:first-of-type  {\n",
    "    width: 50%;\n",
    "}\n",
    "table th:nth-of-type(2) {\n",
    "    width: 50%;\n",
    "}\n",
    "</style>\n",
    "|      |      |\n",
    "|:----:|:----:|\n",
    "|   Continuous-time Signals             |       Discrete-time Signals   |\n",
    "|![alt](signals/intro_ct.png)           | ![alt](signals/intro_dt.png)  |\n",
    "|   Quantized Signals                   |       Digital Signals         |\n",
    "|![alt](signals/intro_qt.png)           | ![alt](signals/intro_dg.png)  |"
   ]
  },
  {
   "cell_type": "markdown",
   "metadata": {},
   "source": [
    "## Classes of Signals"
   ]
  },
  {
   "cell_type": "markdown",
   "metadata": {},
   "source": [
    "### Even and Odd Signals"
   ]
  },
  {
   "cell_type": "code",
   "execution_count": null,
   "metadata": {
    "tags": [
     "hide_input"
    ]
   },
   "outputs": [],
   "source": [
    "# HIDE/SHOW\n",
    "f = sp.Piecewise(\n",
    "    (0, t<0),\n",
    "    (0.5, t==0),\n",
    "    (1, (t>0)&(t<=1)),           \n",
    "    (2-t, (t>=1)&(t<=2)), \n",
    "    (0, t>=2)\n",
    ")\n",
    "h = f.subs(t, t/5)\n",
    "\n",
    "###############################################################################\n",
    "fig, ax = plt.subplots(1, 1)\n",
    "mpl_axes_plot(ax, \n",
    "    expr=(h+h.subs(t, -t)), \n",
    "    xrange=(t, -60, 60), \n",
    "    color='b'\n",
    ")\n",
    "ax.set_xlim(-20, 20, 1)\n",
    "ax.set_ylim(-2., 2., 1)\n",
    "ax.set_title(r'$x(t)$')\n",
    "plt.savefig(os.path.join(saved_dir,'even_ct.png')); plt.close()\n",
    "\n",
    "fig, ax = plt.subplots(1, 1)\n",
    "mpl_axes_stem(ax, \n",
    "    expr=(h+h.subs(t, -t)), \n",
    "    xrange=(t, -60, 60, 1), \n",
    "    linefmt='b', \n",
    "    markerfmt='bo'\n",
    ")\n",
    "ax.stem(0, 1, basefmt=\" \", linefmt='b', markerfmt='bo')\n",
    "ax.set_xlim(-20, 20, 1)\n",
    "ax.set_ylim(-2., 2., 1)\n",
    "ax.set_title(r'$x(t)$')\n",
    "plt.savefig(os.path.join(saved_dir,'even_dt.png')); plt.close()\n",
    "\n",
    "###############################################################################\n",
    "fig, ax = plt.subplots(1, 1)\n",
    "mpl_axes_plot(ax, \n",
    "    expr=(h-h.subs(t, -t)), \n",
    "    xrange=(t, -60, 60), \n",
    "    color='b'\n",
    ")\n",
    "ax.set_xlim(-20, 20, 1)\n",
    "ax.set_ylim(-2., 2., 1)\n",
    "ax.set_title(r'$x[n]$')\n",
    "plt.savefig(os.path.join(saved_dir,'odd_ct.png')); plt.close()\n",
    "\n",
    "fig, ax = plt.subplots(1, 1)\n",
    "mpl_axes_stem(ax, \n",
    "    expr=(h-h.subs(t, -t)), \n",
    "    xrange=(t, -60, 60, 1), \n",
    "    linefmt='b', \n",
    "    markerfmt='bo'\n",
    ")\n",
    "ax.stem(0, 0, basefmt=\" \", linefmt='b', markerfmt='bo')\n",
    "ax.set_xlim(-20, 20, 1)\n",
    "ax.set_ylim(-2., 2., 1)\n",
    "ax.set_title(r'$x[n]$')\n",
    "plt.savefig(os.path.join(saved_dir,'odd_dt.png')); plt.close()"
   ]
  },
  {
   "cell_type": "markdown",
   "metadata": {},
   "source": [
    "<style>\n",
    "td, th {\n",
    "   border: none!important;\n",
    "}\n",
    "table th:first-of-type  {\n",
    "    width: 50%;\n",
    "}\n",
    "table th:nth-of-type(2) {\n",
    "    width: 50%;\n",
    "}\n",
    "</style>\n",
    "|      |      |\n",
    "|:----:|:----:|\n",
    "|![alt](signals/even_ct.png) | ![alt](signals/even_dt.png)|\n",
    "|![alt](signals/odd_ct.png)  | ![alt](signals/odd_dt.png) |"
   ]
  },
  {
   "cell_type": "markdown",
   "metadata": {},
   "source": [
    "### Aperiodic and Periodic Signals"
   ]
  },
  {
   "cell_type": "code",
   "execution_count": null,
   "metadata": {
    "tags": [
     "hide_input"
    ]
   },
   "outputs": [],
   "source": [
    "# HIDE/SHOW\n",
    "n = sp.Piecewise(\n",
    "    (0, t<0),\n",
    "    (0, t>5),\n",
    "    (1-t/5, (0<=t)&(t<=5)),  \n",
    ").subs(t, t+2)\n",
    "\n",
    "p = sp.Piecewise(\n",
    "    (0, t<0),\n",
    "    (0, t>=5),\n",
    "    (1-t/5, (0<=t)&(t<=5)),  \n",
    ").subs(t, t+3)\n",
    "\n",
    "fig, ax = plt.subplots(1, 1)\n",
    "mpl_axes_plot(ax, n, (t, -40, 40), color='b')\n",
    "ax.set_xlim(-20, 20, 1)\n",
    "ax.set_ylim(-2., 2., 1)\n",
    "ax.set_title(r'$x(t)$')\n",
    "plt.savefig(os.path.join(saved_dir, 'aperiodic_ct.png')); plt.close()\n",
    "\n",
    "fig, ax = plt.subplots(1, 1)\n",
    "mpl_axes_stem(ax, n, (t, -40, 40, 1), linefmt='b', markerfmt='bo')\n",
    "ax.set_xlim(-20, 20, 1)\n",
    "ax.set_ylim(-2., 2., 1)\n",
    "ax.set_title(r'$x[n]$')\n",
    "plt.savefig(os.path.join(saved_dir, 'aperiodic_dt.png')); plt.close()\n",
    "\n",
    "###############################################################################\n",
    "fig, ax = plt.subplots(1, 1)\n",
    "for k in range(-5, 5):\n",
    "    mpl_axes_plot(ax, p.subs(t, -t).subs(t, t+k*5), (t, -40, 40), zero_is_none=False, color='b')\n",
    "ax.set_xlim(-20, 20, 1)\n",
    "ax.set_ylim(-2., 2., 1)\n",
    "ax.set_title(r'$x(t)$')\n",
    "plt.savefig(os.path.join(saved_dir, 'periodic_ct.png')); plt.close()\n",
    "\n",
    "fig, ax = plt.subplots(1, 1)\n",
    "for k in range(-5, 5):\n",
    "    mpl_axes_stem(ax, p.subs(t, -t).subs(t, t+k*5), (t, -40, 40, 1), zero_is_none=True, linefmt='b', markerfmt='bo')\n",
    "ax.set_xlim(-20, 20, 1)\n",
    "ax.set_ylim(-2., 2., 1)\n",
    "ax.set_title(r'$x[n]$')\n",
    "plt.savefig(os.path.join(saved_dir, 'periodic_dt.png')); plt.close()"
   ]
  },
  {
   "cell_type": "markdown",
   "metadata": {},
   "source": [
    "<style>\n",
    "td, th {\n",
    "   border: none!important;\n",
    "}\n",
    "table th:first-of-type  {\n",
    "    width: 50%;\n",
    "}\n",
    "table th:nth-of-type(2) {\n",
    "    width: 50%;\n",
    "}\n",
    "</style>\n",
    "|      |      |\n",
    "|:----:|:----:|\n",
    "|![alt](signals/aperiodic_ct.png) | ![alt](signals/aperiodic_dt.png)|\n",
    "|![alt](signals/periodic_ct.png)  | ![alt](signals/periodic_dt.png) |"
   ]
  },
  {
   "cell_type": "markdown",
   "metadata": {},
   "source": [
    "### Sinusoidal Signals"
   ]
  },
  {
   "cell_type": "code",
   "execution_count": null,
   "metadata": {
    "tags": [
     "hide_input"
    ]
   },
   "outputs": [],
   "source": [
    "# HIDE/SHOW\n",
    "fig, ax = plt.subplots(1, 1)\n",
    "mpl_axes_plot(ax, sp.sin(t*(sp.pi/8)), (t, -40, 40), color='b')\n",
    "ax.set_xlim(-20, 20, 1)\n",
    "ax.set_ylim(-2., 2., 1)\n",
    "ax.set_title(r'$x(t)$')\n",
    "plt.savefig(os.path.join(saved_dir, 'sine_ct.png')); plt.close()\n",
    "\n",
    "fig, ax = plt.subplots(1, 1)\n",
    "mpl_axes_stem(ax, sp.sin(t*(sp.pi/8)), (t, -40, 40, 1), linefmt='b', markerfmt='bo')\n",
    "ax.set_xlim(-20, 20, 1)\n",
    "ax.set_ylim(-2., 2., 1)\n",
    "ax.set_title(r'$x[n]$')\n",
    "plt.savefig(os.path.join(saved_dir, 'sine_dt.png')); plt.close()\n",
    "\n",
    "###############################################################################\n",
    "fig, ax = plt.subplots(1, 1)\n",
    "mpl_axes_plot(ax, sp.cos(t*(sp.pi/8)), (t, -40, 40), color='b')\n",
    "ax.set_xlim(-20, 20, 1)\n",
    "ax.set_ylim(-2., 2., 1)\n",
    "ax.set_title(r'$x(t)$')\n",
    "plt.savefig(os.path.join(saved_dir, 'cosine_ct.png')); plt.close()\n",
    "\n",
    "fig, ax = plt.subplots(1, 1)\n",
    "mpl_axes_stem(ax, sp.cos(t*(sp.pi/8)), (t, -40, 40, 1), linefmt='b', markerfmt='bo')\n",
    "ax.set_xlim(-20, 20, 1)\n",
    "ax.set_ylim(-2., 2., 1)\n",
    "ax.set_title(r'$x[n]$')\n",
    "plt.savefig(os.path.join(saved_dir, 'cosine_dt.png')); plt.close()"
   ]
  },
  {
   "cell_type": "markdown",
   "metadata": {},
   "source": [
    "<style>\n",
    "td, th {\n",
    "   border: none!important;\n",
    "}\n",
    "table th:first-of-type  {\n",
    "    width: 50%;\n",
    "}\n",
    "table th:nth-of-type(2) {\n",
    "    width: 50%;\n",
    "}\n",
    "</style>\n",
    "|      |      |\n",
    "|:----:|:----:|\n",
    "|![alt](signals/sine_ct.png)     | ![alt](signals/sine_dt.png)    |\n",
    "|![alt](signals/cosine_ct.png)   | ![alt](signals/cosine_dt.png)  |"
   ]
  },
  {
   "cell_type": "markdown",
   "metadata": {},
   "source": [
    "### Real Exponential Signals"
   ]
  },
  {
   "cell_type": "code",
   "execution_count": null,
   "metadata": {
    "tags": [
     "hide_input"
    ]
   },
   "outputs": [],
   "source": [
    "# HIDE/SHOW\n",
    "fig, ax = plt.subplots(1, 1)\n",
    "mpl_axes_plot(ax, sp.exp((t)/5), (t, -40, 40), color='b')\n",
    "ax.scatter(0, 1, color='b')\n",
    "ax.set_xlim(-10, 10, 1)\n",
    "ax.set_ylim(0, 8, 1)\n",
    "ax.set_title(r'$x(t) = Ce^{at}  \\qquad  a>0$')\n",
    "plt.savefig(os.path.join(saved_dir, 'realexppos_ct.png')); plt.close()\n",
    "\n",
    "fig, ax = plt.subplots(1, 1)\n",
    "mpl_axes_stem(ax, sp.exp((t)/5), (t, -40, 40, 0.5), linefmt='b', markerfmt='bo')\n",
    "ax.set_xlim(-10, 10, 1)\n",
    "ax.set_ylim(0, 8, 1)\n",
    "ax.set_title(r'$x[n] = Ce^{an}  \\qquad  a>0$')\n",
    "plt.savefig(os.path.join(saved_dir, 'realexppos_dt.png')); plt.close()\n",
    "\n",
    "###############################################################################\n",
    "fig, ax = plt.subplots(1, 1)\n",
    "mpl_axes_plot(ax, sp.exp((-t)/5), (t, -40, 40), color='b')\n",
    "ax.scatter(0, 1, color='b')\n",
    "ax.set_xlim(-10, 10, 1)\n",
    "ax.set_ylim(0, 8, 1)\n",
    "ax.set_title(r'$x(t) = Ce^{at}  \\qquad  a<0$')\n",
    "plt.savefig(os.path.join(saved_dir, 'realexpneg_ct.png')); plt.close()\n",
    "\n",
    "fig, ax = plt.subplots(1, 1)\n",
    "mpl_axes_stem(ax, sp.exp((-t)/5), (t, -40, 40, 0.5), linefmt='b', markerfmt='bo')\n",
    "ax.set_xlim(-10, 10, 1)\n",
    "ax.set_ylim(0, 8, 1)\n",
    "ax.set_title(r'$x[n] = Ce^{an}  \\qquad  a<0$')\n",
    "plt.savefig(os.path.join(saved_dir, 'realexpneg_dt.png')); plt.close()"
   ]
  },
  {
   "cell_type": "markdown",
   "metadata": {},
   "source": [
    "<style>\n",
    "td, th {\n",
    "   border: none!important;\n",
    "}\n",
    "table th:first-of-type  {\n",
    "    width: 50%;\n",
    "}\n",
    "table th:nth-of-type(2) {\n",
    "    width: 50%;\n",
    "}\n",
    "</style>\n",
    "|      |      |\n",
    "|:----:|:----:|\n",
    "|![alt](signals/realexppos_ct.png) | ![alt](signals/realexppos_dt.png)    |\n",
    "|![alt](signals/realexpneg_ct.png) | ![alt](signals/realexpneg_dt.png)    |"
   ]
  },
  {
   "cell_type": "markdown",
   "metadata": {},
   "source": [
    "### Complex Exponential Signals"
   ]
  },
  {
   "cell_type": "code",
   "execution_count": null,
   "metadata": {
    "tags": [
     "hide_input"
    ]
   },
   "outputs": [],
   "source": [
    "# HIDE/SHOW\n",
    "fig, ax = plt.subplots(1, 1)\n",
    "mpl_axes_plot(ax, sp.exp((t)/10)*sp.cos(2*np.pi*t/10), (t, -40, 40), color='b')\n",
    "mpl_axes_plot(ax, sp.exp((t)/10)*(+1), (t, -40, 40), color='b', alpha=0.5, linestyle='--')\n",
    "mpl_axes_plot(ax, sp.exp((t)/10)*(-1), (t, -40, 40), color='b', alpha=0.5, linestyle='--')\n",
    "ax.scatter(0, 1, color='b')\n",
    "ax.set_xlim(-10, 10, 1)\n",
    "ax.set_ylim(-3., 3., 1)\n",
    "ax.set_title(r'$x(t) = Ce^{rt}\\cos(\\omega_0t+\\phi) \\qquad r>0$')\n",
    "plt.savefig(os.path.join(saved_dir, 'compexppos_ct.png')); plt.close()\n",
    "\n",
    "fig, ax = plt.subplots(1, 1)\n",
    "mpl_axes_stem(ax, sp.exp((t)/10)*sp.cos(2*np.pi*t/10), (t, -40, 40, 0.5), linefmt='b', markerfmt='bo')\n",
    "mpl_axes_plot(ax, sp.exp((t)/10)*(+1), (t, -40, 40), color='b', alpha=0.5, linestyle='--')\n",
    "mpl_axes_plot(ax, sp.exp((t)/10)*(-1), (t, -40, 40), color='b', alpha=0.5, linestyle='--')\n",
    "ax.set_xlim(-10, 10, 1)\n",
    "ax.set_ylim(-3., 3., 1)\n",
    "ax.set_title(r'$x[n] = Ce^{rn}\\cos[\\omega_0n+\\phi] \\qquad r>0$')\n",
    "plt.savefig(os.path.join(saved_dir, 'compexppos_dt.png')); plt.close()\n",
    "\n",
    "###############################################################################\n",
    "fig, ax = plt.subplots(1, 1)\n",
    "mpl_axes_plot(ax, sp.exp((-t)/10)*sp.cos(2*np.pi*t/10), (t, -40, 40), color='b')\n",
    "mpl_axes_plot(ax, sp.exp((-t)/10)*(+1), (t, -40, 40), color='b', alpha=0.5, linestyle='--')\n",
    "mpl_axes_plot(ax, sp.exp((-t)/10)*(-1), (t, -40, 40), color='b', alpha=0.5, linestyle='--')\n",
    "ax.scatter(0, 1, color='b')\n",
    "ax.set_xlim(-10, 10, 1)\n",
    "ax.set_ylim(-3., 3., 1)\n",
    "ax.set_title(r'$x(t) = Ce^{rt}\\cos(\\omega_0t+\\phi) \\qquad r<0$')\n",
    "plt.savefig(os.path.join(saved_dir, 'compexpneg_ct.png')); plt.close()\n",
    "\n",
    "fig, ax = plt.subplots(1, 1)\n",
    "mpl_axes_stem(ax, sp.exp((-t)/10)*sp.cos(2*np.pi*t/10), (t, -40, 40, 0.5), linefmt='b', markerfmt='bo')\n",
    "mpl_axes_plot(ax, sp.exp((-t)/10)*(+1), (t, -40, 40), color='b', alpha=0.5, linestyle='--')\n",
    "mpl_axes_plot(ax, sp.exp((-t)/10)*(-1), (t, -40, 40), color='b', alpha=0.5, linestyle='--')\n",
    "ax.set_xlim(-10, 10, 1)\n",
    "ax.set_ylim(-3., 3., 1)\n",
    "ax.set_title(r'$x[n] = Ce^{rn}\\cos[\\omega_0n+\\phi] \\qquad r<0$')\n",
    "plt.savefig(os.path.join(saved_dir, 'compexpneg_dt.png')); plt.close()"
   ]
  },
  {
   "cell_type": "markdown",
   "metadata": {},
   "source": [
    "<style>\n",
    "td, th {\n",
    "   border: none!important;\n",
    "}\n",
    "table th:first-of-type  {\n",
    "    width: 50%;\n",
    "}\n",
    "table th:nth-of-type(2) {\n",
    "    width: 50%;\n",
    "}\n",
    "</style>\n",
    "|      |      |\n",
    "|:----:|:----:|\n",
    "|![alt](signals/compexppos_ct.png) | ![alt](signals/compexppos_dt.png)    |\n",
    "|![alt](signals/compexpneg_ct.png) | ![alt](signals/compexpneg_dt.png)    |"
   ]
  },
  {
   "cell_type": "markdown",
   "metadata": {},
   "source": [
    "## Elementary Signals"
   ]
  },
  {
   "cell_type": "markdown",
   "metadata": {},
   "source": [
    "### Ramp Functions"
   ]
  },
  {
   "cell_type": "code",
   "execution_count": null,
   "metadata": {
    "tags": [
     "hide_input"
    ]
   },
   "outputs": [],
   "source": [
    "# HIDE/SHOW\n",
    "fig, ax = plt.subplots(1, 1)\n",
    "mpl_axes_plot(ax, t*sp.Heaviside(t, 1), (t, -40, 40), color='b')\n",
    "ax.set_xlim(-5., 5., 1)\n",
    "ax.set_ylim(-1., 5., 1)\n",
    "ax.set_title(r'$ramp(t)$')\n",
    "plt.savefig(os.path.join(saved_dir, 'ramp_ct.png')); plt.close()\n",
    "\n",
    "fig, ax = plt.subplots(1, 1)\n",
    "mpl_axes_stem(ax, t*sp.Heaviside(t, 1), (t, -40, 40, 0.25), linefmt='b', markerfmt='bo')\n",
    "ax.set_xlim(-5., 5., 1)\n",
    "ax.set_ylim(-1., 5., 1)\n",
    "ax.set_title(r'$ramp[n]$')\n",
    "plt.savefig(os.path.join(saved_dir, 'ramp_dt.png')); plt.close()"
   ]
  },
  {
   "cell_type": "markdown",
   "metadata": {},
   "source": [
    "<style>\n",
    "td, th {\n",
    "   border: none!important;\n",
    "}\n",
    "table th:first-of-type  {\n",
    "    width: 50%;\n",
    "}\n",
    "table th:nth-of-type(2) {\n",
    "    width: 50%;\n",
    "}\n",
    "</style>\n",
    "|      |      |\n",
    "|:----:|:----:|\n",
    "|![alt](signals/rampct._png) | ![alt](signals/rampdt._png)    |"
   ]
  },
  {
   "cell_type": "markdown",
   "metadata": {},
   "source": [
    "### Signum Functions"
   ]
  },
  {
   "cell_type": "code",
   "execution_count": null,
   "metadata": {
    "tags": [
     "hide_input"
    ]
   },
   "outputs": [],
   "source": [
    "# HIDE/SHOW\n",
    "fig, ax = plt.subplots(1, 1)\n",
    "mpl_axes_plot(ax, sp.Heaviside(t, 0.5)*2-1, (t, -40, 40), color='b')\n",
    "ax.set_xlim(-5., 5., 1)\n",
    "ax.set_ylim(-2., 2., 1)\n",
    "ax.set_title(r'$sign(t)$')\n",
    "plt.savefig(os.path.join(saved_dir, 'sign_ct.png')); plt.close()\n",
    "\n",
    "fig, ax = plt.subplots(1, 1)\n",
    "mpl_axes_stem(ax, sp.Heaviside(t, 0.5)*2-1, (t, -40, 40, 0.25), linefmt='b', markerfmt='bo')\n",
    "ax.set_xlim(-5., 5., 1)\n",
    "ax.set_ylim(-2., 2., 1)\n",
    "ax.set_title(r'$sign[n]$')\n",
    "plt.savefig(os.path.join(saved_dir, 'sign_dt.png')); plt.close()"
   ]
  },
  {
   "cell_type": "markdown",
   "metadata": {},
   "source": [
    "<style>\n",
    "td, th {\n",
    "   border: none!important;\n",
    "}\n",
    "table th:first-of-type  {\n",
    "    width: 50%;\n",
    "}\n",
    "table th:nth-of-type(2) {\n",
    "    width: 50%;\n",
    "}\n",
    "</style>\n",
    "|      |      |\n",
    "|:----:|:----:|\n",
    "|![alt](signals/sign_ct.png) | ![alt](signals/sign_dt.png)|"
   ]
  },
  {
   "cell_type": "markdown",
   "metadata": {},
   "source": [
    "### Step Functions"
   ]
  },
  {
   "cell_type": "code",
   "execution_count": null,
   "metadata": {
    "tags": [
     "hide_input"
    ]
   },
   "outputs": [],
   "source": [
    "# HIDE/SHOW\n",
    "fig, ax = plt.subplots(1, 1)\n",
    "mpl_axes_plot(ax, sp.Heaviside(t, 1), (t, -10, 10), color='b')\n",
    "ax.set_xlim(-5., 5., 1)\n",
    "ax.set_ylim(-2., 2., 1)\n",
    "ax.set_title(r'$u(t)$')\n",
    "plt.savefig(os.path.join(saved_dir, 'step_ct.png')); plt.close()\n",
    "\n",
    "fig, ax = plt.subplots(1, 1)\n",
    "mpl_axes_stem(ax, sp.Heaviside(t, 1), (t, -10, 10, 0.25), linefmt='b', markerfmt='bo')\n",
    "ax.set_xlim(-5., 5., 1)\n",
    "ax.set_ylim(-2., 2., 1)\n",
    "ax.set_title(r'$u[n]$')\n",
    "plt.savefig(os.path.join(saved_dir, 'step_dt.png')); plt.close()"
   ]
  },
  {
   "cell_type": "markdown",
   "metadata": {},
   "source": [
    "<style>\n",
    "td, th {\n",
    "   border: none!important;\n",
    "}\n",
    "table th:first-of-type  {\n",
    "    width: 50%;\n",
    "}\n",
    "table th:nth-of-type(2) {\n",
    "    width: 50%;\n",
    "}\n",
    "</style>\n",
    "|      |      |\n",
    "|:----:|:----:|\n",
    "|![alt](signals/step_ct.png) | ![alt](signals/step_dt.png)    |"
   ]
  },
  {
   "cell_type": "markdown",
   "metadata": {},
   "source": [
    "### Unit Rectangle Functions"
   ]
  },
  {
   "cell_type": "code",
   "execution_count": null,
   "metadata": {
    "tags": [
     "hide_input"
    ]
   },
   "outputs": [],
   "source": [
    "# HIDE/SHOW\n",
    "rect = sp.Piecewise(\n",
    "    (0, sp.Or(sp.StrictLessThan(t, -1/2), sp.StrictGreaterThan(t, 1/2))),\n",
    "    (1, sp.And(sp.LessThan(t, 1/2), sp.GreaterThan(t, -1/2))),\n",
    ")\n",
    "\n",
    "fig, ax = plt.subplots(1, 1)\n",
    "mpl_axes_plot(ax, rect, (t, -40, 40), color='b')\n",
    "ax.set_xlim(-5., 5., 1)\n",
    "ax.set_ylim(-2., 2., 1)\n",
    "ax.set_title(r'$rect(t)$')\n",
    "plt.savefig(os.path.join(saved_dir, 'rect_ct.png')); plt.close()\n",
    "\n",
    "fig, ax = plt.subplots(1, 1)\n",
    "mpl_axes_stem(ax, rect, (t, -40, 40, 0.25), linefmt='b', markerfmt='bo')\n",
    "ax.set_xlim(-5., 5., 1)\n",
    "ax.set_ylim(-2., 2., 1)\n",
    "ax.set_title(r'$rect[n]$')\n",
    "plt.savefig(os.path.join(saved_dir, 'rect_dt.png')); plt.close()"
   ]
  },
  {
   "cell_type": "markdown",
   "metadata": {},
   "source": [
    "<style>\n",
    "td, th {\n",
    "   border: none!important;\n",
    "}\n",
    "table th:first-of-type  {\n",
    "    width: 50%;\n",
    "}\n",
    "table th:nth-of-type(2) {\n",
    "    width: 50%;\n",
    "}\n",
    "</style>\n",
    "|      |      |\n",
    "|:----:|:----:|\n",
    "|![alt](signals/rect_ct.png) | ![alt](signals/rect_dt.png)|"
   ]
  },
  {
   "cell_type": "markdown",
   "metadata": {},
   "source": [
    "### Unit Triangle Functions"
   ]
  },
  {
   "cell_type": "code",
   "execution_count": null,
   "metadata": {
    "tags": [
     "hide_input"
    ]
   },
   "outputs": [],
   "source": [
    "# HIDE/SHOW\n",
    "ramp = t*sp.Heaviside(t, 1)\n",
    "tri = ramp.subs(t, t+1) - 2*ramp.subs(t, t) + ramp.subs(t, t-1)\n",
    "\n",
    "fig, ax = plt.subplots(1, 1)\n",
    "mpl_axes_plot(ax, tri, (t, -40, 40), color='b')\n",
    "ax.set_xlim(-5., 5., 1)\n",
    "ax.set_ylim(-2., 2., 1)\n",
    "ax.set_title(r'$tri(t)$')\n",
    "plt.savefig(os.path.join(saved_dir, 'tri_ct.png')); plt.close()\n",
    "\n",
    "fig, ax = plt.subplots(1, 1)\n",
    "mpl_axes_stem(ax, tri, (t, -40, 40, 0.25), linefmt='b', markerfmt='bo')\n",
    "ax.set_xlim(-5., 5., 1)\n",
    "ax.set_ylim(-2., 2., 1)\n",
    "ax.set_title(r'$tri[n]$')\n",
    "plt.savefig(os.path.join(saved_dir, 'tri_dt.png')); plt.close()"
   ]
  },
  {
   "cell_type": "markdown",
   "metadata": {},
   "source": [
    "<style>\n",
    "td, th {\n",
    "   border: none!important;\n",
    "}\n",
    "table th:first-of-type  {\n",
    "    width: 50%;\n",
    "}\n",
    "table th:nth-of-type(2) {\n",
    "    width: 50%;\n",
    "}\n",
    "</style>\n",
    "|      |      |\n",
    "|:----:|:----:|\n",
    "|![alt](signals/tri_ct.png) | ![alt](signals/tri_dt.png)  |"
   ]
  },
  {
   "cell_type": "markdown",
   "metadata": {},
   "source": [
    "### Unit Sinc Functions"
   ]
  },
  {
   "cell_type": "code",
   "execution_count": null,
   "metadata": {
    "tags": [
     "hide_input"
    ]
   },
   "outputs": [],
   "source": [
    "# HIDE/SHOW\n",
    "sinc = sp.sin(sp.pi*t)/(sp.pi*t)\n",
    "fig, ax = plt.subplots(1, 1)\n",
    "mpl_axes_plot(ax, sinc.subs(t, t+1e-8), (t, -40, 40), color='b')\n",
    "ax.set_xlim(-5., 5., 1)\n",
    "ax.set_ylim(-2., 2., 1)\n",
    "ax.set_title(r'$sinc(t)$')\n",
    "plt.savefig(os.path.join(saved_dir, 'sinc_ct.png')); plt.close()\n",
    "\n",
    "fig, ax = plt.subplots(1, 1)\n",
    "mpl_axes_stem(ax, sinc.subs(t, t+1e-8), (t, -40, 40, 0.25), linefmt='b', markerfmt='bo')\n",
    "ax.set_xlim(-5., 5., 1)\n",
    "ax.set_ylim(-2., 2., 1)\n",
    "ax.set_title(r'$sinc[n]$')\n",
    "plt.savefig(os.path.join(saved_dir, 'sinc_dt.png')); plt.close()"
   ]
  },
  {
   "cell_type": "markdown",
   "metadata": {},
   "source": [
    "<style>\n",
    "td, th {\n",
    "   border: none!important;\n",
    "}\n",
    "table th:first-of-type  {\n",
    "    width: 50%;\n",
    "}\n",
    "table th:nth-of-type(2) {\n",
    "    width: 50%;\n",
    "}\n",
    "</style>\n",
    "|      |      |\n",
    "|:----:|:----:|\n",
    "|![alt](signals/sinc_ct.png) | ![alt](signals/sinc_dt.png)    |"
   ]
  },
  {
   "cell_type": "markdown",
   "metadata": {},
   "source": [
    "### Unit Impulse Functions"
   ]
  },
  {
   "cell_type": "code",
   "execution_count": null,
   "metadata": {
    "tags": [
     "hide_input"
    ]
   },
   "outputs": [],
   "source": [
    "# HIDE/SHOW\n",
    "delta = sp.Piecewise(\n",
    "    (1, sp.Equality(t, 0)),\n",
    "    (0, sp.Or(sp.StrictLessThan(t, 0), sp.StrictGreaterThan(t, 0))),\n",
    ")\n",
    "\n",
    "fig, ax = plt.subplots(1, 1)\n",
    "mpl_axes_stem(ax, delta, (t, -40, 40, 0.25), linefmt='m', markerfmt=' ')\n",
    "ax.scatter(0, 1, color='m', marker='^', s=100)\n",
    "ax.set_xlim(-5., 5., 1)\n",
    "ax.set_ylim(-2., 2., 1)\n",
    "ax.set_title(r'$\\delta(t)$')\n",
    "plt.savefig(os.path.join(saved_dir, 'delta_ct.png')); plt.close()\n",
    "\n",
    "fig, ax = plt.subplots(1, 1)\n",
    "mpl_axes_stem(ax, delta, (t, -40, 40, 0.25), linefmt='b', markerfmt='bo')\n",
    "ax.set_xlim(-5., 5., 1)\n",
    "ax.set_ylim(-2., 2., 1)\n",
    "ax.set_title(r'$\\delta[n]$')\n",
    "plt.savefig(os.path.join(saved_dir, 'delta_dt.png')); plt.close()"
   ]
  },
  {
   "cell_type": "markdown",
   "metadata": {},
   "source": [
    "<style>\n",
    "td, th {\n",
    "   border: none!important;\n",
    "}\n",
    "table th:first-of-type  {\n",
    "    width: 50%;\n",
    "}\n",
    "table th:nth-of-type(2) {\n",
    "    width: 50%;\n",
    "}\n",
    "</style>\n",
    "|      |      |\n",
    "|:----:|:----:|\n",
    "|![alt](signals/delta_ct.png) | ![alt](signals/delta_dt.png)  |"
   ]
  }
 ],
 "metadata": {
  "kernelspec": {
   "display_name": "Python 3.9.12 ('base')",
   "language": "python",
   "name": "python3"
  },
  "language_info": {
   "codemirror_mode": {
    "name": "ipython",
    "version": 3
   },
   "file_extension": ".py",
   "mimetype": "text/x-python",
   "name": "python",
   "nbconvert_exporter": "python",
   "pygments_lexer": "ipython3",
   "version": "3.9.12"
  },
  "vscode": {
   "interpreter": {
    "hash": "d594796bd8f1bbcbba7d96410b19473b7dd37b87d2c9c997260c2628fe83e732"
   }
  }
 },
 "nbformat": 4,
 "nbformat_minor": 4
}
