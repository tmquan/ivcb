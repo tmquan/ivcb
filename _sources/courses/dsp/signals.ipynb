{
 "cells": [
  {
   "cell_type": "markdown",
   "metadata": {},
   "source": [
    "# Signals and Sequences"
   ]
  },
  {
   "cell_type": "markdown",
   "metadata": {},
   "source": [
    "## Prerequisites"
   ]
  },
  {
   "cell_type": "code",
   "execution_count": null,
   "metadata": {
    "tags": [
     "hide_input"
    ]
   },
   "outputs": [],
   "source": [
    "# ! pip install -U sympy \n",
    "# ! pip install -U numpy\n",
    "# ! pip install -U matplotlib\n",
    "\n",
    "# ! sudo apt install -y cm-super\n",
    "# ! sudo apt install -y texlive texlive-latex-extra texlive-fonts-recommended dvipng"
   ]
  },
  {
   "cell_type": "markdown",
   "metadata": {},
   "source": [
    "## SimVis in Python"
   ]
  },
  {
   "cell_type": "code",
   "execution_count": null,
   "metadata": {
    "tags": [
     "hide_input"
    ]
   },
   "outputs": [],
   "source": [
    "# HIDE/SHOW\n",
    "# %reset -f\n",
    "! rm -rfv *.png *.jpg\n",
    "import os\n",
    "import shutil\n",
    "import warnings\n",
    "warnings.filterwarnings('ignore')\n",
    "\n",
    "from IPython.display import display, HTML\n",
    "import sympy as sp\n",
    "import numpy as np\n",
    "from lcapy import Circuit\n",
    "\n",
    "from sympy.abc import t, x, y\n",
    "import matplotlib.pyplot as plt\n",
    "from matplotlib.ticker import MaxNLocator\n",
    "\n",
    "saved_dir = \"signals\"\n",
    "if os.path.exists(saved_dir):\n",
    "    shutil.rmtree(saved_dir)\n",
    "os.makedirs(saved_dir)\n",
    "\n",
    "plt.rcParams['text.usetex'] = True\n",
    "plt.rcParams['font.family'] = 'serif'\n",
    "plt.rcParams['font.serif'] = ['Computer Modern Roman']\n",
    "plt.rcParams['font.sans-serif'] = ['Computer Modern Sans Serif']\n",
    "plt.rcParams['font.size'] = 24\n",
    "plt.rcParams['figure.figsize'] = (12, 8)\n",
    "plt.rcParams['axes.labelsize'] = 24\n",
    "plt.rcParams['axes.titlesize'] = 24\n",
    "plt.rcParams['xtick.labelsize'] = 16\n",
    "plt.rcParams['ytick.labelsize'] = 16\n",
    "%matplotlib inline "
   ]
  },
  {
   "cell_type": "markdown",
   "metadata": {},
   "source": [
    "## Utilizations"
   ]
  },
  {
   "cell_type": "code",
   "execution_count": null,
   "metadata": {
    "tags": [
     "hide_input"
    ]
   },
   "outputs": [],
   "source": [
    "# HIDE/SHOW            \n",
    "def mpl_axes_plot(axes, expr, xrange, zero_is_none=False, **kwargs):\n",
    "    x, start, stop = xrange\n",
    "    func = sp.lambdify(x, expr)\n",
    "    x = np.linspace(start, stop, 10000)\n",
    "    y = func(x)\n",
    "    axes.tick_params(axis='x')\n",
    "    axes.tick_params(axis='y')\n",
    "    axes.xaxis.set_major_locator(MaxNLocator(integer=True))\n",
    "    axes.yaxis.set_major_locator(MaxNLocator(integer=True))\n",
    "    axes.grid(False)\n",
    "    axes.margins(0.02, 0.02)\n",
    "    if zero_is_none:\n",
    "        y[y==0] = np.nan\n",
    "    axes.plot(x, y, **kwargs)\n",
    "    axes.plot(x, np.zeros_like(x), color='k', alpha=0.5)\n",
    "    return axes\n",
    "    \n",
    "def mpl_axes_stem(axes, expr, xrange, zero_is_none=False, **kwargs):\n",
    "    x, start, stop, step = xrange\n",
    "    func = sp.lambdify(x, expr, ['numpy', 'sympy'])\n",
    "    x = np.arange(start, stop, step)\n",
    "    y = func(x)\n",
    "    axes.tick_params(axis='x')\n",
    "    axes.tick_params(axis='y')\n",
    "    axes.xaxis.set_major_locator(MaxNLocator(integer=True))\n",
    "    axes.yaxis.set_major_locator(MaxNLocator(integer=True))\n",
    "    axes.grid(False)\n",
    "    axes.margins(0.02, 0.02)\n",
    "    axes.plot(x, np.zeros_like(x), color='k', alpha=0.5)\n",
    "    if zero_is_none:\n",
    "        y[y==0] = np.nan\n",
    "    axes.stem(x, y, basefmt=\" \", use_line_collection=True, **kwargs)\n",
    "    return axes\n",
    "    \n",
    "def mpl_axes_step(axes, expr, xrange, **kwargs):\n",
    "    x, start, stop, step = xrange\n",
    "    func = sp.lambdify(x, expr)\n",
    "    x = np.arange(start, stop, step)\n",
    "    y = func(x)\n",
    "    axes.tick_params(axis='x')\n",
    "    axes.tick_params(axis='y')\n",
    "    axes.xaxis.set_major_locator(MaxNLocator(integer=True))\n",
    "    axes.yaxis.set_major_locator(MaxNLocator(integer=True))\n",
    "    axes.grid(False)\n",
    "    axes.margins(0.02, 0.02)\n",
    "    axes.plot(x, np.zeros_like(x), color='k', alpha=0.5)\n",
    "    return axes.step(x, y, **kwargs)"
   ]
  },
  {
   "cell_type": "markdown",
   "metadata": {},
   "source": [
    "## What are Signals?\n",
    "\n",
    "- Signals convey information. \n",
    "- Signals are represented as mathematical functions of one or more independent variables. \n",
    "- Signals are represented as mathematical functions of one dimensional variable in time.\n",
    "\n"
   ]
  },
  {
   "cell_type": "markdown",
   "metadata": {},
   "source": [
    "## Types of Signals"
   ]
  },
  {
   "cell_type": "code",
   "execution_count": null,
   "metadata": {
    "tags": [
     "remove_cell"
    ]
   },
   "outputs": [],
   "source": [
    "# HIDDEN\n",
    "# Circuit(\"\"\"\n",
    "#     S1 box; l=$x(t)$, right=0.5, aspect=1.1, draw=white\n",
    "#     S2 box; l=$h(t)$, right=0.5, aspect=1.1, draw=black\n",
    "#     S3 box; l=$y(t)$, right=0.5, aspect=1.1, draw=white\n",
    "#     W S1.e S2.w; right=0.5, endarrow=stealth, color=black\n",
    "#     W S2.e S3.w; right=0.5, endarrow=stealth, color=black\n",
    "# ; label_nodes=false, scale=0.5\n",
    "# \"\"\").draw(\"ht.png\")\n",
    "\n",
    "# Circuit(\"\"\"\n",
    "#     S1 box; l=$x[n]$, right=0.5, aspect=1.1, draw=white\n",
    "#     S2 box; l=$h[n]$, right=0.5, aspect=1.1, draw=black\n",
    "#     S3 box; l=$y[n]$, right=0.5, aspect=1.1, draw=white\n",
    "#     W S1.e S2.w; right=0.5, endarrow=stealth, color=black\n",
    "#     W S2.e S3.w; right=0.5, endarrow=stealth, color=black\n",
    "#     ; label_nodes=false, scale=0.5\n",
    "# \"\"\").draw(\"hn.png\")\n",
    "\n",
    "# # display(HTML(\n",
    "# #     \"\"\"<table align=\"center\" style=\"margin: 0px auto;\">\n",
    "# #     <tr>\n",
    "# #     <th><img src=\"%s\"/></th>\n",
    "# #     <th><img src=\"%s\"/></th>\n",
    "# #     </tr></table>\"\"\"%(\"ht.png\", \"hn.png\")\n",
    "# # ))\n",
    "# display(HTML(\"<table><tr><td><img src='ht.png'></td><td><img src='hn.png'></td></tr></table>\"))"
   ]
  },
  {
   "cell_type": "code",
   "execution_count": null,
   "metadata": {
    "tags": [
     "hide_input"
    ]
   },
   "outputs": [],
   "source": [
    "# HIDE/SHOW\n",
    "h = t*sp.sin(t/1.7)\n",
    "\n",
    "###############################################################################\n",
    "fig, ax = plt.subplots(1, 1)\n",
    "mpl_axes_plot(ax, \n",
    "    expr=h, \n",
    "    xrange=(t, -60, 60), \n",
    "    color='b'\n",
    ")\n",
    "ax.set_xlim(-1., 15, 1)\n",
    "ax.set_ylim(-15, 15, 1)\n",
    "ax.set_title(r'Continuous-time Signal')\n",
    "plt.savefig(os.path.join(saved_dir, 'introct.png')); plt.close()\n",
    "\n",
    "fig, ax = plt.subplots(1, 1)\n",
    "mpl_axes_stem(ax, \n",
    "    expr=h, \n",
    "    xrange=(t, -60, 60, 0.5), \n",
    "    linefmt='b', \n",
    "    markerfmt='bo'\n",
    ")\n",
    "ax.set_xlim(-1., 15, 1)\n",
    "ax.set_ylim(-15, 15, 1)\n",
    "ax.set_title(r'Discrete-time Signal')\n",
    "plt.savefig(os.path.join(saved_dir, 'introdt.png')); plt.close()\n",
    "\n",
    "###############################################################################\n",
    "fig, ax = plt.subplots(1, 1)\n",
    "mpl_axes_step(ax, \n",
    "    expr=h, \n",
    "    xrange=(t, -60, 60, 0.5), \n",
    "    color='b'\n",
    ")\n",
    "ax.set_xlim(-1., 15, 1)\n",
    "ax.set_ylim(-15, 15, 1)\n",
    "ax.set_title(r'Quantized Signal')\n",
    "plt.savefig(os.path.join(saved_dir, 'introqt.png')); plt.close()\n",
    "\n",
    "fig, ax = plt.subplots(1, 1)\n",
    "mpl_axes_stem(ax, \n",
    "    expr=h.xreplace({n : round(n, 1) for n in h.atoms(sp.Number)}),\n",
    "    xrange=(t, -60, 60, 0.5), \n",
    "    linefmt='b', \n",
    "    markerfmt='b_'\n",
    ")\n",
    "ax.set_xlim(-1., 15, 1)\n",
    "ax.set_ylim(-15, 15, 1)\n",
    "ax.set_title(r'Digital Signal')\n",
    "plt.savefig(os.path.join(saved_dir, 'introdg.png')); plt.close()"
   ]
  },
  {
   "cell_type": "markdown",
   "metadata": {},
   "source": [
    "<style>\n",
    "td, th {\n",
    "   border: none!important;\n",
    "}\n",
    "table th:first-of-type  {\n",
    "    width: 50%;\n",
    "}\n",
    "table th:nth-of-type(2) {\n",
    "    width: 50%;\n",
    "}\n",
    "</style>\n",
    "|      |      |\n",
    "|:----:|:----:|\n",
    "|![alt](signals/introct.png) | ![alt](signals/introdt.png)|\n",
    "|![alt](signals/introqt.png) | ![alt](signals/introdg.png)|"
   ]
  },
  {
   "cell_type": "markdown",
   "metadata": {},
   "source": [
    "## Classes of Signals"
   ]
  },
  {
   "cell_type": "markdown",
   "metadata": {},
   "source": [
    "### Even and Odd Signals"
   ]
  },
  {
   "cell_type": "code",
   "execution_count": null,
   "metadata": {
    "tags": [
     "hide_input"
    ]
   },
   "outputs": [],
   "source": [
    "# HIDE/SHOW\n",
    "f = sp.Piecewise(\n",
    "    (0, t<0),\n",
    "    (0.5, t==0),\n",
    "    (1, (t>0)&(t<=1)),           \n",
    "    (2-t, (t>=1)&(t<=2)), \n",
    "    (0, t>=2)\n",
    ")\n",
    "h = f.subs(t, t/5)\n",
    "\n",
    "###############################################################################\n",
    "fig, ax = plt.subplots(1, 1)\n",
    "mpl_axes_plot(ax, \n",
    "    expr=(h+h.subs(t, -t)), \n",
    "    xrange=(t, -60, 60), \n",
    "    color='b'\n",
    ")\n",
    "ax.set_xlim(-20, 20, 1)\n",
    "ax.set_ylim(-2., 2., 1)\n",
    "ax.set_title(r'$x(t)$')\n",
    "plt.savefig(os.path.join(saved_dir,'evenct.png')); plt.close()\n",
    "\n",
    "fig, ax = plt.subplots(1, 1)\n",
    "mpl_axes_stem(ax, \n",
    "    expr=(h+h.subs(t, -t)), \n",
    "    xrange=(t, -60, 60, 1), \n",
    "    linefmt='b', \n",
    "    markerfmt='bo'\n",
    ")\n",
    "ax.stem(0, 1, basefmt=\" \", linefmt='b', markerfmt='bo')\n",
    "ax.set_xlim(-20, 20, 1)\n",
    "ax.set_ylim(-2., 2., 1)\n",
    "ax.set_title(r'$x(t)$')\n",
    "plt.savefig(os.path.join(saved_dir,'evendt.png')); plt.close()\n",
    "\n",
    "###############################################################################\n",
    "fig, ax = plt.subplots(1, 1)\n",
    "mpl_axes_plot(ax, \n",
    "    expr=(h-h.subs(t, -t)), \n",
    "    xrange=(t, -60, 60), \n",
    "    color='b'\n",
    ")\n",
    "ax.set_xlim(-20, 20, 1)\n",
    "ax.set_ylim(-2., 2., 1)\n",
    "ax.set_title(r'$x[n]$')\n",
    "plt.savefig(os.path.join(saved_dir,'oddct.png')); plt.close()\n",
    "\n",
    "fig, ax = plt.subplots(1, 1)\n",
    "mpl_axes_stem(ax, \n",
    "    expr=(h-h.subs(t, -t)), \n",
    "    xrange=(t, -60, 60, 1), \n",
    "    linefmt='b', \n",
    "    markerfmt='bo'\n",
    ")\n",
    "ax.stem(0, 0, basefmt=\" \", linefmt='b', markerfmt='bo')\n",
    "ax.set_xlim(-20, 20, 1)\n",
    "ax.set_ylim(-2., 2., 1)\n",
    "ax.set_title(r'$x[n]$')\n",
    "plt.savefig(os.path.join(saved_dir,'odddt.png')); plt.close()"
   ]
  },
  {
   "cell_type": "markdown",
   "metadata": {},
   "source": [
    "<style>\n",
    "td, th {\n",
    "   border: none!important;\n",
    "}\n",
    "table th:first-of-type  {\n",
    "    width: 50%;\n",
    "}\n",
    "table th:nth-of-type(2) {\n",
    "    width: 50%;\n",
    "}\n",
    "</style>\n",
    "|      |      |\n",
    "|:----:|:----:|\n",
    "|![alt](signals/evenct.png) | ![alt](signals/evendt.png)|\n",
    "|![alt](signals/oddct.png)  | ![alt](signals/odddt.png) |"
   ]
  },
  {
   "cell_type": "markdown",
   "metadata": {},
   "source": [
    "### Aperiodic and Periodic Signals"
   ]
  },
  {
   "cell_type": "code",
   "execution_count": null,
   "metadata": {
    "tags": [
     "hide_input"
    ]
   },
   "outputs": [],
   "source": [
    "# HIDE/SHOW\n",
    "n = sp.Piecewise(\n",
    "    (0, t<0),\n",
    "    (0, t>5),\n",
    "    (1-t/5, (0<=t)&(t<=5)),  \n",
    ").subs(t, t+2)\n",
    "\n",
    "p = sp.Piecewise(\n",
    "    (0, t<0),\n",
    "    (0, t>=5),\n",
    "    (1-t/5, (0<=t)&(t<=5)),  \n",
    ").subs(t, t+3)\n",
    "\n",
    "fig, ax = plt.subplots(1, 1)\n",
    "mpl_axes_plot(ax, n, (t, -40, 40), color='b')\n",
    "ax.set_xlim(-20, 20, 1)\n",
    "ax.set_ylim(-2., 2., 1)\n",
    "ax.set_title(r'$x(t)$')\n",
    "plt.savefig(os.path.join(saved_dir, 'aperiodicct.png')); plt.close()\n",
    "\n",
    "fig, ax = plt.subplots(1, 1)\n",
    "mpl_axes_stem(ax, n, (t, -40, 40, 1), linefmt='b', markerfmt='bo')\n",
    "ax.set_xlim(-20, 20, 1)\n",
    "ax.set_ylim(-2., 2., 1)\n",
    "ax.set_title(r'$x[n]$')\n",
    "plt.savefig(os.path.join(saved_dir, 'aperiodicdt.png')); plt.close()\n",
    "\n",
    "###############################################################################\n",
    "fig, ax = plt.subplots(1, 1)\n",
    "for k in range(-5, 5):\n",
    "    mpl_axes_plot(ax, p.subs(t, -t).subs(t, t+k*5), (t, -40, 40), zero_is_none=False, color='b')\n",
    "ax.set_xlim(-20, 20, 1)\n",
    "ax.set_ylim(-2., 2., 1)\n",
    "ax.set_title(r'$x(t)$')\n",
    "plt.savefig(os.path.join(saved_dir, 'periodicct.png')); plt.close()\n",
    "\n",
    "fig, ax = plt.subplots(1, 1)\n",
    "for k in range(-5, 5):\n",
    "    mpl_axes_stem(ax, p.subs(t, -t).subs(t, t+k*5), (t, -40, 40, 1), zero_is_none=True, linefmt='b', markerfmt='bo')\n",
    "ax.set_xlim(-20, 20, 1)\n",
    "ax.set_ylim(-2., 2., 1)\n",
    "ax.set_title(r'$x[n]$')\n",
    "plt.savefig(os.path.join(saved_dir, 'periodicdt.png')); plt.close()"
   ]
  },
  {
   "cell_type": "markdown",
   "metadata": {},
   "source": [
    "<style>\n",
    "td, th {\n",
    "   border: none!important;\n",
    "}\n",
    "table th:first-of-type  {\n",
    "    width: 50%;\n",
    "}\n",
    "table th:nth-of-type(2) {\n",
    "    width: 50%;\n",
    "}\n",
    "</style>\n",
    "|      |      |\n",
    "|:----:|:----:|\n",
    "|![alt](signals/aperiodicct.png) | ![alt](signals/aperiodicdt.png)|\n",
    "|![alt](signals/periodicct.png)  | ![alt](signals/periodicdt.png) |"
   ]
  },
  {
   "cell_type": "markdown",
   "metadata": {},
   "source": [
    "### Sinusoidal Signals"
   ]
  },
  {
   "cell_type": "code",
   "execution_count": null,
   "metadata": {
    "tags": [
     "hide_input"
    ]
   },
   "outputs": [],
   "source": [
    "# HIDE/SHOW\n",
    "fig, ax = plt.subplots(1, 1)\n",
    "mpl_axes_plot(ax, sp.sin(t*(sp.pi/8)), (t, -40, 40), color='b')\n",
    "ax.set_xlim(-20, 20, 1)\n",
    "ax.set_ylim(-2., 2., 1)\n",
    "ax.set_title(r'$x(t)$')\n",
    "plt.savefig(os.path.join(saved_dir, 'sinect.png')); plt.close()\n",
    "\n",
    "fig, ax = plt.subplots(1, 1)\n",
    "mpl_axes_stem(ax, sp.sin(t*(sp.pi/8)), (t, -40, 40, 1), linefmt='b', markerfmt='bo')\n",
    "ax.set_xlim(-20, 20, 1)\n",
    "ax.set_ylim(-2., 2., 1)\n",
    "ax.set_title(r'$x[n]$')\n",
    "plt.savefig(os.path.join(saved_dir, 'sinedt.png')); plt.close()\n",
    "\n",
    "###############################################################################\n",
    "fig, ax = plt.subplots(1, 1)\n",
    "mpl_axes_plot(ax, sp.cos(t*(sp.pi/8)), (t, -40, 40), color='b')\n",
    "ax.set_xlim(-20, 20, 1)\n",
    "ax.set_ylim(-2., 2., 1)\n",
    "ax.set_title(r'$x(t)$')\n",
    "plt.savefig(os.path.join(saved_dir, 'cosinect.png')); plt.close()\n",
    "\n",
    "fig, ax = plt.subplots(1, 1)\n",
    "mpl_axes_stem(ax, sp.cos(t*(sp.pi/8)), (t, -40, 40, 1), linefmt='b', markerfmt='bo')\n",
    "ax.set_xlim(-20, 20, 1)\n",
    "ax.set_ylim(-2., 2., 1)\n",
    "ax.set_title(r'$x[n]$')\n",
    "plt.savefig(os.path.join(saved_dir, 'cosinedt.png')); plt.close()"
   ]
  },
  {
   "cell_type": "markdown",
   "metadata": {},
   "source": [
    "<style>\n",
    "td, th {\n",
    "   border: none!important;\n",
    "}\n",
    "table th:first-of-type  {\n",
    "    width: 50%;\n",
    "}\n",
    "table th:nth-of-type(2) {\n",
    "    width: 50%;\n",
    "}\n",
    "</style>\n",
    "|      |      |\n",
    "|:----:|:----:|\n",
    "|![alt](signals/sinect.png)     | ![alt](signals/sinedt.png)    |\n",
    "|![alt](signals/cosinect.png)   | ![alt](signals/cosinedt.png)  |"
   ]
  },
  {
   "cell_type": "markdown",
   "metadata": {},
   "source": [
    "### Real Exponential Signals"
   ]
  },
  {
   "cell_type": "code",
   "execution_count": null,
   "metadata": {
    "tags": [
     "hide_input"
    ]
   },
   "outputs": [],
   "source": [
    "# HIDE/SHOW\n",
    "fig, ax = plt.subplots(1, 1)\n",
    "mpl_axes_plot(ax, sp.exp((t)/5), (t, -40, 40), color='b')\n",
    "ax.scatter(0, 1, color='b')\n",
    "ax.set_xlim(-10, 10, 1)\n",
    "ax.set_ylim(0, 8, 1)\n",
    "ax.set_title(r'$x(t) = Ce^{at}  \\qquad  a>0$')\n",
    "plt.savefig(os.path.join(saved_dir, 'realexpposct.png')); plt.close()\n",
    "\n",
    "fig, ax = plt.subplots(1, 1)\n",
    "mpl_axes_stem(ax, sp.exp((t)/5), (t, -40, 40, 0.5), linefmt='b', markerfmt='bo')\n",
    "ax.set_xlim(-10, 10, 1)\n",
    "ax.set_ylim(0, 8, 1)\n",
    "ax.set_title(r'$x[n] = Ce^{an}  \\qquad  a>0$')\n",
    "plt.savefig(os.path.join(saved_dir, 'realexpposdt.png')); plt.close()\n",
    "\n",
    "###############################################################################\n",
    "fig, ax = plt.subplots(1, 1)\n",
    "mpl_axes_plot(ax, sp.exp((-t)/5), (t, -40, 40), color='b')\n",
    "ax.scatter(0, 1, color='b')\n",
    "ax.set_xlim(-10, 10, 1)\n",
    "ax.set_ylim(0, 8, 1)\n",
    "ax.set_title(r'$x(t) = Ce^{at}  \\qquad  a<0$')\n",
    "plt.savefig(os.path.join(saved_dir, 'realexpnegct.png')); plt.close()\n",
    "\n",
    "fig, ax = plt.subplots(1, 1)\n",
    "mpl_axes_stem(ax, sp.exp((-t)/5), (t, -40, 40, 0.5), linefmt='b', markerfmt='bo')\n",
    "ax.set_xlim(-10, 10, 1)\n",
    "ax.set_ylim(0, 8, 1)\n",
    "ax.set_title(r'$x[n] = Ce^{an}  \\qquad  a<0$')\n",
    "plt.savefig(os.path.join(saved_dir, 'realexpnegdt.png')); plt.close()"
   ]
  },
  {
   "cell_type": "markdown",
   "metadata": {},
   "source": [
    "<style>\n",
    "td, th {\n",
    "   border: none!important;\n",
    "}\n",
    "table th:first-of-type  {\n",
    "    width: 50%;\n",
    "}\n",
    "table th:nth-of-type(2) {\n",
    "    width: 50%;\n",
    "}\n",
    "</style>\n",
    "|      |      |\n",
    "|:----:|:----:|\n",
    "|![alt](signals/realexpposct.png) | ![alt](signals/realexpposdt.png)    |\n",
    "|![alt](signals/realexpnegct.png) | ![alt](signals/realexpnegdt.png)    |"
   ]
  },
  {
   "cell_type": "markdown",
   "metadata": {},
   "source": [
    "### Complex Exponential Signals"
   ]
  },
  {
   "cell_type": "code",
   "execution_count": null,
   "metadata": {
    "tags": [
     "hide_input"
    ]
   },
   "outputs": [],
   "source": [
    "# HIDE/SHOW\n",
    "fig, ax = plt.subplots(1, 1)\n",
    "mpl_axes_plot(ax, sp.exp((t)/10)*sp.cos(2*np.pi*t/10), (t, -40, 40), color='b')\n",
    "mpl_axes_plot(ax, sp.exp((t)/10)*(+1), (t, -40, 40), color='b', alpha=0.5, linestyle='--')\n",
    "mpl_axes_plot(ax, sp.exp((t)/10)*(-1), (t, -40, 40), color='b', alpha=0.5, linestyle='--')\n",
    "ax.scatter(0, 1, color='b')\n",
    "ax.set_xlim(-10, 10, 1)\n",
    "ax.set_ylim(-3., 3., 1)\n",
    "ax.set_title(r'$x(t) = Ce^{rt}\\cos(\\omega_0t+\\phi) \\qquad r>0$')\n",
    "plt.savefig(os.path.join(saved_dir, 'compexpposct.png')); plt.close()\n",
    "\n",
    "fig, ax = plt.subplots(1, 1)\n",
    "mpl_axes_stem(ax, sp.exp((t)/10)*sp.cos(2*np.pi*t/10), (t, -40, 40, 0.5), linefmt='b', markerfmt='bo')\n",
    "mpl_axes_plot(ax, sp.exp((t)/10)*(+1), (t, -40, 40), color='b', alpha=0.5, linestyle='--')\n",
    "mpl_axes_plot(ax, sp.exp((t)/10)*(-1), (t, -40, 40), color='b', alpha=0.5, linestyle='--')\n",
    "ax.set_xlim(-10, 10, 1)\n",
    "ax.set_ylim(-3., 3., 1)\n",
    "ax.set_title(r'$x[n] = Ce^{rn}\\cos[\\omega_0n+\\phi] \\qquad r>0$')\n",
    "plt.savefig(os.path.join(saved_dir, 'compexpposdt.png')); plt.close()\n",
    "\n",
    "###############################################################################\n",
    "fig, ax = plt.subplots(1, 1)\n",
    "mpl_axes_plot(ax, sp.exp((-t)/10)*sp.cos(2*np.pi*t/10), (t, -40, 40), color='b')\n",
    "mpl_axes_plot(ax, sp.exp((-t)/10)*(+1), (t, -40, 40), color='b', alpha=0.5, linestyle='--')\n",
    "mpl_axes_plot(ax, sp.exp((-t)/10)*(-1), (t, -40, 40), color='b', alpha=0.5, linestyle='--')\n",
    "ax.scatter(0, 1, color='b')\n",
    "ax.set_xlim(-10, 10, 1)\n",
    "ax.set_ylim(-3., 3., 1)\n",
    "ax.set_title(r'$x(t) = Ce^{rt}\\cos(\\omega_0t+\\phi) \\qquad r<0$')\n",
    "plt.savefig(os.path.join(saved_dir, 'compexpnegct.png')); plt.close()\n",
    "\n",
    "fig, ax = plt.subplots(1, 1)\n",
    "mpl_axes_stem(ax, sp.exp((-t)/10)*sp.cos(2*np.pi*t/10), (t, -40, 40, 0.5), linefmt='b', markerfmt='bo')\n",
    "mpl_axes_plot(ax, sp.exp((-t)/10)*(+1), (t, -40, 40), color='b', alpha=0.5, linestyle='--')\n",
    "mpl_axes_plot(ax, sp.exp((-t)/10)*(-1), (t, -40, 40), color='b', alpha=0.5, linestyle='--')\n",
    "ax.set_xlim(-10, 10, 1)\n",
    "ax.set_ylim(-3., 3., 1)\n",
    "ax.set_title(r'$x[n] = Ce^{rn}\\cos[\\omega_0n+\\phi] \\qquad r<0$')\n",
    "plt.savefig(os.path.join(saved_dir, 'compexpnegdt.png')); plt.close()"
   ]
  },
  {
   "cell_type": "markdown",
   "metadata": {},
   "source": [
    "<style>\n",
    "td, th {\n",
    "   border: none!important;\n",
    "}\n",
    "table th:first-of-type  {\n",
    "    width: 50%;\n",
    "}\n",
    "table th:nth-of-type(2) {\n",
    "    width: 50%;\n",
    "}\n",
    "</style>\n",
    "|      |      |\n",
    "|:----:|:----:|\n",
    "|![alt](signals/compexpposct.png) | ![alt](signals/compexpposdt.png)    |\n",
    "|![alt](signals/compexpnegct.png) | ![alt](signals/compexpnegdt.png)    |"
   ]
  },
  {
   "cell_type": "markdown",
   "metadata": {},
   "source": [
    "## Elementary Signals"
   ]
  },
  {
   "cell_type": "markdown",
   "metadata": {},
   "source": [
    "### Step Functions"
   ]
  },
  {
   "cell_type": "code",
   "execution_count": 11,
   "metadata": {
    "tags": [
     "hide_input"
    ]
   },
   "outputs": [],
   "source": [
    "# HIDE/SHOW\n",
    "fig, ax = plt.subplots(1, 1)\n",
    "mpl_axes_plot(ax, sp.Heaviside(t, 1), (t, -10, 10), color='b')\n",
    "ax.set_xlim(-5., 5., 1)\n",
    "ax.set_ylim(-2., 2., 1)\n",
    "ax.set_title(r'$u(t)$')\n",
    "plt.savefig(os.path.join(saved_dir, 'stepct.png')); plt.close()\n",
    "\n",
    "fig, ax = plt.subplots(1, 1)\n",
    "mpl_axes_stem(ax, sp.Heaviside(t, 1), (t, -10, 10, 0.25), linefmt='b', markerfmt='bo')\n",
    "ax.set_xlim(-5., 5., 1)\n",
    "ax.set_ylim(-2., 2., 1)\n",
    "ax.set_title(r'$u[n]$')\n",
    "plt.savefig(os.path.join(saved_dir, 'stepdt.png')); plt.close()"
   ]
  },
  {
   "cell_type": "markdown",
   "metadata": {},
   "source": [
    "<style>\n",
    "td, th {\n",
    "   border: none!important;\n",
    "}\n",
    "table th:first-of-type  {\n",
    "    width: 50%;\n",
    "}\n",
    "table th:nth-of-type(2) {\n",
    "    width: 50%;\n",
    "}\n",
    "</style>\n",
    "|      |      |\n",
    "|:----:|:----:|\n",
    "|![alt](signals/stepct.png) | ![alt](signals/stepdt.png)    |"
   ]
  },
  {
   "cell_type": "markdown",
   "metadata": {},
   "source": [
    "### Signum Functions"
   ]
  },
  {
   "cell_type": "code",
   "execution_count": null,
   "metadata": {
    "tags": [
     "hide_input"
    ]
   },
   "outputs": [],
   "source": [
    "# HIDE/SHOW\n",
    "fig, ax = plt.subplots(1, 1)\n",
    "mpl_axes_plot(ax, sp.Heaviside(t, 0.5)*2-1, (t, -40, 40), color='b')\n",
    "ax.set_xlim(-5., 5., 1)\n",
    "ax.set_ylim(-2., 2., 1)\n",
    "ax.set_title(r'$sign(t)$')\n",
    "plt.savefig(os.path.join(saved_dir, 'signct.png')); plt.close()\n",
    "\n",
    "fig, ax = plt.subplots(1, 1)\n",
    "mpl_axes_stem(ax, sp.Heaviside(t, 0.5)*2-1, (t, -40, 40, 0.25), linefmt='b', markerfmt='bo')\n",
    "ax.set_xlim(-5., 5., 1)\n",
    "ax.set_ylim(-2., 2., 1)\n",
    "ax.set_title(r'$sign[n]$')\n",
    "plt.savefig(os.path.join(saved_dir, 'signdt.png')); plt.close()"
   ]
  },
  {
   "cell_type": "markdown",
   "metadata": {},
   "source": [
    "<style>\n",
    "td, th {\n",
    "   border: none!important;\n",
    "}\n",
    "table th:first-of-type  {\n",
    "    width: 50%;\n",
    "}\n",
    "table th:nth-of-type(2) {\n",
    "    width: 50%;\n",
    "}\n",
    "</style>\n",
    "|      |      |\n",
    "|:----:|:----:|\n",
    "|![alt](signals/signct.png) | ![alt](signals/signdt.png)|"
   ]
  },
  {
   "cell_type": "markdown",
   "metadata": {},
   "source": [
    "### Ramp Functions"
   ]
  },
  {
   "cell_type": "code",
   "execution_count": null,
   "metadata": {
    "tags": [
     "hide_input"
    ]
   },
   "outputs": [],
   "source": [
    "# HIDE/SHOW\n",
    "fig, ax = plt.subplots(1, 1)\n",
    "mpl_axes_plot(ax, t*sp.Heaviside(t, 1), (t, -40, 40), color='b')\n",
    "ax.set_xlim(-5., 5., 1)\n",
    "ax.set_ylim(-1., 5., 1)\n",
    "ax.set_title(r'$ramp(t)$')\n",
    "plt.savefig(os.path.join(saved_dir, 'rampct.png')); plt.close()\n",
    "\n",
    "fig, ax = plt.subplots(1, 1)\n",
    "mpl_axes_stem(ax, t*sp.Heaviside(t, 1), (t, -40, 40, 0.25), linefmt='b', markerfmt='bo')\n",
    "ax.set_xlim(-5., 5., 1)\n",
    "ax.set_ylim(-1., 5., 1)\n",
    "ax.set_title(r'$ramp[n]$')\n",
    "plt.savefig(os.path.join(saved_dir, 'rampdt.png')); plt.close()"
   ]
  },
  {
   "cell_type": "markdown",
   "metadata": {},
   "source": [
    "<style>\n",
    "td, th {\n",
    "   border: none!important;\n",
    "}\n",
    "table th:first-of-type  {\n",
    "    width: 50%;\n",
    "}\n",
    "table th:nth-of-type(2) {\n",
    "    width: 50%;\n",
    "}\n",
    "</style>\n",
    "|      |      |\n",
    "|:----:|:----:|\n",
    "|![alt](signals/rampct.png) | ![alt](signals/rampdt.png)    |"
   ]
  },
  {
   "cell_type": "markdown",
   "metadata": {},
   "source": [
    "### Unit Rectangle Functions"
   ]
  },
  {
   "cell_type": "code",
   "execution_count": null,
   "metadata": {
    "tags": [
     "hide_input"
    ]
   },
   "outputs": [],
   "source": [
    "# HIDE/SHOW\n",
    "rect = sp.Piecewise(\n",
    "    (0, sp.Or(sp.StrictLessThan(t, -1/2), sp.StrictGreaterThan(t, 1/2))),\n",
    "    (1, sp.And(sp.LessThan(t, 1/2), sp.GreaterThan(t, -1/2))),\n",
    ")\n",
    "\n",
    "fig, ax = plt.subplots(1, 1)\n",
    "mpl_axes_plot(ax, rect, (t, -40, 40), color='b')\n",
    "ax.set_xlim(-5., 5., 1)\n",
    "ax.set_ylim(-2., 2., 1)\n",
    "ax.set_title(r'$rect(t)$')\n",
    "plt.savefig(os.path.join(saved_dir, 'rectct.png')); plt.close()\n",
    "\n",
    "fig, ax = plt.subplots(1, 1)\n",
    "mpl_axes_stem(ax, rect, (t, -40, 40, 0.25), linefmt='b', markerfmt='bo')\n",
    "ax.set_xlim(-5., 5., 1)\n",
    "ax.set_ylim(-2., 2., 1)\n",
    "ax.set_title(r'$rect[n]$')\n",
    "plt.savefig(os.path.join(saved_dir, 'rectdt.png')); plt.close()"
   ]
  },
  {
   "cell_type": "markdown",
   "metadata": {},
   "source": [
    "<style>\n",
    "td, th {\n",
    "   border: none!important;\n",
    "}\n",
    "table th:first-of-type  {\n",
    "    width: 50%;\n",
    "}\n",
    "table th:nth-of-type(2) {\n",
    "    width: 50%;\n",
    "}\n",
    "</style>\n",
    "|      |      |\n",
    "|:----:|:----:|\n",
    "|![alt](signals/rectct.png) | ![alt](signals/rectdt.png)|"
   ]
  },
  {
   "cell_type": "markdown",
   "metadata": {},
   "source": [
    "### Unit Triangle Functions"
   ]
  },
  {
   "cell_type": "code",
   "execution_count": null,
   "metadata": {
    "tags": [
     "hide_input"
    ]
   },
   "outputs": [],
   "source": [
    "# HIDE/SHOW\n",
    "ramp = t*sp.Heaviside(t, 1)\n",
    "tri = ramp.subs(t, t+1) - 2*ramp.subs(t, t) + ramp.subs(t, t-1)\n",
    "\n",
    "fig, ax = plt.subplots(1, 1)\n",
    "mpl_axes_plot(ax, tri, (t, -40, 40), color='b')\n",
    "ax.set_xlim(-5., 5., 1)\n",
    "ax.set_ylim(-2., 2., 1)\n",
    "ax.set_title(r'$tri(t)$')\n",
    "plt.savefig(os.path.join(saved_dir, 'trict.png')); plt.close()\n",
    "\n",
    "fig, ax = plt.subplots(1, 1)\n",
    "mpl_axes_stem(ax, tri, (t, -40, 40, 0.25), linefmt='b', markerfmt='bo')\n",
    "ax.set_xlim(-5., 5., 1)\n",
    "ax.set_ylim(-2., 2., 1)\n",
    "ax.set_title(r'$tri[n]$')\n",
    "plt.savefig(os.path.join(saved_dir, 'tridt.png')); plt.close()"
   ]
  },
  {
   "cell_type": "markdown",
   "metadata": {},
   "source": [
    "<style>\n",
    "td, th {\n",
    "   border: none!important;\n",
    "}\n",
    "table th:first-of-type  {\n",
    "    width: 50%;\n",
    "}\n",
    "table th:nth-of-type(2) {\n",
    "    width: 50%;\n",
    "}\n",
    "</style>\n",
    "|      |      |\n",
    "|:----:|:----:|\n",
    "|![alt](signals/trict.png) | ![alt](signals/tridt.png)  |"
   ]
  },
  {
   "cell_type": "markdown",
   "metadata": {},
   "source": [
    "### Unit Sinc Functions"
   ]
  },
  {
   "cell_type": "code",
   "execution_count": null,
   "metadata": {
    "tags": [
     "hide_input"
    ]
   },
   "outputs": [],
   "source": [
    "# HIDE/SHOW\n",
    "sinc = sp.sin(sp.pi*t)/(sp.pi*t)\n",
    "fig, ax = plt.subplots(1, 1)\n",
    "mpl_axes_plot(ax, sinc.subs(t, t+1e-8), (t, -40, 40), color='b')\n",
    "ax.set_xlim(-5., 5., 1)\n",
    "ax.set_ylim(-2., 2., 1)\n",
    "ax.set_title(r'$sinc(t)$')\n",
    "plt.savefig(os.path.join(saved_dir, 'sincct.png')); plt.close()\n",
    "\n",
    "fig, ax = plt.subplots(1, 1)\n",
    "mpl_axes_stem(ax, sinc.subs(t, t+1e-8), (t, -40, 40, 0.25), linefmt='b', markerfmt='bo')\n",
    "ax.set_xlim(-5., 5., 1)\n",
    "ax.set_ylim(-2., 2., 1)\n",
    "ax.set_title(r'$sinc[n]$')\n",
    "plt.savefig(os.path.join(saved_dir, 'sincdt.png')); plt.close()"
   ]
  },
  {
   "cell_type": "markdown",
   "metadata": {},
   "source": [
    "<style>\n",
    "td, th {\n",
    "   border: none!important;\n",
    "}\n",
    "table th:first-of-type  {\n",
    "    width: 50%;\n",
    "}\n",
    "table th:nth-of-type(2) {\n",
    "    width: 50%;\n",
    "}\n",
    "</style>\n",
    "|      |      |\n",
    "|:----:|:----:|\n",
    "|![alt](signals/sincct.png) | ![alt](signals/sincdt.png)    |"
   ]
  },
  {
   "cell_type": "markdown",
   "metadata": {},
   "source": [
    "### Unit Impulse Functions"
   ]
  },
  {
   "cell_type": "code",
   "execution_count": null,
   "metadata": {
    "tags": [
     "hide_input"
    ]
   },
   "outputs": [],
   "source": [
    "# HIDE/SHOW\n",
    "delta = sp.Piecewise(\n",
    "    (1, sp.Equality(t, 0)),\n",
    "    (0, sp.Or(sp.StrictLessThan(t, 0), sp.StrictGreaterThan(t, 0))),\n",
    ")\n",
    "\n",
    "fig, ax = plt.subplots(1, 1)\n",
    "mpl_axes_stem(ax, delta, (t, -40, 40, 0.25), linefmt='m', markerfmt=' ')\n",
    "ax.scatter(0, 1, color='m', marker='^', s=100)\n",
    "ax.set_xlim(-5., 5., 1)\n",
    "ax.set_ylim(-2., 2., 1)\n",
    "ax.set_title(r'$\\delta(t)$')\n",
    "plt.savefig(os.path.join(saved_dir, 'deltact.png')); plt.close()\n",
    "\n",
    "fig, ax = plt.subplots(1, 1)\n",
    "mpl_axes_stem(ax, delta, (t, -40, 40, 0.25), linefmt='b', markerfmt='bo')\n",
    "ax.set_xlim(-5., 5., 1)\n",
    "ax.set_ylim(-2., 2., 1)\n",
    "ax.set_title(r'$\\delta[n]$')\n",
    "plt.savefig(os.path.join(saved_dir, 'deltadt.png')); plt.close()"
   ]
  },
  {
   "cell_type": "markdown",
   "metadata": {},
   "source": [
    "<style>\n",
    "td, th {\n",
    "   border: none!important;\n",
    "}\n",
    "table th:first-of-type  {\n",
    "    width: 50%;\n",
    "}\n",
    "table th:nth-of-type(2) {\n",
    "    width: 50%;\n",
    "}\n",
    "</style>\n",
    "|      |      |\n",
    "|:----:|:----:|\n",
    "|![alt](signals/deltact.png) | ![alt](signals/deltadt.png)  |"
   ]
  }
 ],
 "metadata": {
  "kernelspec": {
   "display_name": "Python 3.9.12 ('base')",
   "language": "python",
   "name": "python3"
  },
  "language_info": {
   "codemirror_mode": {
    "name": "ipython",
    "version": 3
   },
   "file_extension": ".py",
   "mimetype": "text/x-python",
   "name": "python",
   "nbconvert_exporter": "python",
   "pygments_lexer": "ipython3",
   "version": "3.9.12"
  },
  "vscode": {
   "interpreter": {
    "hash": "d594796bd8f1bbcbba7d96410b19473b7dd37b87d2c9c997260c2628fe83e732"
   }
  }
 },
 "nbformat": 4,
 "nbformat_minor": 4
}
