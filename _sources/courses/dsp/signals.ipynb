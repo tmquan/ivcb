{
 "cells": [
  {
   "cell_type": "markdown",
   "metadata": {},
   "source": [
    "# Signals and Sequences"
   ]
  },
  {
   "cell_type": "markdown",
   "metadata": {},
   "source": [
    "## Prerequisites"
   ]
  },
  {
   "cell_type": "code",
   "execution_count": null,
   "metadata": {
    "tags": [
     "hide_input"
    ]
   },
   "outputs": [
    {
     "ename": "",
     "evalue": "",
     "output_type": "error",
     "traceback": [
      "\u001b[1;31mFailed to start the Kernel. \n",
      "Unable to start Kernel 'base (Python 3.9.12)' due to connection timeout. \n",
      "View Jupyter <a href='command:jupyter.viewOutput'>log</a> for further details."
     ]
    }
   ],
   "source": [
    "# ! pip install -U sympy \n",
    "# ! pip install -U numpy\n",
    "# ! pip install -U matplotlib\n",
    "\n",
    "# ! sudo apt install -y cm-super\n",
    "# ! sudo apt install -y texlive texlive-latex-extra texlive-fonts-recommended dvipng"
   ]
  },
  {
   "cell_type": "code",
   "execution_count": null,
   "metadata": {
    "tags": [
     "remove_cell"
    ]
   },
   "outputs": [
    {
     "ename": "",
     "evalue": "",
     "output_type": "error",
     "traceback": [
      "\u001b[1;31mFailed to start the Kernel. \n",
      "Unable to start Kernel 'base (Python 3.9.12)' due to connection timeout. \n",
      "View Jupyter <a href='command:jupyter.viewOutput'>log</a> for further details."
     ]
    }
   ],
   "source": [
    "# HIDDEN\n",
    "from IPython.display import HTML\n",
    "HTML('''<script>\n",
    "var code_show_err = false; \n",
    "var code_toggle_err = function() {\n",
    " var stderrNodes = document.querySelectorAll('[data-mime-type=\"application/vnd.jupyter.stderr\"]')\n",
    " var stderr = Array.from(stderrNodes)\n",
    " if (code_show_err){\n",
    "     stderr.forEach(ele => ele.style.display = 'block');\n",
    " } else {\n",
    "     stderr.forEach(ele => ele.style.display = 'none');\n",
    " }\n",
    " code_show_err = !code_show_err\n",
    "} \n",
    "document.addEventListener('DOMContentLoaded', code_toggle_err);\n",
    "</script>\n",
    "To toggle on/off output_stderr, click <a onclick=\"javascript:code_toggle_err()\">here</a>.''')"
   ]
  },
  {
   "cell_type": "markdown",
   "metadata": {},
   "source": [
    "## Simulation and Visualization in Python"
   ]
  },
  {
   "cell_type": "code",
   "execution_count": null,
   "metadata": {
    "tags": [
     "hide_input"
    ]
   },
   "outputs": [
    {
     "ename": "",
     "evalue": "",
     "output_type": "error",
     "traceback": [
      "\u001b[1;31mFailed to start the Kernel. \n",
      "Unable to start Kernel 'base (Python 3.9.12)' due to connection timeout. \n",
      "View Jupyter <a href='command:jupyter.viewOutput'>log</a> for further details."
     ]
    }
   ],
   "source": [
    "# HIDE/SHOW\n",
    "import warnings\n",
    "warnings.filterwarnings('ignore')\n",
    "\n",
    "import sympy as sp\n",
    "import numpy as np\n",
    "\n",
    "from sympy.abc import t, x, y\n",
    "from scipy import signal\n",
    "import matplotlib.pyplot as plt\n",
    "from matplotlib.ticker import MaxNLocator\n",
    "plt.rcParams['text.usetex'] = True\n",
    "%matplotlib inline "
   ]
  },
  {
   "cell_type": "markdown",
   "metadata": {},
   "source": [
    "## Utilizations"
   ]
  },
  {
   "cell_type": "code",
   "execution_count": null,
   "metadata": {
    "tags": [
     "hide_input"
    ]
   },
   "outputs": [
    {
     "ename": "",
     "evalue": "",
     "output_type": "error",
     "traceback": [
      "\u001b[1;31mFailed to start the Kernel. \n",
      "Unable to start Kernel 'base (Python 3.9.12)' due to connection timeout. \n",
      "View Jupyter <a href='command:jupyter.viewOutput'>log</a> for further details."
     ]
    }
   ],
   "source": [
    "# HIDE/SHOW            \n",
    "def mpl_axes_plot(axes, expr, xrange, zero_is_none=False, **kwargs):\n",
    "    x, start, stop = xrange\n",
    "    func = sp.lambdify(x, expr)\n",
    "    x = np.linspace(start, stop, 10000)\n",
    "    y = func(x)\n",
    "    axes.tick_params(axis='x', labelsize=8)\n",
    "    axes.tick_params(axis='y', labelsize=8)\n",
    "    axes.xaxis.set_major_locator(MaxNLocator(integer=True))\n",
    "    axes.yaxis.set_major_locator(MaxNLocator(integer=True))\n",
    "    axes.grid(False)\n",
    "    axes.margins(0.02, 0.02)\n",
    "    if zero_is_none:\n",
    "        y[y==0] = np.nan\n",
    "    axes.plot(x, y, **kwargs)\n",
    "    axes.plot(x, np.zeros_like(x), color='k', alpha=0.5)\n",
    "    return axes\n",
    "    \n",
    "def mpl_axes_stem(axes, expr, xrange, zero_is_none=False, **kwargs):\n",
    "    x, start, stop, step = xrange\n",
    "    func = sp.lambdify(x, expr, ['numpy', 'sympy'])\n",
    "    x = np.arange(start, stop, step)\n",
    "    y = func(x)\n",
    "    axes.tick_params(axis='x', labelsize=8)\n",
    "    axes.tick_params(axis='y', labelsize=8)\n",
    "    axes.xaxis.set_major_locator(MaxNLocator(integer=True))\n",
    "    axes.yaxis.set_major_locator(MaxNLocator(integer=True))\n",
    "    axes.grid(False)\n",
    "    axes.margins(0.02, 0.02)\n",
    "    axes.plot(x, np.zeros_like(x), color='k', alpha=0.5)\n",
    "    if zero_is_none:\n",
    "        y[y==0] = np.nan\n",
    "    axes.stem(x, y, basefmt=\" \", use_line_collection=True, **kwargs)\n",
    "    return axes\n",
    "    \n",
    "def mpl_axes_step(axes, expr, xrange, **kwargs):\n",
    "    x, start, stop, step = xrange\n",
    "    func = sp.lambdify(x, expr)\n",
    "    x = np.arange(start, stop, step)\n",
    "    y = func(x)\n",
    "    axes.tick_params(axis='x', labelsize=8)\n",
    "    axes.tick_params(axis='y', labelsize=8)\n",
    "    axes.xaxis.set_major_locator(MaxNLocator(integer=True))\n",
    "    axes.yaxis.set_major_locator(MaxNLocator(integer=True))\n",
    "    axes.grid(False)\n",
    "    axes.margins(0.02, 0.02)\n",
    "    axes.plot(x, np.zeros_like(x), color='k', alpha=0.5)\n",
    "    return axes.step(x, y, **kwargs)"
   ]
  },
  {
   "cell_type": "markdown",
   "metadata": {},
   "source": [
    "## What are Signals?\n",
    "\n",
    "- Signals convey information. \n",
    "- Signals are represented as mathematical functions of one or more independent variables. \n",
    "- Signals are represented as mathematical functions of one dimensional variable in time.\n",
    "\n"
   ]
  },
  {
   "cell_type": "markdown",
   "metadata": {},
   "source": [
    "## Types of Signals\n",
    "- Continuous-time (CT) Signals\t\t\t\n",
    "- Discrete-time (DT) Signals\n",
    "- Quantized Signals \n",
    "- Digital Signals?"
   ]
  },
  {
   "cell_type": "code",
   "execution_count": null,
   "metadata": {
    "tags": [
     "hide_input"
    ]
   },
   "outputs": [
    {
     "ename": "",
     "evalue": "",
     "output_type": "error",
     "traceback": [
      "\u001b[1;31mFailed to start the Kernel. \n",
      "Unable to start Kernel 'base (Python 3.9.12)' due to connection timeout. \n",
      "View Jupyter <a href='command:jupyter.viewOutput'>log</a> for further details."
     ]
    }
   ],
   "source": [
    "# HIDE/SHOW\n",
    "h = t*sp.sin(t/1.7)\n",
    "fig, ax = plt.subplots(\n",
    "    2, 2, \n",
    "    figsize=(12, 8), \n",
    "    # tight_layout=True,\n",
    ")\n",
    "    \n",
    "mpl_axes_plot(ax[0][0], \n",
    "    expr=h, \n",
    "    xrange=(t, -60, 60), \n",
    "    color='b')\n",
    "ax[0][0].set_xlim(-1, 15, 1)\n",
    "ax[0][0].set_ylim(-10, 15, 1)\n",
    "ax[0][0].set_title(r'$x(t)$', fontsize=16)\n",
    "\n",
    "\n",
    "mpl_axes_stem(ax[0][1], \n",
    "    expr=h, \n",
    "    xrange=(t, -60, 60, 0.5), \n",
    "    linefmt='b', \n",
    "    markerfmt='bo')\n",
    "ax[0][1].set_xlim(-1, 15, 1)\n",
    "ax[0][1].set_ylim(-10, 15, 1)\n",
    "ax[0][1].set_title(r'$x[n]$', fontsize=16)\n",
    "\n",
    "mpl_axes_step(ax[1][0], \n",
    "    expr=h, \n",
    "    xrange=(t, -60, 60, 0.5), \n",
    "    color='b',\n",
    ")\n",
    "ax[1][0].set_xlim(-1, 15, 1)\n",
    "ax[1][0].set_ylim(-10, 15, 1)\n",
    "ax[1][0].set_title(r'$x(t)$', fontsize=16)\n",
    "\n",
    "mpl_axes_stem(ax[1][1], \n",
    "    expr=h.xreplace({n : round(n, 1) for n in h.atoms(sp.Number)}),\n",
    "    xrange=(t, -60, 60, 0.5), \n",
    "    linefmt='b', \n",
    "    markerfmt='bo')\n",
    "ax[1][1].set_xlim(-1, 15, 1)\n",
    "ax[1][1].set_ylim(-10, 15, 1)\n",
    "ax[1][1].set_title(r'$x[n]$', fontsize=16)\n",
    "\n",
    "\n",
    "plt.show()"
   ]
  },
  {
   "cell_type": "markdown",
   "metadata": {},
   "source": [
    "## Classes of Signals"
   ]
  },
  {
   "cell_type": "markdown",
   "metadata": {},
   "source": [
    "### Even and Odd Signals"
   ]
  },
  {
   "cell_type": "code",
   "execution_count": null,
   "metadata": {
    "tags": [
     "hide_input"
    ]
   },
   "outputs": [
    {
     "ename": "",
     "evalue": "",
     "output_type": "error",
     "traceback": [
      "\u001b[1;31mFailed to start the Kernel. \n",
      "Unable to start Kernel 'base (Python 3.9.12)' due to connection timeout. \n",
      "View Jupyter <a href='command:jupyter.viewOutput'>log</a> for further details."
     ]
    }
   ],
   "source": [
    "# HIDE/SHOW\n",
    "fig, ax = plt.subplots(\n",
    "    2, 2, \n",
    "    figsize=(12, 8), \n",
    "    # tight_layout=True,\n",
    ")\n",
    "\n",
    "f = sp.Piecewise(\n",
    "    (0, t<0),\n",
    "    (0.5, t==0),\n",
    "    (1, (t>0)&(t<=1)),           \n",
    "    (2-t, (t>=1)&(t<=2)), \n",
    "    (0, t>=2)\n",
    ")\n",
    "h = f.subs(t, t/5)\n",
    "mpl_axes_plot(ax[0][0], (h+h.subs(t, -t)), (t, -40, 40), color='b')\n",
    "# mpl_axes_plot(ax[0][0], (h+h.subs(t, -t)), (t, -40, 40), color='r')\n",
    "ax[0][0].set_xlim(-20, 20, 1)\n",
    "ax[0][0].set_ylim(-2., 2., 1)\n",
    "ax[0][0].set_title(r'$x(t)$', fontsize=16)\n",
    "\n",
    "\n",
    "mpl_axes_stem(ax[0][1], (h+h.subs(t, -t)), (t, -40, 40, 1), linefmt='b', markerfmt='bo')\n",
    "# mpl_axes_stem(ax[0][1], (h+h.subs(t, -t)), (t, -40, 40, 1), linefmt='r', markerfmt='ro')\n",
    "ax[0][1].stem(0, 1, basefmt=\" \", linefmt='b', markerfmt='bo')\n",
    "ax[0][1].set_xlim(-20, 20, 1)\n",
    "ax[0][1].set_ylim(-2., 2., 1)\n",
    "ax[0][1].set_title(r'$x[n]$', fontsize=16)\n",
    "\n",
    "mpl_axes_plot(ax[1][0], (h-h.subs(t, -t)), (t, -40, 40), color='b')\n",
    "# mpl_axes_plot(ax[1][0], (h-h.subs(t, -t)), (t, -40, 40), color='r')\n",
    "ax[1][0].set_xlim(-20, 20, 1)\n",
    "ax[1][0].set_ylim(-2., 2., 1)\n",
    "ax[1][0].set_title(r'$x(t)$', fontsize=16)\n",
    "\n",
    "\n",
    "mpl_axes_stem(ax[1][1], (h-h.subs(t, -t)), (t, -40, 40, 1), linefmt='b', markerfmt='bo')\n",
    "# mpl_axes_stem(ax[1][1], (h-h.subs(t, -t)), (t, -40, 40, 1), linefmt='r', markerfmt='ro')\n",
    "ax[1][1].scatter(0, 0, color='b')\n",
    "ax[1][1].set_xlim(-20, 20, 1)\n",
    "ax[1][1].set_ylim(-2., 2., 1)\n",
    "ax[1][1].set_title(r'$x[n]$', fontsize=16)\n",
    "\n",
    "plt.show()"
   ]
  },
  {
   "cell_type": "markdown",
   "metadata": {},
   "source": [
    "### Aperiodic and Periodic Signals"
   ]
  },
  {
   "cell_type": "code",
   "execution_count": null,
   "metadata": {
    "tags": [
     "hide_input"
    ]
   },
   "outputs": [
    {
     "ename": "",
     "evalue": "",
     "output_type": "error",
     "traceback": [
      "\u001b[1;31mFailed to start the Kernel. \n",
      "Unable to start Kernel 'base (Python 3.9.12)' due to connection timeout. \n",
      "View Jupyter <a href='command:jupyter.viewOutput'>log</a> for further details."
     ]
    }
   ],
   "source": [
    "# HIDE/SHOW\n",
    "fig, ax = plt.subplots(\n",
    "    2, 2, \n",
    "    figsize=(12, 8), \n",
    "    # tight_layout=True,\n",
    ")\n",
    "\n",
    "\n",
    "n = sp.Piecewise(\n",
    "    (0, t<0),\n",
    "    (0, t>5),\n",
    "    (1-t/5, (0<=t)&(t<=5)),  \n",
    ").subs(t, t+2)\n",
    "\n",
    "p = sp.Piecewise(\n",
    "    (0, t<0),\n",
    "    (0, t>=5),\n",
    "    (1-t/5, (0<=t)&(t<=5)),  \n",
    ").subs(t, t+3)\n",
    "\n",
    "mpl_axes_plot(ax[0][0], n, (t, -40, 40), color='b')\n",
    "ax[0][0].set_xlim(-20, 20, 1)\n",
    "ax[0][0].set_ylim(-2., 2., 1)\n",
    "ax[0][0].set_title(r'$x(t)$', fontsize=16)\n",
    "\n",
    "\n",
    "mpl_axes_stem(ax[0][1], n, (t, -40, 40, 1), linefmt='b', markerfmt='bo')\n",
    "ax[0][1].set_xlim(-20, 20, 1)\n",
    "ax[0][1].set_ylim(-2., 2., 1)\n",
    "ax[0][1].set_title(r'$x[n]$', fontsize=16)\n",
    "\n",
    "for k in range(-5, 5):\n",
    "    mpl_axes_plot(ax[1][0], p.subs(t, -t).subs(t, t+k*5), (t, -40, 40), zero_is_none=False, color='b')\n",
    "ax[1][0].set_xlim(-20, 20, 1)\n",
    "ax[1][0].set_ylim(-2., 2., 1)\n",
    "ax[1][0].set_title(r'$x(t)$', fontsize=16)\n",
    "\n",
    "for k in range(-5, 5):\n",
    "    mpl_axes_stem(ax[1][1], p.subs(t, -t).subs(t, t+k*5), (t, -40, 40, 1), zero_is_none=True, linefmt='b', markerfmt='bo')\n",
    "ax[1][1].set_xlim(-20, 20, 1)\n",
    "ax[1][1].set_ylim(-2., 2., 1)\n",
    "ax[1][1].set_title(r'$x[n]$', fontsize=16)\n",
    "\n",
    "plt.show()"
   ]
  },
  {
   "cell_type": "markdown",
   "metadata": {},
   "source": [
    "### Sinusoidal Signals"
   ]
  },
  {
   "cell_type": "code",
   "execution_count": null,
   "metadata": {
    "tags": [
     "hide_input"
    ]
   },
   "outputs": [
    {
     "ename": "",
     "evalue": "",
     "output_type": "error",
     "traceback": [
      "\u001b[1;31mFailed to start the Kernel. \n",
      "Unable to start Kernel 'base (Python 3.9.12)' due to connection timeout. \n",
      "View Jupyter <a href='command:jupyter.viewOutput'>log</a> for further details."
     ]
    }
   ],
   "source": [
    "# HIDE/SHOW\n",
    "fig, ax = plt.subplots(\n",
    "    2, 2, \n",
    "    figsize=(12, 8), \n",
    "    # tight_layout=True,\n",
    ")\n",
    "\n",
    "mpl_axes_plot(ax[0][0], sp.sin(t*(sp.pi/8)), (t, -40, 40), color='b')\n",
    "ax[0][0].set_xlim(-20, 20, 1)\n",
    "ax[0][0].set_ylim(-2, 2, 1)\n",
    "ax[0][0].set_title(r'$x(t)$', fontsize=16)\n",
    "\n",
    "\n",
    "mpl_axes_stem(ax[0][1], sp.sin(t*(sp.pi/8)), (t, -40, 40, 1), linefmt='b', markerfmt='bo')\n",
    "ax[0][1].set_xlim(-20, 20, 1)\n",
    "ax[0][1].set_ylim(-2, 2, 1)\n",
    "ax[0][1].set_title(r'$x[n]$', fontsize=16)\n",
    "\n",
    "\n",
    "mpl_axes_plot(ax[1][0], sp.cos(t*(sp.pi/8)), (t, -40, 40), color='b')\n",
    "ax[1][0].set_xlim(-20, 20, 1)\n",
    "ax[1][0].set_ylim(-2, 2, 1)\n",
    "ax[1][0].set_title(r'$x(t)$', fontsize=16)\n",
    "\n",
    "\n",
    "mpl_axes_stem(ax[1][1], sp.cos(t*(sp.pi/8)), (t, -40, 40, 1), linefmt='b', markerfmt='bo')\n",
    "ax[1][1].set_xlim(-20, 20, 1)\n",
    "ax[1][1].set_ylim(-2, 2, 1)\n",
    "ax[1][1].set_title(r'$x[n]$', fontsize=16)\n",
    "\n",
    "plt.show()"
   ]
  },
  {
   "cell_type": "markdown",
   "metadata": {},
   "source": [
    "### Real Exponential Signals"
   ]
  },
  {
   "cell_type": "code",
   "execution_count": null,
   "metadata": {
    "tags": [
     "hide_input"
    ]
   },
   "outputs": [
    {
     "ename": "",
     "evalue": "",
     "output_type": "error",
     "traceback": [
      "\u001b[1;31mFailed to start the Kernel. \n",
      "Unable to start Kernel 'base (Python 3.9.12)' due to connection timeout. \n",
      "View Jupyter <a href='command:jupyter.viewOutput'>log</a> for further details."
     ]
    }
   ],
   "source": [
    "# HIDE/SHOW\n",
    "fig, ax = plt.subplots(\n",
    "    2, 2, \n",
    "    figsize=(12, 8), \n",
    "    # tight_layout=True,\n",
    ")\n",
    "\n",
    "mpl_axes_plot(ax[0][0], sp.exp((t)/5), (t, -40, 40), color='b')\n",
    "ax[0][0].scatter(0, 1, color='b')\n",
    "ax[0][0].set_xlim(-10, 10, 1)\n",
    "ax[0][0].set_ylim(0, 8, 1)\n",
    "ax[0][0].set_title(r'$x(t) = Ce^{at}  \\qquad  a>0$', fontsize=16)\n",
    "\n",
    "\n",
    "mpl_axes_stem(ax[0][1], sp.exp((t)/5), (t, -40, 40, 0.5), linefmt='b', markerfmt='bo')\n",
    "ax[0][1].set_xlim(-10, 10, 1)\n",
    "ax[0][1].set_ylim(0, 8, 1)\n",
    "ax[0][1].set_title(r'$x[n] = Ce^{an}  \\qquad  a>0$', fontsize=16)\n",
    "\n",
    "\n",
    "mpl_axes_plot(ax[1][0], sp.exp((-t)/5), (t, -40, 40), color='b')\n",
    "ax[1][0].scatter(0, 1, color='b')\n",
    "ax[1][0].set_xlim(-10, 10, 1)\n",
    "ax[1][0].set_ylim(0, 8, 1)\n",
    "ax[1][0].set_title(r'$x(t) = Ce^{at}  \\qquad  a<0$', fontsize=16)\n",
    "\n",
    "\n",
    "mpl_axes_stem(ax[1][1], sp.exp((-t)/5), (t, -40, 40, 0.5), linefmt='b', markerfmt='bo')\n",
    "ax[1][1].set_xlim(-10, 10, 1)\n",
    "ax[1][1].set_ylim(0, 8, 1)\n",
    "ax[1][1].set_title(r'$x[n] = Ce^{an}  \\qquad  a<0$', fontsize=16)\n",
    "\n",
    "plt.show()"
   ]
  },
  {
   "cell_type": "markdown",
   "metadata": {},
   "source": [
    "### Complex Exponential Signals"
   ]
  },
  {
   "cell_type": "code",
   "execution_count": null,
   "metadata": {
    "tags": [
     "hide_input"
    ]
   },
   "outputs": [
    {
     "ename": "",
     "evalue": "",
     "output_type": "error",
     "traceback": [
      "\u001b[1;31mFailed to start the Kernel. \n",
      "Unable to start Kernel 'base (Python 3.9.12)' due to connection timeout. \n",
      "View Jupyter <a href='command:jupyter.viewOutput'>log</a> for further details."
     ]
    }
   ],
   "source": [
    "# HIDE/SHOW\n",
    "fig, ax = plt.subplots(\n",
    "    2, 2, \n",
    "    figsize=(12, 8), \n",
    "    # tight_layout=True,\n",
    ")\n",
    "\n",
    "mpl_axes_plot(ax[0][0], sp.exp((t)/10)*sp.cos(2*np.pi*t/10), (t, -40, 40), color='b')\n",
    "mpl_axes_plot(ax[0][0], sp.exp((t)/10), (t, -40, 40), color='b', alpha=0.5, linestyle='--')\n",
    "mpl_axes_plot(ax[0][0], -sp.exp((t)/10), (t, -40, 40), color='b', alpha=0.5, linestyle='--')\n",
    "ax[0][0].set_xlim(-10, 10, 1)\n",
    "ax[0][0].set_ylim(-3, 3, 1)\n",
    "ax[0][0].set_title(r'$x(t) = Ce^{rt}\\cos(\\omega_0t+\\phi) \\qquad r>0$', fontsize=16)\n",
    "\n",
    "\n",
    "mpl_axes_stem(ax[0][1], sp.exp((t)/10)*sp.cos(2*np.pi*t/10), (t, -40, 40, 0.5), linefmt='b', markerfmt='bo')\n",
    "mpl_axes_plot(ax[0][1], sp.exp((t)/10), (t, -40, 40), color='b', alpha=0.5, linestyle='--')\n",
    "mpl_axes_plot(ax[0][1], -sp.exp((t)/10), (t, -40, 40), color='b', alpha=0.5, linestyle='--')\n",
    "ax[0][1].set_xlim(-10, 10, 1)\n",
    "ax[0][1].set_ylim(-3, 3, 1)\n",
    "ax[0][1].set_title(r'$x[n] = Ce^{rn}\\cos[\\omega_0n+\\phi] \\qquad r>0$', fontsize=16)\n",
    "\n",
    "\n",
    "mpl_axes_plot(ax[1][0], sp.exp((-t)/10)*sp.cos(2*np.pi*t/10), (t, -40, 40), color='b')\n",
    "mpl_axes_plot(ax[1][0], sp.exp((-t)/10), (t, -40, 40), color='b', alpha=0.5, linestyle='--')\n",
    "mpl_axes_plot(ax[1][0], -sp.exp((-t)/10), (t, -40, 40), color='b', alpha=0.5, linestyle='--')\n",
    "ax[1][0].set_xlim(-10, 10, 1)\n",
    "ax[1][0].set_ylim(-3, 3, 1)\n",
    "ax[1][0].set_title(r'$x(t) = Ce^{rt}\\cos(\\omega_0t+\\phi) \\qquad r<0$', fontsize=16)\n",
    "\n",
    "\n",
    "mpl_axes_stem(ax[1][1], sp.exp((-t)/10)*sp.cos(2*np.pi*t/10), (t, -40, 40, 0.5), linefmt='b', markerfmt='bo')\n",
    "mpl_axes_plot(ax[1][1], sp.exp((-t)/10), (t, -40, 40), color='b', alpha=0.5, linestyle='--')\n",
    "mpl_axes_plot(ax[1][1], -sp.exp((-t)/10), (t, -40, 40), color='b', alpha=0.5, linestyle='--')\n",
    "ax[1][1].set_xlim(-10, 10, 1)\n",
    "ax[1][1].set_ylim(-3, 3, 1)\n",
    "ax[1][1].set_title(r'$x[n] = Ce^{rn}\\cos[\\omega_0n+\\phi] \\qquad r<0$', fontsize=16)\n",
    "\n",
    "plt.show()"
   ]
  },
  {
   "cell_type": "markdown",
   "metadata": {},
   "source": [
    "## Elementary Signals"
   ]
  },
  {
   "cell_type": "markdown",
   "metadata": {},
   "source": [
    "### Unit Ramp (ReLU) Functions"
   ]
  },
  {
   "cell_type": "code",
   "execution_count": null,
   "metadata": {
    "tags": [
     "hide_input"
    ]
   },
   "outputs": [
    {
     "ename": "",
     "evalue": "",
     "output_type": "error",
     "traceback": [
      "\u001b[1;31mFailed to start the Kernel. \n",
      "Unable to start Kernel 'base (Python 3.9.12)' due to connection timeout. \n",
      "View Jupyter <a href='command:jupyter.viewOutput'>log</a> for further details."
     ]
    }
   ],
   "source": [
    "# HIDE/SHOW\n",
    "fig, ax = plt.subplots(\n",
    "    1, 2, \n",
    "    figsize=(12, 4), \n",
    "    # tight_layout=True,\n",
    ")\n",
    "\n",
    "mpl_axes_plot(ax[0], t*sp.Heaviside(t), (t, -40, 40), color='b')\n",
    "ax[0].set_xlim(-5, 5, 1)\n",
    "ax[0].set_ylim(-1, 5, 1)\n",
    "ax[0].set_title(r'$x(t)$', fontsize=16)\n",
    "\n",
    "mpl_axes_stem(ax[1], t*sp.Heaviside(t), (t, -40, 40, 0.25), linefmt='b', markerfmt='bo')\n",
    "ax[1].set_xlim(-5, 5, 1)\n",
    "ax[1].set_ylim(-1, 5, 1)\n",
    "ax[1].set_title(r'$x[n]$', fontsize=16)\n",
    "\n",
    "plt.show()"
   ]
  },
  {
   "cell_type": "markdown",
   "metadata": {},
   "source": [
    "### Unit Step (Heaviside) Functions"
   ]
  },
  {
   "cell_type": "code",
   "execution_count": null,
   "metadata": {
    "tags": [
     "hide_input"
    ]
   },
   "outputs": [
    {
     "ename": "",
     "evalue": "",
     "output_type": "error",
     "traceback": [
      "\u001b[1;31mFailed to start the Kernel. \n",
      "Unable to start Kernel 'base (Python 3.9.12)' due to connection timeout. \n",
      "View Jupyter <a href='command:jupyter.viewOutput'>log</a> for further details."
     ]
    }
   ],
   "source": [
    "# HIDE/SHOW\n",
    "fig, ax = plt.subplots(\n",
    "    1, 2, \n",
    "    figsize=(12, 4), \n",
    "    # tight_layout=True,\n",
    ")\n",
    "\n",
    "mpl_axes_plot(ax[0], sp.Heaviside(t), (t, -40, 40), color='b')\n",
    "ax[0].set_xlim(-5, 5, 1)\n",
    "ax[0].set_ylim(-2, 2, 1)\n",
    "ax[0].set_title(r'$x(t)$', fontsize=16)\n",
    "\n",
    "mpl_axes_stem(ax[1], sp.GreaterThan(t, 0), (t, -40, 40, 0.25), linefmt='b', markerfmt='bo')\n",
    "ax[1].set_xlim(-5, 5, 1)\n",
    "ax[1].set_ylim(-2, 2, 1)\n",
    "ax[1].set_title(r'$x[n]$', fontsize=16)\n",
    "\n",
    "plt.show()"
   ]
  },
  {
   "cell_type": "markdown",
   "metadata": {},
   "source": [
    "### Unit Rectangle Functions"
   ]
  },
  {
   "cell_type": "code",
   "execution_count": null,
   "metadata": {
    "tags": [
     "hide_input"
    ]
   },
   "outputs": [
    {
     "ename": "",
     "evalue": "",
     "output_type": "error",
     "traceback": [
      "\u001b[1;31mFailed to start the Kernel. \n",
      "Unable to start Kernel 'base (Python 3.9.12)' due to connection timeout. \n",
      "View Jupyter <a href='command:jupyter.viewOutput'>log</a> for further details."
     ]
    }
   ],
   "source": [
    "# HIDE/SHOW\n",
    "fig, ax = plt.subplots(\n",
    "    1, 2, \n",
    "    figsize=(12, 4), \n",
    "    # tight_layout=True,\n",
    ")\n",
    "\n",
    "rect = sp.Piecewise(\n",
    "    (0, sp.Or(sp.StrictLessThan(t, -1/2), sp.StrictGreaterThan(t, 1/2))),\n",
    "    (1, sp.And(sp.LessThan(t, 1/2), sp.GreaterThan(t, -1/2))),\n",
    ")\n",
    "\n",
    "mpl_axes_plot(ax[0], rect, (t, -40, 40), color='b')\n",
    "ax[0].set_xlim(-5, 5, 1)\n",
    "ax[0].set_ylim(-2, 2, 1)\n",
    "ax[0].set_title(r'$x(t)$', fontsize=16)\n",
    "\n",
    "mpl_axes_stem(ax[1], rect, (t, -40, 40, 0.25), linefmt='b', markerfmt='bo')\n",
    "ax[1].set_xlim(-5, 5, 1)\n",
    "ax[1].set_ylim(-2, 2, 1)\n",
    "ax[1].set_title(r'$x[n]$', fontsize=16)\n",
    "\n",
    "plt.show()"
   ]
  },
  {
   "cell_type": "markdown",
   "metadata": {},
   "source": [
    "### Unit Triangle Functions"
   ]
  },
  {
   "cell_type": "code",
   "execution_count": null,
   "metadata": {
    "tags": [
     "hide_input"
    ]
   },
   "outputs": [
    {
     "ename": "",
     "evalue": "",
     "output_type": "error",
     "traceback": [
      "\u001b[1;31mFailed to start the Kernel. \n",
      "Unable to start Kernel 'base (Python 3.9.12)' due to connection timeout. \n",
      "View Jupyter <a href='command:jupyter.viewOutput'>log</a> for further details."
     ]
    }
   ],
   "source": [
    "# HIDE/SHOW\n",
    "fig, ax = plt.subplots(\n",
    "    1, 2, \n",
    "    figsize=(12, 4), \n",
    "    # tight_layout=True,\n",
    ")\n",
    "tri = sp.Piecewise(\n",
    "    (0, sp.Or(sp.StrictLessThan(t, -1), sp.StrictGreaterThan(t, 1))),\n",
    "    (1+t, sp.And(sp.LessThan(t, 0), sp.GreaterThan(t, -1))),\n",
    "    (1-t, sp.And(sp.LessThan(t, 1), sp.GreaterThan(t, 0))),  \n",
    ")\n",
    "mpl_axes_plot(ax[0], tri, (t, -40, 40), color='b')\n",
    "ax[0].set_xlim(-5, 5, 1)\n",
    "ax[0].set_ylim(-2, 2, 1)\n",
    "ax[0].set_title(r'$x(t)$', fontsize=16)\n",
    "\n",
    "mpl_axes_stem(ax[1], tri, (t, -40, 40, 0.25), linefmt='b', markerfmt='bo')\n",
    "ax[1].set_xlim(-5, 5, 1)\n",
    "ax[1].set_ylim(-2, 2, 1)\n",
    "ax[1].set_title(r'$x[n]$', fontsize=16)\n",
    "\n",
    "plt.show()"
   ]
  },
  {
   "cell_type": "markdown",
   "metadata": {},
   "source": [
    "### Unit Sinc Functions"
   ]
  },
  {
   "cell_type": "code",
   "execution_count": null,
   "metadata": {
    "tags": [
     "hide_input"
    ]
   },
   "outputs": [
    {
     "ename": "",
     "evalue": "",
     "output_type": "error",
     "traceback": [
      "\u001b[1;31mFailed to start the Kernel. \n",
      "Unable to start Kernel 'base (Python 3.9.12)' due to connection timeout. \n",
      "View Jupyter <a href='command:jupyter.viewOutput'>log</a> for further details."
     ]
    }
   ],
   "source": [
    "# HIDE/SHOW\n",
    "fig, ax = plt.subplots(\n",
    "    1, 2, \n",
    "    figsize=(12, 4), \n",
    "    # tight_layout=True,\n",
    ")\n",
    "sinc = sp.sin(sp.pi*t)/(sp.pi*t)\n",
    "mpl_axes_plot(ax[0], sinc.subs(t, t+1e-8), (t, -40, 40), color='b')\n",
    "ax[0].set_xlim(-5, 5, 1)\n",
    "ax[0].set_ylim(-1, 2, 1)\n",
    "ax[0].set_title(r'$x(t)$', fontsize=16)\n",
    "\n",
    "mpl_axes_stem(ax[1], sinc.subs(t, t+1e-8), (t, -40, 40, 0.25), linefmt='b', markerfmt='bo')\n",
    "mpl_axes_stem(ax[1], 1, (t, 0, 1, 1), linefmt='b', markerfmt='bo')\n",
    "ax[1].set_xlim(-5, 5, 1)\n",
    "ax[1].set_ylim(-1, 2, 1)\n",
    "ax[1].set_title(r'$x[n]$', fontsize=16)\n",
    "\n",
    "plt.show()"
   ]
  },
  {
   "cell_type": "markdown",
   "metadata": {},
   "source": [
    "### Unit Impulse (Delta) Functions"
   ]
  },
  {
   "cell_type": "code",
   "execution_count": null,
   "metadata": {
    "tags": [
     "hide_input"
    ]
   },
   "outputs": [
    {
     "ename": "",
     "evalue": "",
     "output_type": "error",
     "traceback": [
      "\u001b[1;31mFailed to start the Kernel. \n",
      "Unable to start Kernel 'base (Python 3.9.12)' due to connection timeout. \n",
      "View Jupyter <a href='command:jupyter.viewOutput'>log</a> for further details."
     ]
    }
   ],
   "source": [
    "# HIDE/SHOW\n",
    "fig, ax = plt.subplots(\n",
    "    1, 2, \n",
    "    figsize=(12, 4), \n",
    "    # tight_layout=True,\n",
    ")\n",
    "\n",
    "delta = sp.Piecewise(\n",
    "    (1, sp.Equality(t, 0)),\n",
    "    (0, sp.Or(sp.StrictLessThan(t, 0), sp.StrictGreaterThan(t, 0))),\n",
    ")\n",
    "\n",
    "# mpl_axes_stem(ax[0], sp.Equality(t, 0), (t, 0, 1, 1), linefmt='b', markerfmt='b^')\n",
    "# mpl_axes_plot(ax[0], sp.Equality(t, 0), (t, -40, 40), color='k', alpha=0.5)\n",
    "mpl_axes_stem(ax[0], delta, (t, -40, 40, 0.25), linefmt='b', markerfmt=' ')\n",
    "ax[0].scatter(0, 1, color='b', marker='^', s=100)\n",
    "ax[0].set_xlim(-5, 5, 1)\n",
    "ax[0].set_ylim(-2, 2, 1)\n",
    "ax[0].set_title(r'$x(t)$', fontsize=16)\n",
    "\n",
    "mpl_axes_stem(ax[1], delta, (t, -40, 40, 0.25), linefmt='b', markerfmt='bo')\n",
    "ax[1].set_xlim(-5, 5, 1)\n",
    "ax[1].set_ylim(-2, 2, 1)\n",
    "ax[1].set_title(r'$x[n]$', fontsize=16)\n",
    "\n",
    "plt.show()"
   ]
  }
 ],
 "metadata": {
  "kernelspec": {
   "display_name": "Python 3.9.12 ('base')",
   "language": "python",
   "name": "python3"
  },
  "language_info": {
   "codemirror_mode": {
    "name": "ipython",
    "version": 3
   },
   "file_extension": ".py",
   "mimetype": "text/x-python",
   "name": "python",
   "nbconvert_exporter": "python",
   "pygments_lexer": "ipython3",
   "version": "3.9.12"
  },
  "vscode": {
   "interpreter": {
    "hash": "d594796bd8f1bbcbba7d96410b19473b7dd37b87d2c9c997260c2628fe83e732"
   }
  }
 },
 "nbformat": 4,
 "nbformat_minor": 4
}
