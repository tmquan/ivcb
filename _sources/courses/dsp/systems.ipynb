{
 "cells": [
  {
   "cell_type": "markdown",
   "metadata": {},
   "source": [
    "# Systems and Transformations"
   ]
  },
  {
   "cell_type": "code",
   "execution_count": 1,
   "metadata": {
    "tags": [
     "hide_input"
    ]
   },
   "outputs": [],
   "source": [
    "# HIDE/SHOW\n",
    "# ! pip install -U sympy \n",
    "# ! pip install -U numpy\n",
    "# ! pip install -U matplotlib\n",
    "\n",
    "# ! sudo apt install -y cm-super\n",
    "# ! sudo apt install -y texlive texlive-latex-extra texlive-fonts-recommended dvipng"
   ]
  },
  {
   "cell_type": "code",
   "execution_count": 2,
   "metadata": {
    "tags": [
     "hide_input"
    ]
   },
   "outputs": [],
   "source": [
    "# HIDE/SHOW\n",
    "# %reset -f\n",
    "! rm -rfv *.png *.jpg\n",
    "import os\n",
    "import shutil\n",
    "import warnings\n",
    "warnings.filterwarnings('ignore')\n",
    "\n",
    "from IPython.display import display, HTML\n",
    "import sympy as sp\n",
    "import numpy as np\n",
    "from lcapy import Circuit\n",
    "\n",
    "from sympy.abc import t, x, y\n",
    "import matplotlib.pyplot as plt\n",
    "from matplotlib.ticker import MaxNLocator\n",
    "\n",
    "saved_dir = \"systems\"\n",
    "if os.path.exists(saved_dir):\n",
    "    shutil.rmtree(saved_dir)\n",
    "os.makedirs(saved_dir)\n",
    "\n",
    "plt.rcParams['text.usetex'] = True\n",
    "plt.rcParams['font.family'] = 'serif'\n",
    "plt.rcParams['font.serif'] = ['Computer Modern Roman']\n",
    "plt.rcParams['font.sans-serif'] = ['Computer Modern Sans Serif']\n",
    "plt.rcParams['font.size'] = 24\n",
    "plt.rcParams['figure.figsize'] = (12, 8)\n",
    "plt.rcParams['axes.labelsize'] = 24\n",
    "plt.rcParams['axes.titlesize'] = 24\n",
    "plt.rcParams['xtick.labelsize'] = 16\n",
    "plt.rcParams['ytick.labelsize'] = 16\n",
    "%matplotlib inline "
   ]
  },
  {
   "cell_type": "code",
   "execution_count": 3,
   "metadata": {
    "tags": [
     "hide_input"
    ]
   },
   "outputs": [],
   "source": [
    "# HIDE/SHOW            \n",
    "def mpl_axes_plot(axes, expr, xrange, zero_is_none=False, **kwargs):\n",
    "    x, start, stop = xrange\n",
    "    func = sp.lambdify(x, expr)\n",
    "    x = np.linspace(start, stop, 10000)\n",
    "    y = func(x)\n",
    "    axes.tick_params(axis='x')\n",
    "    axes.tick_params(axis='y')\n",
    "    axes.xaxis.set_major_locator(MaxNLocator(integer=True))\n",
    "    axes.yaxis.set_major_locator(MaxNLocator(integer=True))\n",
    "    axes.grid(False)\n",
    "    axes.margins(0.02, 0.02)\n",
    "    if zero_is_none:\n",
    "        y[y==0] = np.nan\n",
    "    axes.plot(x, y, **kwargs)\n",
    "    axes.plot(x, np.zeros_like(x), color='k', alpha=0.5)\n",
    "    return axes\n",
    "    \n",
    "def mpl_axes_stem(axes, expr, xrange, zero_is_none=False, **kwargs):\n",
    "    x, start, stop, step = xrange\n",
    "    func = sp.lambdify(x, expr, ['numpy', 'sympy'])\n",
    "    x = np.arange(start, stop, step)\n",
    "    y = func(x)\n",
    "    axes.tick_params(axis='x')\n",
    "    axes.tick_params(axis='y')\n",
    "    axes.xaxis.set_major_locator(MaxNLocator(integer=True))\n",
    "    axes.yaxis.set_major_locator(MaxNLocator(integer=True))\n",
    "    axes.grid(False)\n",
    "    axes.margins(0.02, 0.02)\n",
    "    axes.plot(x, np.zeros_like(x), color='k', alpha=0.5)\n",
    "    if zero_is_none:\n",
    "        y[y==0] = np.nan\n",
    "    axes.stem(x, y, basefmt=\" \", use_line_collection=True, **kwargs)\n",
    "    return axes\n",
    "    \n",
    "def mpl_axes_step(axes, expr, xrange, **kwargs):\n",
    "    x, start, stop, step = xrange\n",
    "    func = sp.lambdify(x, expr)\n",
    "    x = np.arange(start, stop, step)\n",
    "    y = func(x)\n",
    "    axes.tick_params(axis='x')\n",
    "    axes.tick_params(axis='y')\n",
    "    axes.xaxis.set_major_locator(MaxNLocator(integer=True))\n",
    "    axes.yaxis.set_major_locator(MaxNLocator(integer=True))\n",
    "    axes.grid(False)\n",
    "    axes.margins(0.02, 0.02)\n",
    "    axes.plot(x, np.zeros_like(x), color='k', alpha=0.5)\n",
    "    return axes.step(x, y, **kwargs)"
   ]
  },
  {
   "cell_type": "markdown",
   "metadata": {},
   "source": [
    "## What are Systems?\n",
    "\n",
    "- Systems are the mappings from input signals to output signals. \n",
    "- Systems are mathematical models that transform the input signals to the output signals. \n",
    "- Systems are mathematical models that transform single input signal to single output signal. "
   ]
  },
  {
   "cell_type": "markdown",
   "metadata": {},
   "source": [
    "## Types of Systems\n",
    "\n",
    "- Continuous-Time (CT) Systems.\n",
    "- Discrete-Time (CT) Systems.\n",
    "- Deterministic Systems.\n",
    "- Probabilistic Systems."
   ]
  },
  {
   "cell_type": "code",
   "execution_count": 4,
   "metadata": {
    "tags": [
     "remove_cell",
     "hide_input"
    ]
   },
   "outputs": [],
   "source": [
    "# HIDE/SHOW\n",
    "Circuit(\"\"\"\n",
    "    S1 box; l=$x(t)$, right=0.5, aspect=1.1, draw=white\n",
    "    S2 box; l=$h(t)$, right=0.5, aspect=1.1, draw=black\n",
    "    S3 box; l=$y(t)$, right=0.5, aspect=1.1, draw=white\n",
    "    W S1.e S2.w; right=0.5, endarrow=stealth, color=black\n",
    "    W S2.e S3.w; right=0.5, endarrow=stealth, color=black\n",
    "; label_nodes=false, scale=0.5\n",
    "\"\"\").draw(os.path.join(saved_dir, \"ht.png\"))\n",
    "\n",
    "Circuit(\"\"\"\n",
    "    S1 box; l=$x[n]$, right=0.5, aspect=1.1, draw=white\n",
    "    S2 box; l=$h[n]$, right=0.5, aspect=1.1, draw=black\n",
    "    S3 box; l=$y[n]$, right=0.5, aspect=1.1, draw=white\n",
    "    W S1.e S2.w; right=0.5, endarrow=stealth, color=black\n",
    "    W S2.e S3.w; right=0.5, endarrow=stealth, color=black\n",
    "    ; label_nodes=false, scale=0.5\n",
    "\"\"\").draw(os.path.join(saved_dir, \"hn.png\"))\n",
    "\n",
    "Circuit(\"\"\"\n",
    "    S1 box; l=$x(t)$, down=0.5, aspect=1.1, draw=white\n",
    "    S2 box; l=$h(t)$, down=0.5, aspect=1.1, draw=black\n",
    "    S3 box; l=$y(t)$, down=0.5, aspect=1.1, draw=white\n",
    "    W S1.e S2.w; down=0.5, endarrow=stealth, color=black\n",
    "    W S2.e S3.w; down=0.5, endarrow=stealth, color=black\n",
    "; label_nodes=false, scale=0.5\n",
    "\"\"\").draw(os.path.join(saved_dir, \"vt.png\"))\n",
    "\n",
    "Circuit(\"\"\"\n",
    "    S1 box; l=$x[n]$, down=0.5, aspect=1.1, draw=white\n",
    "    S2 box; l=$h[n]$, down=0.5, aspect=1.1, draw=black\n",
    "    S3 box; l=$y[n]$, down=0.5, aspect=1.1, draw=white\n",
    "    W S1.e S2.w; down=0.5, endarrow=stealth, color=black\n",
    "    W S2.e S3.w; down=0.5, endarrow=stealth, color=black\n",
    "; label_nodes=false, scale=0.5\n",
    "\"\"\").draw(os.path.join(saved_dir, \"vn.png\"))"
   ]
  },
  {
   "cell_type": "markdown",
   "metadata": {},
   "source": [
    "<style>\n",
    "td, th {\n",
    "   border: none!important;\n",
    "}\n",
    "table th:first-of-type  {\n",
    "    width: 50%;\n",
    "}\n",
    "table th:nth-of-type(2) {\n",
    "    width: 50%;\n",
    "}\n",
    "img {\n",
    "    display: block; \n",
    "    margin-left: auto;\n",
    "    margin-right: auto;\n",
    "}\n",
    "</style>\n",
    "\n",
    "\n",
    "|      |      |\n",
    "|:----:|:----:|\n",
    "|   Continuous-time Systems | Discrete-time Systems        |\n",
    "|![alt](systems/ht.png)     | ![alt](systems/hn.png)       |\n",
    "|![alt](systems/vt.png)     | ![alt](systems/vn.png)       |"
   ]
  },
  {
   "cell_type": "markdown",
   "metadata": {},
   "source": [
    "## Classes of Systems"
   ]
  },
  {
   "cell_type": "markdown",
   "metadata": {},
   "source": [
    "### Memorial and Memoryless Systems"
   ]
  },
  {
   "cell_type": "markdown",
   "metadata": {},
   "source": [
    "### Causal and Noncausal Systems"
   ]
  },
  {
   "cell_type": "markdown",
   "metadata": {},
   "source": [
    "### Linear and Nonlinear Systems"
   ]
  },
  {
   "cell_type": "markdown",
   "metadata": {},
   "source": [
    "### Time-Invariant and Time-Varying Systems"
   ]
  },
  {
   "cell_type": "markdown",
   "metadata": {},
   "source": [
    "### Stable and Unstable Systems"
   ]
  },
  {
   "cell_type": "markdown",
   "metadata": {},
   "source": [
    "## Rigid Systems"
   ]
  },
  {
   "cell_type": "code",
   "execution_count": 5,
   "metadata": {
    "tags": [
     "hide_input"
    ]
   },
   "outputs": [],
   "source": [
    "# HIDE/SHOW\n",
    "f = sp.Piecewise(\n",
    "    (0, t<-5),                   \n",
    "    (10, (t>=-5)&(t<0)), \n",
    "    (20, (t>=0)&(t<5)), \n",
    "    (40-4*t, (t>=5)&(t<10)), \n",
    "    (0, t>=10)\n",
    ").subs(t, t+2)"
   ]
  },
  {
   "cell_type": "markdown",
   "metadata": {},
   "source": [
    "### Amplitude Scaling"
   ]
  },
  {
   "cell_type": "code",
   "execution_count": 6,
   "metadata": {
    "tags": [
     "hide_input"
    ]
   },
   "outputs": [],
   "source": [
    "# HIDE/SHOW\n",
    "fig, ax = plt.subplots(1, 1)\n",
    "mpl_axes_plot(ax, f, (t, -20, 20), color='b')\n",
    "ax.set_xlim(-20, 20, 0.2)\n",
    "ax.set_ylim(-35, 35, 0.2)\n",
    "ax.set_title(r'$x(t)$')\n",
    "plt.savefig(os.path.join(saved_dir,'signals_ct.png')); plt.close()\n",
    "\n",
    "fig, ax = plt.subplots(1, 1)\n",
    "mpl_axes_stem(ax, f, (t, -30, 30, 1), linefmt='b', markerfmt='bo')\n",
    "ax.set_xlim(-20, 20, 0.2)\n",
    "ax.set_ylim(-35, 35, 0.2)\n",
    "ax.set_title(r'$x[n]$')\n",
    "plt.savefig(os.path.join(saved_dir,'signals_dt.png')); plt.close()\n",
    "\n",
    "fig, ax = plt.subplots(1, 1)\n",
    "mpl_axes_plot(ax, 1.5*f, (t, -20, 20), color='b')\n",
    "ax.set_xlim(-20, 20, 0.2)\n",
    "ax.set_ylim(-35, 35, 0.2)\n",
    "ax.set_title(r'$Kx(t) \\quad K>1$')\n",
    "plt.savefig(os.path.join(saved_dir,'signals_K_gt_1_ct.png')); plt.close()\n",
    "\n",
    "fig, ax = plt.subplots(1, 1)\n",
    "mpl_axes_stem(ax, 1.5*f, (t, -30, 30, 1), linefmt='b', markerfmt='bo')\n",
    "ax.set_xlim(-20, 20, 0.2)\n",
    "ax.set_ylim(-35, 35, 0.2)\n",
    "ax.set_title(r'$Kx[n] \\quad K>1$')\n",
    "plt.savefig(os.path.join(saved_dir,'signals_K_gt_1_dt.png')); plt.close()\n",
    "\n",
    "fig, ax = plt.subplots(1, 1)\n",
    "mpl_axes_plot(ax, 0.4*f, (t, -20, 20), color='b')\n",
    "ax.set_xlim(-20, 20, 0.2)\n",
    "ax.set_ylim(-35, 35, 0.2)\n",
    "ax.set_title(r'$Kx(t) \\quad 0<K<1$')\n",
    "plt.savefig(os.path.join(saved_dir,'signals_K_gt_0_lt_1_ct.png')); plt.close()\n",
    "\n",
    "fig, ax = plt.subplots(1, 1)\n",
    "mpl_axes_stem(ax, 0.4*f, (t, -30, 30, 1), linefmt='b', markerfmt='bo')\n",
    "ax.set_xlim(-20, 20, 0.2)\n",
    "ax.set_ylim(-35, 35, 0.2)\n",
    "ax.set_title(r'$Kx[n] \\quad 0<K<1$')\n",
    "plt.savefig(os.path.join(saved_dir,'signals_K_gt_0_lt_1_dt.png')); plt.close()"
   ]
  },
  {
   "cell_type": "markdown",
   "metadata": {},
   "source": [
    "<style>\n",
    "td, th {\n",
    "   border: none!important;\n",
    "}\n",
    "table th:first-of-type  {\n",
    "    width: 50%;\n",
    "}\n",
    "table th:nth-of-type(2) {\n",
    "    width: 50%;\n",
    "}\n",
    "</style>\n",
    "\n",
    "|      |      |\n",
    "|:----:|:----:|\n",
    "|![alt](systems/signals_ct.png)                 | ![alt](systems/signals_dt.png)                |\n",
    "|![alt](systems/signals_K_gt_0_lt_1_ct.png)     | ![alt](systems/signals_K_gt_0_lt_1_dt.png)    |\n",
    "|![alt](systems/signals_K_gt_1_ct.png)          | ![alt](systems/signals_K_gt_1_dt.png)         |"
   ]
  },
  {
   "cell_type": "markdown",
   "metadata": {},
   "source": [
    "### Amplitude Reversal"
   ]
  },
  {
   "cell_type": "code",
   "execution_count": 7,
   "metadata": {
    "tags": [
     "hide_input"
    ]
   },
   "outputs": [],
   "source": [
    "# HIDE/SHOW\n",
    "a = -1\n",
    "# fig, ax = plt.subplots(1, 1)\n",
    "# mpl_axes_plot(ax, f, (t, -20, 20), color='b')\n",
    "# ax.set_xlim(-20, 20, 0.2)\n",
    "# ax.set_ylim(-35, 35, 0.2)\n",
    "# ax.set_title(r'$x(t)$')\n",
    "# plt.savefig(os.path.join(saved_dir,'signals_ct.png')); plt.close()\n",
    "\n",
    "# fig, ax = plt.subplots(1, 1)\n",
    "# mpl_axes_stem(ax, f, (t, -30, 30, 1), linefmt='b', markerfmt='bo')\n",
    "# ax.set_xlim(-20, 20, 0.2)\n",
    "# ax.set_ylim(-35, 35, 0.2)\n",
    "# ax.set_title(r'$x[n]$')\n",
    "# plt.savefig(os.path.join(saved_dir,'signals_dt.png')); plt.close()\n",
    "\n",
    "fig, ax = plt.subplots(1, 1)\n",
    "mpl_axes_plot(ax, a*f, (t, -20, 20), color='b')\n",
    "ax.set_xlim(-20, 20, 0.2)\n",
    "ax.set_ylim(-35, 35, 0.2)\n",
    "ax.set_title(r'$Kx(t) \\quad K=-1$')\n",
    "plt.savefig(os.path.join(saved_dir,'signals_K_lt_0_ct.png')); plt.close()\n",
    "\n",
    "fig, ax = plt.subplots(1, 1)\n",
    "mpl_axes_stem(ax, a*f, (t, -30, 30, 1), linefmt='b', markerfmt='bo')\n",
    "ax.set_xlim(-20, 20, 0.2)\n",
    "ax.set_ylim(-35, 35, 0.2)\n",
    "ax.set_title(r'$Kx[n] \\quad K=-1$')\n",
    "plt.savefig(os.path.join(saved_dir,'signals_K_lt_0_dt.png')); plt.close()"
   ]
  },
  {
   "cell_type": "markdown",
   "metadata": {},
   "source": [
    "<style>\n",
    "td, th {\n",
    "   border: none!important;\n",
    "}\n",
    "table th:first-of-type  {\n",
    "    width: 50%;\n",
    "}\n",
    "table th:nth-of-type(2) {\n",
    "    width: 50%;\n",
    "}\n",
    "</style>\n",
    "\n",
    "|      |      |\n",
    "|:----:|:----:|\n",
    "|![alt](systems/signals_ct.png)                 | ![alt](systems/signals_dt.png)                |\n",
    "|![alt](systems/signals_K_lt_0_ct.png)     | ![alt](systems/signals_K_lt_0_dt.png)    |"
   ]
  },
  {
   "cell_type": "markdown",
   "metadata": {},
   "source": [
    "### Time Shifting"
   ]
  },
  {
   "cell_type": "code",
   "execution_count": 8,
   "metadata": {
    "tags": [
     "hide_input"
    ]
   },
   "outputs": [],
   "source": [
    "# HIDE/SHOW\n",
    "# fig, ax = plt.subplots(1, 1)\n",
    "# mpl_axes_plot(ax, f, (t, -20, 20), color='b')\n",
    "# ax.set_xlim(-20, 20, 0.2)\n",
    "# ax.set_ylim(-35, 35, 0.2)\n",
    "# ax.set_title(r'$x(t)$')\n",
    "# plt.savefig(os.path.join(saved_dir,'signals_ct.png')); plt.close()\n",
    "\n",
    "# fig, ax = plt.subplots(1, 1)\n",
    "# mpl_axes_stem(ax, f, (t, -30, 30, 1), linefmt='b', markerfmt='bo')\n",
    "# ax.set_xlim(-20, 20, 0.2)\n",
    "# ax.set_ylim(-35, 35, 0.2)\n",
    "# ax.set_title(r'$x[n]$')\n",
    "# plt.savefig(os.path.join(saved_dir,'signals_dt.png')); plt.close()\n",
    "\n",
    "fig, ax = plt.subplots(1, 1)\n",
    "mpl_axes_plot(ax, f.subs(t, t+8), (t, -20, 20), color='b')\n",
    "ax.set_xlim(-20, 20, 0.2)\n",
    "ax.set_ylim(-35, 35, 0.2)\n",
    "ax.set_title(r'$x(t+b) \\quad b>0$')\n",
    "plt.savefig(os.path.join(saved_dir,'signals_b_gt_0_ct.png')); plt.close()\n",
    "\n",
    "fig, ax = plt.subplots(1, 1)\n",
    "mpl_axes_stem(ax, f.subs(t, t+8), (t, -30, 30, 1), linefmt='b', markerfmt='bo')\n",
    "ax.set_xlim(-20, 20, 0.2)\n",
    "ax.set_ylim(-35, 35, 0.2)\n",
    "ax.set_title(r'$x[n+b] \\quad b>0$')\n",
    "plt.savefig(os.path.join(saved_dir,'signals_b_gt_0_dt.png')); plt.close()\n",
    "\n",
    "fig, ax = plt.subplots(1, 1)\n",
    "mpl_axes_plot(ax, f.subs(t, t-8), (t, -20, 20), color='b')\n",
    "ax.set_xlim(-20, 20, 0.2)\n",
    "ax.set_ylim(-35, 35, 0.2)\n",
    "ax.set_title(r'$x(t-b) \\quad b>0$')\n",
    "plt.savefig(os.path.join(saved_dir,'signals_b_lt_0_ct.png')); plt.close()\n",
    "\n",
    "fig, ax = plt.subplots(1, 1)\n",
    "mpl_axes_stem(ax, f.subs(t, t-8), (t, -30, 30, 1), linefmt='b', markerfmt='bo')\n",
    "ax.set_xlim(-20, 20, 0.2)\n",
    "ax.set_ylim(-35, 35, 0.2)\n",
    "ax.set_title(r'$x[n-b] \\quad b>0$')\n",
    "plt.savefig(os.path.join(saved_dir,'signals_b_lt_0_dt.png')); plt.close()"
   ]
  },
  {
   "cell_type": "markdown",
   "metadata": {},
   "source": [
    "<style>\n",
    "td, th {\n",
    "   border: none!important;\n",
    "}\n",
    "table th:first-of-type  {\n",
    "    width: 50%;\n",
    "}\n",
    "table th:nth-of-type(2) {\n",
    "    width: 50%;\n",
    "}\n",
    "</style>\n",
    "\n",
    "|      |      |\n",
    "|:----:|:----:|\n",
    "|![alt](systems/signals_ct.png)                 | ![alt](systems/signals_dt.png)                |\n",
    "|![alt](systems/signals_b_gt_0_ct.png)          | ![alt](systems/signals_b_gt_0_dt.png)         |\n",
    "|![alt](systems/signals_b_lt_0_ct.png)          | ![alt](systems/signals_b_lt_0_dt.png)         |"
   ]
  },
  {
   "cell_type": "markdown",
   "metadata": {},
   "source": [
    "### Time Scaling"
   ]
  },
  {
   "cell_type": "code",
   "execution_count": 10,
   "metadata": {
    "tags": [
     "hide_input"
    ]
   },
   "outputs": [],
   "source": [
    "# HIDE/SHOW\n",
    "# fig, ax = plt.subplots(1, 1)\n",
    "# mpl_axes_plot(ax, f, (t, -20, 20), color='b')\n",
    "# ax.set_xlim(-20, 20, 0.2)\n",
    "# ax.set_ylim(-35, 35, 0.2)\n",
    "# ax.set_title(r'$x(t)$')\n",
    "# plt.savefig(os.path.join(saved_dir,'signals_ct.png')); plt.close()\n",
    "\n",
    "# fig, ax = plt.subplots(1, 1)\n",
    "# mpl_axes_stem(ax, f, (t, -30, 30, 1), linefmt='b', markerfmt='bo')\n",
    "# ax.set_xlim(-20, 20, 0.2)\n",
    "# ax.set_ylim(-35, 35, 0.2)\n",
    "# ax.set_title(r'$x[n]$')\n",
    "# plt.savefig(os.path.join(saved_dir,'signals_dt.png')); plt.close()\n",
    "\n",
    "a=2\n",
    "fig, ax = plt.subplots(1, 1)\n",
    "mpl_axes_plot(ax, f.subs(t, t/a), (t, -20, 20), color='b')\n",
    "ax.set_xlim(-20, 20, 0.2)\n",
    "ax.set_ylim(-35, 35, 0.2)\n",
    "ax.set_title(r'$x(at) \\quad a>1$')\n",
    "plt.savefig(os.path.join(saved_dir,'signals_a_gt_1_ct.png')); plt.close()\n",
    "\n",
    "fig, ax = plt.subplots(1, 1)\n",
    "mpl_axes_stem(ax, f.subs(t, t/a), (t, -30, 30, 1), linefmt='b', markerfmt='bo')\n",
    "ax.set_xlim(-20, 20, 0.2)\n",
    "ax.set_ylim(-35, 35, 0.2)\n",
    "ax.set_title(r'$x[an] \\quad a>1$')\n",
    "plt.savefig(os.path.join(saved_dir,'signals_a_gt_1_dt.png')); plt.close()\n",
    "\n",
    "fig, ax = plt.subplots(1, 1)\n",
    "mpl_axes_plot(ax, f.subs(t, t*a), (t, -20, 20), color='b')\n",
    "ax.set_xlim(-20, 20, 0.2)\n",
    "ax.set_ylim(-35, 35, 0.2)\n",
    "ax.set_title(r'$x(t/a) \\quad a>1$')\n",
    "plt.savefig(os.path.join(saved_dir,'signals_a_lt_1_gt_0_ct.png')); plt.close()\n",
    "\n",
    "fig, ax = plt.subplots(1, 1)\n",
    "mpl_axes_stem(ax, f.subs(t, t*a), (t, -30, 30, 1), linefmt='b', markerfmt='bo')\n",
    "ax.set_xlim(-20, 20, 0.2)\n",
    "ax.set_ylim(-35, 35, 0.2)\n",
    "ax.set_title(r'$x[n/a] \\quad a>1$')\n",
    "plt.savefig(os.path.join(saved_dir,'signals_a_lt_1_gt_0_dt.png')); plt.close()"
   ]
  },
  {
   "cell_type": "markdown",
   "metadata": {},
   "source": [
    "<style>\n",
    "td, th {\n",
    "   border: none!important;\n",
    "}\n",
    "table th:first-of-type  {\n",
    "    width: 50%;\n",
    "}\n",
    "table th:nth-of-type(2) {\n",
    "    width: 50%;\n",
    "}\n",
    "</style>\n",
    "\n",
    "|      |      |\n",
    "|:----:|:----:|\n",
    "|![alt](systems/signals_ct.png)                 | ![alt](systems/signals_dt.png)                |\n",
    "|![alt](systems/signals_a_gt_1_ct.png)          | ![alt](systems/signals_a_gt_1_dt.png)    |\n",
    "|![alt](systems/signals_a_lt_1_gt_0_ct.png)     | ![alt](systems/signals_a_lt_1_gt_0_dt.png)         |"
   ]
  },
  {
   "cell_type": "markdown",
   "metadata": {},
   "source": [
    "### Time Reversal "
   ]
  },
  {
   "cell_type": "code",
   "execution_count": null,
   "metadata": {
    "tags": [
     "hide_input"
    ]
   },
   "outputs": [],
   "source": [
    "# HIDE/SHOW\n",
    "# fig, ax = plt.subplots(1, 1)\n",
    "# mpl_axes_plot(ax, f, (t, -20, 20), color='b')\n",
    "# ax.set_xlim(-20, 20, 0.2)\n",
    "# ax.set_ylim(-35, 35, 0.2)\n",
    "# ax.set_title(r'$x(t)$')\n",
    "# plt.savefig(os.path.join(saved_dir,'signals_ct.png')); plt.close()\n",
    "\n",
    "# fig, ax = plt.subplots(1, 1)\n",
    "# mpl_axes_stem(ax, f, (t, -30, 30, 1), linefmt='b', markerfmt='bo')\n",
    "# ax.set_xlim(-20, 20, 0.2)\n",
    "# ax.set_ylim(-35, 35, 0.2)\n",
    "# ax.set_title(r'$x[n]$')\n",
    "# plt.savefig(os.path.join(saved_dir,'signals_dt.png')); plt.close()\n",
    "\n",
    "a=2\n",
    "fig, ax = plt.subplots(1, 1)\n",
    "mpl_axes_plot(ax, f.subs(t, -1*t), (t, -20, 20), color='b')\n",
    "ax.set_xlim(-20, 20, 0.2)\n",
    "ax.set_ylim(-35, 35, 0.2)\n",
    "ax.set_title(r'$x(at) \\quad a=-1$')\n",
    "plt.savefig(os.path.join(saved_dir,'signals_a_lt_1_ct.png')); plt.close()\n",
    "\n",
    "fig, ax = plt.subplots(1, 1)\n",
    "mpl_axes_stem(ax, f.subs(t, -1*t), (t, -30, 30, 1), linefmt='b', markerfmt='bo')\n",
    "ax.set_xlim(-20, 20, 0.2)\n",
    "ax.set_ylim(-35, 35, 0.2)\n",
    "ax.set_title(r'$x[an] \\quad a=-1$')\n",
    "plt.savefig(os.path.join(saved_dir,'signals_a_lt_1_dt.png')); plt.close()"
   ]
  },
  {
   "cell_type": "markdown",
   "metadata": {},
   "source": [
    "<style>\n",
    "td, th {\n",
    "   border: none!important;\n",
    "}\n",
    "table th:first-of-type  {\n",
    "    width: 50%;\n",
    "}\n",
    "table th:nth-of-type(2) {\n",
    "    width: 50%;\n",
    "}\n",
    "</style>\n",
    "\n",
    "|      |      |\n",
    "|:----:|:----:|\n",
    "|![alt](systems/signals_ct.png)                 | ![alt](systems/signals_dt.png)           |\n",
    "|![alt](systems/signals_a_lt_1_ct.png)          | ![alt](systems/signals_a_lt_1_dt.png)    |"
   ]
  },
  {
   "cell_type": "markdown",
   "metadata": {},
   "source": [
    "### Combined Operations\n",
    "\n",
    "<style>\n",
    "td, th {\n",
    "   border: none!important;\n",
    "}\n",
    "table th:first-of-type  {\n",
    "    width: 50%;\n",
    "}\n",
    "table th:nth-of-type(2) {\n",
    "    width: 50%;\n",
    "}\n",
    "img {\n",
    "    display: block; \n",
    "    margin-left: auto;\n",
    "    margin-right: auto;\n",
    "}\n",
    "</style>\n",
    "\n",
    "\n",
    "\n",
    "#### Method 1: Shift, then Scale (Recommended)\n",
    "|       |       |\n",
    "|:----  |:----: |\n",
    "|   Define $\\quad s(t) = x\\left(t+b\\right) \\quad$                     | Add/Subtract to $t$ only, **first**    |\n",
    "|   Define $\\quad y(t) = s\\left(at\\right) = x\\left(at+b\\right) \\quad$ | Multiply/Divide to $t$ only, **later** |        |\n",
    "\n",
    "#### Method 2: Scale, then Shift\n",
    "|       |       |\n",
    "|:----  |:----  |\n",
    "|   Define $\\quad s(t) = x\\left(at\\right)\\quad$                                     |   |\n",
    "|   Define $\\quad y(t) = s\\left(t+\\dfrac{b}{a}\\right) = x\\left(at+b\\right) \\quad$   |   |"
   ]
  },
  {
   "cell_type": "markdown",
   "metadata": {},
   "source": []
  }
 ],
 "metadata": {
  "kernelspec": {
   "display_name": "Python 3.9.12 ('base')",
   "language": "python",
   "name": "python3"
  },
  "language_info": {
   "codemirror_mode": {
    "name": "ipython",
    "version": 3
   },
   "file_extension": ".py",
   "mimetype": "text/x-python",
   "name": "python",
   "nbconvert_exporter": "python",
   "pygments_lexer": "ipython3",
   "version": "3.9.12"
  },
  "vscode": {
   "interpreter": {
    "hash": "d594796bd8f1bbcbba7d96410b19473b7dd37b87d2c9c997260c2628fe83e732"
   }
  }
 },
 "nbformat": 4,
 "nbformat_minor": 4
}
