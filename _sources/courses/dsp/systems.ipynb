{
 "cells": [
  {
   "cell_type": "markdown",
   "metadata": {},
   "source": [
    "# Systems and Transformations"
   ]
  },
  {
   "cell_type": "code",
   "execution_count": 1,
   "metadata": {
    "tags": [
     "remove_cell"
    ]
   },
   "outputs": [],
   "source": [
    "# HIDDEN\n",
    "from IPython.display import HTML\n",
    "HTML('''<script>\n",
    "var code_show_err = false; \n",
    "var code_toggle_err = function() {\n",
    " var stderrNodes = document.querySelectorAll('[data-mime-type=\"application/vnd.jupyter.stderr\"]')\n",
    " var stderr = Array.from(stderrNodes)\n",
    " if (code_show_err){\n",
    "     stderr.forEach(ele => ele.style.display = 'block');\n",
    " } else {\n",
    "     stderr.forEach(ele => ele.style.display = 'none');\n",
    " }\n",
    " code_show_err = !code_show_err\n",
    "} \n",
    "document.addEventListener('DOMContentLoaded', code_toggle_err);\n",
    "</script>\n",
    "To toggle on/off output_stderr, click <a onclick=\"javascript:code_toggle_err()\">here</a>.''')\n",
    "\n",
    "import warnings\n",
    "warnings.filterwarnings('ignore')\n",
    "\n",
    "import sympy as sp\n",
    "import numpy as np\n",
    "\n",
    "from sympy.abc import t, x, y\n",
    "from scipy import signal\n",
    "import matplotlib.pyplot as plt\n",
    "from matplotlib.ticker import MaxNLocator\n",
    "plt.rcParams['text.usetex'] = True\n",
    "%matplotlib inline \n",
    "         \n",
    "def mpl_axes_plot(axes, expr, xrange, zero_is_none=False, **kwargs):\n",
    "    x, start, stop = xrange\n",
    "    func = sp.lambdify(x, expr)\n",
    "    x = np.linspace(start, stop, 10000)\n",
    "    y = func(x)\n",
    "    axes.tick_params(axis='x', labelsize=8)\n",
    "    axes.tick_params(axis='y', labelsize=8)\n",
    "    axes.xaxis.set_major_locator(MaxNLocator(integer=True))\n",
    "    axes.yaxis.set_major_locator(MaxNLocator(integer=True))\n",
    "    axes.grid(False)\n",
    "    axes.margins(0.02, 0.02)\n",
    "    if zero_is_none:\n",
    "        y[y==0] = np.nan\n",
    "    axes.plot(x, y, **kwargs)\n",
    "    axes.plot(x, np.zeros_like(x), color='k', alpha=0.5)\n",
    "    return axes\n",
    "    \n",
    "def mpl_axes_stem(axes, expr, xrange, zero_is_none=False, **kwargs):\n",
    "    x, start, stop, step = xrange\n",
    "    func = sp.lambdify(x, expr, ['numpy', 'sympy'])\n",
    "    x = np.arange(start, stop, step)\n",
    "    y = func(x)\n",
    "    axes.tick_params(axis='x', labelsize=8)\n",
    "    axes.tick_params(axis='y', labelsize=8)\n",
    "    axes.xaxis.set_major_locator(MaxNLocator(integer=True))\n",
    "    axes.yaxis.set_major_locator(MaxNLocator(integer=True))\n",
    "    axes.grid(False)\n",
    "    axes.margins(0.02, 0.02)\n",
    "    axes.plot(x, np.zeros_like(x), color='k', alpha=0.5)\n",
    "    if zero_is_none:\n",
    "        y[y==0] = np.nan\n",
    "    axes.stem(x, y, basefmt=\" \", use_line_collection=True, **kwargs)\n",
    "    return axes\n",
    "    \n",
    "def mpl_axes_step(axes, expr, xrange, **kwargs):\n",
    "    x, start, stop, step = xrange\n",
    "    func = sp.lambdify(x, expr)\n",
    "    x = np.arange(start, stop, step)\n",
    "    y = func(x)\n",
    "    axes.tick_params(axis='x', labelsize=8)\n",
    "    axes.tick_params(axis='y', labelsize=8)\n",
    "    axes.xaxis.set_major_locator(MaxNLocator(integer=True))\n",
    "    axes.yaxis.set_major_locator(MaxNLocator(integer=True))\n",
    "    axes.grid(False)\n",
    "    axes.margins(0.02, 0.02)\n",
    "    axes.plot(x, np.zeros_like(x), color='k', alpha=0.5)\n",
    "    return axes.step(x, y, **kwargs)"
   ]
  },
  {
   "cell_type": "markdown",
   "metadata": {},
   "source": [
    "## What are Systems?"
   ]
  },
  {
   "cell_type": "markdown",
   "metadata": {},
   "source": [
    "- Systems are the mappings from input signals to output signals. \n",
    "- Systems are mathematical models that transform the input signals to the output signals. \n",
    "- Systems are mathematical models that transform single input signal to single output signal. "
   ]
  },
  {
   "cell_type": "markdown",
   "metadata": {},
   "source": [
    "## Types of Systems"
   ]
  },
  {
   "cell_type": "markdown",
   "metadata": {},
   "source": [
    "- Continuous-Time (CT) Systems.\n",
    "- Discrete-Time (CT) Systems.\n",
    "- Deterministic Systems.\n",
    "- Probabilistic Systems."
   ]
  },
  {
   "cell_type": "markdown",
   "metadata": {},
   "source": [
    "## Affine (Shape-preserved) Systems"
   ]
  },
  {
   "cell_type": "code",
   "execution_count": 2,
   "metadata": {
    "tags": [
     "hide_input"
    ]
   },
   "outputs": [],
   "source": [
    "# HIDE/SHOW\n",
    "f = sp.Piecewise(\n",
    "    (0, t<-5),                   \n",
    "    (10, (t>=-5)&(t<0)), \n",
    "    (20, (t>=0)&(t<5)), \n",
    "    (40-4*t, (t>=5)&(t<10)), \n",
    "    (0, t>=10)\n",
    ").subs(t, t+2)"
   ]
  },
  {
   "cell_type": "markdown",
   "metadata": {},
   "source": [
    "### Time Shifting"
   ]
  },
  {
   "cell_type": "code",
   "execution_count": 3,
   "metadata": {
    "tags": [
     "hide_input"
    ]
   },
   "outputs": [
    {
     "data": {
      "image/png": "[encoded data removed]",
      "text/plain": [
       "<Figure size 864x864 with 6 Axes>"
      ]
     },
     "metadata": {
      "needs_background": "light"
     },
     "output_type": "display_data"
    }
   ],
   "source": [
    "# HIDE/SHOW\n",
    "fig, ax = plt.subplots(\n",
    "    3, 2, \n",
    "    figsize=(12, 12), \n",
    "    # tight_layout=True,\n",
    ")\n",
    "    \n",
    "mpl_axes_plot(ax[0][0], f, (t, -20, 20), color='b')\n",
    "ax[0][0].set_xlim(-20, 20, 0.2)\n",
    "ax[0][0].set_ylim(-35, 35, 0.2)\n",
    "ax[0][0].set_title(r'$x(t)$', fontsize=16)\n",
    "\n",
    "\n",
    "mpl_axes_stem(ax[0][1], f, (t, -30, 30, 1), linefmt='b', markerfmt='bo')\n",
    "ax[0][1].set_xlim(-20, 20, 0.2)\n",
    "ax[0][1].set_ylim(-35, 35, 0.2)\n",
    "ax[0][1].set_title(r'$x[n]$', fontsize=16)\n",
    "\n",
    "mpl_axes_plot(ax[1][0], f.subs(t, t+8), (t, -20, 20), color='b')\n",
    "ax[1][0].set_xlim(-20, 20, 0.2)\n",
    "ax[1][0].set_ylim(-35, 35, 0.2)\n",
    "ax[1][0].set_title(r'$x(t+b) \\qquad b>0$', fontsize=16)\n",
    "\n",
    "mpl_axes_stem(ax[1][1], f.subs(t, t+8), (t, -30, 30, 1), linefmt='b', markerfmt='bo')\n",
    "ax[1][1].set_xlim(-20, 20, 0.2)\n",
    "ax[1][1].set_ylim(-35, 35, 0.2)\n",
    "ax[1][1].set_title(r'$x[n+b] \\qquad b>0$', fontsize=16)\n",
    "\n",
    "mpl_axes_plot(ax[2][0], f.subs(t, t-8), (t, -20, 20), color='b')\n",
    "ax[2][0].set_xlim(-20, 20, 0.2)\n",
    "ax[2][0].set_ylim(-35, 35, 0.2)\n",
    "ax[2][0].set_title(r'$x(t-b) \\qquad b>0$', fontsize=16)\n",
    "\n",
    "\n",
    "mpl_axes_stem(ax[2][1], f.subs(t, t-8), (t, -30, 30, 1), linefmt='b', markerfmt='bo')\n",
    "ax[2][1].set_xlim(-20, 20, 0.2)\n",
    "ax[2][1].set_ylim(-35, 35, 0.2)\n",
    "ax[2][1].set_title(r'$x[n-b] \\qquad b>0$', fontsize=16)\n",
    "\n",
    "plt.show()"
   ]
  },
  {
   "cell_type": "markdown",
   "metadata": {},
   "source": [
    "### Time Scaling"
   ]
  },
  {
   "cell_type": "code",
   "execution_count": 9,
   "metadata": {
    "tags": [
     "hide_input"
    ]
   },
   "outputs": [
    {
     "data": {
      "image/png": "[encoded data removed]",
      "text/plain": [
       "<Figure size 864x864 with 6 Axes>"
      ]
     },
     "metadata": {
      "needs_background": "light"
     },
     "output_type": "display_data"
    }
   ],
   "source": [
    "# HIDE/SHOW\n",
    "fig, ax = plt.subplots(\n",
    "    3, 2, \n",
    "    figsize=(12, 12), \n",
    "    # tight_layout=True,\n",
    ")\n",
    "\n",
    "a = 2\n",
    "\n",
    "mpl_axes_plot(ax[0][0], f, (t, -20, 20), color='b')\n",
    "ax[0][0].set_xlim(-20, 20, 0.2)\n",
    "ax[0][0].set_ylim(-35, 35, 0.2)\n",
    "ax[0][0].set_title(r'$x(t)$', fontsize=16)\n",
    "\n",
    "mpl_axes_stem(ax[0][1], f, (t, -30, 30, 1), linefmt='b', markerfmt='bo')\n",
    "ax[0][1].set_xlim(-20, 20, 0.2)\n",
    "ax[0][1].set_ylim(-35, 35, 0.2)\n",
    "ax[0][1].set_title(r'$x[n]$', fontsize=16)\n",
    "\n",
    "mpl_axes_plot(ax[1][0], f.subs(t, a*t), (t, -20, 20), color='b')\n",
    "ax[1][0].set_xlim(-20, 20, 0.2)\n",
    "ax[1][0].set_ylim(-35, 35, 0.2)\n",
    "ax[1][0].set_title(r'$x(at) \\qquad a>1$', fontsize=16)\n",
    "\n",
    "mpl_axes_stem(ax[1][1], f.subs(t, a*t), (t, -30, 30, 1), linefmt='b', markerfmt='bo')\n",
    "ax[1][1].set_xlim(-20, 20, 0.2)\n",
    "ax[1][1].set_ylim(-35, 35, 0.2)\n",
    "ax[1][1].set_title(r'$x[an] \\qquad a>1$', fontsize=16)\n",
    "\n",
    "a = 2\n",
    "mpl_axes_plot(ax[2][0], f.subs(t, t/a), (t, -20, 20), color='b')\n",
    "ax[2][0].set_xlim(-20, 20, 0.2)\n",
    "ax[2][0].set_ylim(-35, 35, 0.2)\n",
    "ax[2][0].set_title(r'$x(t/a) \\qquad a>1$', fontsize=16)\n",
    "\n",
    "\n",
    "mpl_axes_stem(ax[2][1], f.subs(t, t/a), (t, -30, 30, 1), linefmt='b', markerfmt='bo')\n",
    "ax[2][1].set_xlim(-20, 20, 0.2)\n",
    "ax[2][1].set_ylim(-35, 35, 0.2)\n",
    "ax[2][1].set_title(r'$x[n/a] \\qquad a>1$', fontsize=16)\n",
    "\n",
    "plt.show()"
   ]
  },
  {
   "cell_type": "code",
   "execution_count": null,
   "metadata": {},
   "outputs": [],
   "source": []
  },
  {
   "cell_type": "code",
   "execution_count": null,
   "metadata": {},
   "outputs": [],
   "source": []
  }
 ],
 "metadata": {
  "kernelspec": {
   "display_name": "Python 3.8.8 ('base')",
   "language": "python",
   "name": "python3"
  },
  "language_info": {
   "codemirror_mode": {
    "name": "ipython",
    "version": 3
   },
   "file_extension": ".py",
   "mimetype": "text/x-python",
   "name": "python",
   "nbconvert_exporter": "python",
   "pygments_lexer": "ipython3",
   "version": "3.8.8"
  },
  "vscode": {
   "interpreter": {
    "hash": "8097735f04f37b3c74e7078c27a78542a8f14d25b7e061c260bf54ce8a9f0548"
   }
  }
 },
 "nbformat": 4,
 "nbformat_minor": 2
}
