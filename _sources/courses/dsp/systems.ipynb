{
 "cells": [
  {
   "cell_type": "markdown",
   "metadata": {},
   "source": [
    "# Systems and Transformations"
   ]
  },
  {
   "cell_type": "code",
   "execution_count": null,
   "metadata": {
    "tags": [
     "remove_cell"
    ]
   },
   "outputs": [
    {
     "ename": "",
     "evalue": "",
     "output_type": "error",
     "traceback": [
      "\u001b[1;31mFailed to start the Kernel. \n",
      "Unable to start Kernel 'base (Python 3.9.12)' due to connection timeout. \n",
      "View Jupyter <a href='command:jupyter.viewOutput'>log</a> for further details."
     ]
    }
   ],
   "source": [
    "# HIDDEN\n",
    "from IPython.display import HTML\n",
    "HTML('''<script>\n",
    "var code_show_err = false; \n",
    "var code_toggle_err = function() {\n",
    " var stderrNodes = document.querySelectorAll('[data-mime-type=\"application/vnd.jupyter.stderr\"]')\n",
    " var stderr = Array.from(stderrNodes)\n",
    " if (code_show_err){\n",
    "     stderr.forEach(ele => ele.style.display = 'block');\n",
    " } else {\n",
    "     stderr.forEach(ele => ele.style.display = 'none');\n",
    " }\n",
    " code_show_err = !code_show_err\n",
    "} \n",
    "document.addEventListener('DOMContentLoaded', code_toggle_err);\n",
    "</script>\n",
    "To toggle on/off output_stderr, click <a onclick=\"javascript:code_toggle_err()\">here</a>.''')\n",
    "\n",
    "import warnings\n",
    "warnings.filterwarnings('ignore')\n",
    "\n",
    "import sympy as sp\n",
    "import numpy as np\n",
    "\n",
    "from sympy.abc import t, x, y\n",
    "from scipy import signal\n",
    "import matplotlib.pyplot as plt\n",
    "from matplotlib.ticker import MaxNLocator\n",
    "plt.rcParams['text.usetex'] = True\n",
    "%matplotlib inline \n",
    "         \n",
    "def mpl_axes_plot(axes, expr, xrange, zero_is_none=False, **kwargs):\n",
    "    x, start, stop = xrange\n",
    "    func = sp.lambdify(x, expr)\n",
    "    x = np.linspace(start, stop, 10000)\n",
    "    y = func(x)\n",
    "    axes.tick_params(axis='x', labelsize=8)\n",
    "    axes.tick_params(axis='y', labelsize=8)\n",
    "    axes.xaxis.set_major_locator(MaxNLocator(integer=True))\n",
    "    axes.yaxis.set_major_locator(MaxNLocator(integer=True))\n",
    "    axes.grid(False)\n",
    "    axes.margins(0.02, 0.02)\n",
    "    if zero_is_none:\n",
    "        y[y==0] = np.nan\n",
    "    axes.plot(x, y, **kwargs)\n",
    "    axes.plot(x, np.zeros_like(x), color='k', alpha=0.5)\n",
    "    return axes\n",
    "    \n",
    "def mpl_axes_stem(axes, expr, xrange, zero_is_none=False, **kwargs):\n",
    "    x, start, stop, step = xrange\n",
    "    func = sp.lambdify(x, expr, ['numpy', 'sympy'])\n",
    "    x = np.arange(start, stop, step)\n",
    "    y = func(x)\n",
    "    axes.tick_params(axis='x', labelsize=8)\n",
    "    axes.tick_params(axis='y', labelsize=8)\n",
    "    axes.xaxis.set_major_locator(MaxNLocator(integer=True))\n",
    "    axes.yaxis.set_major_locator(MaxNLocator(integer=True))\n",
    "    axes.grid(False)\n",
    "    axes.margins(0.02, 0.02)\n",
    "    axes.plot(x, np.zeros_like(x), color='k', alpha=0.5)\n",
    "    if zero_is_none:\n",
    "        y[y==0] = np.nan\n",
    "    axes.stem(x, y, basefmt=\" \", use_line_collection=True, **kwargs)\n",
    "    return axes\n",
    "    \n",
    "def mpl_axes_step(axes, expr, xrange, **kwargs):\n",
    "    x, start, stop, step = xrange\n",
    "    func = sp.lambdify(x, expr)\n",
    "    x = np.arange(start, stop, step)\n",
    "    y = func(x)\n",
    "    axes.tick_params(axis='x', labelsize=8)\n",
    "    axes.tick_params(axis='y', labelsize=8)\n",
    "    axes.xaxis.set_major_locator(MaxNLocator(integer=True))\n",
    "    axes.yaxis.set_major_locator(MaxNLocator(integer=True))\n",
    "    axes.grid(False)\n",
    "    axes.margins(0.02, 0.02)\n",
    "    axes.plot(x, np.zeros_like(x), color='k', alpha=0.5)\n",
    "    return axes.step(x, y, **kwargs)"
   ]
  },
  {
   "cell_type": "markdown",
   "metadata": {},
   "source": [
    "## What are Systems?"
   ]
  },
  {
   "cell_type": "markdown",
   "metadata": {},
   "source": [
    "- Systems are the mappings from input signals to output signals. \n",
    "- Systems are mathematical models that transform the input signals to the output signals. \n",
    "- Systems are mathematical models that transform single input signal to single output signal. "
   ]
  },
  {
   "cell_type": "markdown",
   "metadata": {},
   "source": [
    "## Types of Systems"
   ]
  },
  {
   "cell_type": "markdown",
   "metadata": {},
   "source": [
    "- Continuous-Time (CT) Systems.\n",
    "- Discrete-Time (CT) Systems.\n",
    "- Deterministic Systems.\n",
    "- Probabilistic Systems."
   ]
  },
  {
   "cell_type": "markdown",
   "metadata": {},
   "source": [
    "## Rigid (Shape-preserved) Systems"
   ]
  },
  {
   "cell_type": "code",
   "execution_count": null,
   "metadata": {
    "tags": [
     "hide_input"
    ]
   },
   "outputs": [
    {
     "ename": "",
     "evalue": "",
     "output_type": "error",
     "traceback": [
      "\u001b[1;31mFailed to start the Kernel. \n",
      "Unable to start Kernel 'base (Python 3.9.12)' due to connection timeout. \n",
      "View Jupyter <a href='command:jupyter.viewOutput'>log</a> for further details."
     ]
    }
   ],
   "source": [
    "# HIDE/SHOW\n",
    "f = sp.Piecewise(\n",
    "    (0, t<-5),                   \n",
    "    (10, (t>=-5)&(t<0)), \n",
    "    (20, (t>=0)&(t<5)), \n",
    "    (40-4*t, (t>=5)&(t<10)), \n",
    "    (0, t>=10)\n",
    ").subs(t, t+2)"
   ]
  },
  {
   "cell_type": "markdown",
   "metadata": {},
   "source": [
    "### Amplitude Scaling"
   ]
  },
  {
   "cell_type": "code",
   "execution_count": null,
   "metadata": {
    "tags": [
     "hide_input"
    ]
   },
   "outputs": [
    {
     "ename": "",
     "evalue": "",
     "output_type": "error",
     "traceback": [
      "\u001b[1;31mFailed to start the Kernel. \n",
      "Unable to start Kernel 'base (Python 3.9.12)' due to connection timeout. \n",
      "View Jupyter <a href='command:jupyter.viewOutput'>log</a> for further details."
     ]
    }
   ],
   "source": [
    "# HIDE/SHOW\n",
    "fig, ax = plt.subplots(\n",
    "    3, 2, \n",
    "    figsize=(12, 12), \n",
    "    # tight_layout=True,\n",
    ")\n",
    "    \n",
    "mpl_axes_plot(ax[0][0], f, (t, -20, 20), color='b')\n",
    "ax[0][0].set_xlim(-20, 20, 0.2)\n",
    "ax[0][0].set_ylim(-35, 35, 0.2)\n",
    "ax[0][0].set_title(r'$x(t)$', fontsize=16)\n",
    "\n",
    "\n",
    "mpl_axes_stem(ax[0][1], f, (t, -30, 30, 1), linefmt='b', markerfmt='bo')\n",
    "ax[0][1].set_xlim(-20, 20, 0.2)\n",
    "ax[0][1].set_ylim(-35, 35, 0.2)\n",
    "ax[0][1].set_title(r'$x[n]$', fontsize=16)\n",
    "\n",
    "mpl_axes_plot(ax[1][0], 1.5*f, (t, -20, 20), color='b')\n",
    "ax[1][0].set_xlim(-20, 20, 0.2)\n",
    "ax[1][0].set_ylim(-35, 35, 0.2)\n",
    "ax[1][0].set_title(r'$Kx(t) \\quad K>1$', fontsize=16)\n",
    "\n",
    "mpl_axes_stem(ax[1][1], 1.5*f, (t, -30, 30, 1), linefmt='b', markerfmt='bo')\n",
    "ax[1][1].set_xlim(-20, 20, 0.2)\n",
    "ax[1][1].set_ylim(-35, 35, 0.2)\n",
    "ax[1][1].set_title(r'$Kx[n] \\quad K>1$', fontsize=16)\n",
    "\n",
    "mpl_axes_plot(ax[2][0], 0.4*f, (t, -20, 20), color='b')\n",
    "ax[2][0].set_xlim(-20, 20, 0.2)\n",
    "ax[2][0].set_ylim(-35, 35, 0.2)\n",
    "ax[2][0].set_title(r'$Kx(t) \\quad 0<K<1$', fontsize=16)\n",
    "\n",
    "\n",
    "mpl_axes_stem(ax[2][1], 0.4*f, (t, -30, 30, 1), linefmt='b', markerfmt='bo')\n",
    "ax[2][1].set_xlim(-20, 20, 0.2)\n",
    "ax[2][1].set_ylim(-35, 35, 0.2)\n",
    "ax[2][1].set_title(r'$Kx[n] \\quad 0<K<1$', fontsize=16)\n",
    "\n",
    "plt.show()"
   ]
  },
  {
   "cell_type": "markdown",
   "metadata": {},
   "source": [
    "### Amplitude Reversal"
   ]
  },
  {
   "cell_type": "code",
   "execution_count": null,
   "metadata": {
    "tags": [
     "hide_input"
    ]
   },
   "outputs": [
    {
     "ename": "",
     "evalue": "",
     "output_type": "error",
     "traceback": [
      "\u001b[1;31mFailed to start the Kernel. \n",
      "Unable to start Kernel 'base (Python 3.9.12)' due to connection timeout. \n",
      "View Jupyter <a href='command:jupyter.viewOutput'>log</a> for further details."
     ]
    }
   ],
   "source": [
    "# HIDE/SHOW\n",
    "fig, ax = plt.subplots(\n",
    "    2, 2, \n",
    "    figsize=(12, 8), \n",
    "    # tight_layout=True,\n",
    ")\n",
    "\n",
    "a = -1\n",
    "mpl_axes_plot(ax[0][0], f, (t, -20, 20), color='b')\n",
    "ax[0][0].set_xlim(-20, 20, 0.2)\n",
    "ax[0][0].set_ylim(-35, 35, 0.2)\n",
    "ax[0][0].set_title(r'$x(t)$', fontsize=16)\n",
    "\n",
    "mpl_axes_stem(ax[0][1], f, (t, -30, 30, 1), linefmt='b', markerfmt='bo')\n",
    "ax[0][1].set_xlim(-20, 20, 0.2)\n",
    "ax[0][1].set_ylim(-35, 35, 0.2)\n",
    "ax[0][1].set_title(r'$x[n]$', fontsize=16)\n",
    "\n",
    "mpl_axes_plot(ax[1][0], -f, (t, -20, 20), color='b')\n",
    "ax[1][0].set_xlim(-20, 20, 0.2)\n",
    "ax[1][0].set_ylim(-35, 35, 0.2)\n",
    "ax[1][0].set_title(r'$-x(t)$', fontsize=16)\n",
    "\n",
    "mpl_axes_stem(ax[1][1], -f, (t, -30, 30, 1), linefmt='b', markerfmt='bo')\n",
    "ax[1][1].set_xlim(-20, 20, 0.2)\n",
    "ax[1][1].set_ylim(-35, 35, 0.2)\n",
    "ax[1][1].set_title(r'$-x[n]$', fontsize=16)\n",
    "\n",
    "plt.show()"
   ]
  },
  {
   "cell_type": "markdown",
   "metadata": {},
   "source": [
    "### Time Shifting"
   ]
  },
  {
   "cell_type": "code",
   "execution_count": null,
   "metadata": {
    "tags": [
     "hide_input"
    ]
   },
   "outputs": [
    {
     "ename": "",
     "evalue": "",
     "output_type": "error",
     "traceback": [
      "\u001b[1;31mFailed to start the Kernel. \n",
      "Unable to start Kernel 'base (Python 3.9.12)' due to connection timeout. \n",
      "View Jupyter <a href='command:jupyter.viewOutput'>log</a> for further details."
     ]
    }
   ],
   "source": [
    "# HIDE/SHOW\n",
    "fig, ax = plt.subplots(\n",
    "    3, 2, \n",
    "    figsize=(12, 12), \n",
    "    # tight_layout=True,\n",
    ")\n",
    "    \n",
    "mpl_axes_plot(ax[0][0], f, (t, -20, 20), color='b')\n",
    "ax[0][0].set_xlim(-20, 20, 0.2)\n",
    "ax[0][0].set_ylim(-35, 35, 0.2)\n",
    "ax[0][0].set_title(r'$x(t)$', fontsize=16)\n",
    "\n",
    "\n",
    "mpl_axes_stem(ax[0][1], f, (t, -30, 30, 1), linefmt='b', markerfmt='bo')\n",
    "ax[0][1].set_xlim(-20, 20, 0.2)\n",
    "ax[0][1].set_ylim(-35, 35, 0.2)\n",
    "ax[0][1].set_title(r'$x[n]$', fontsize=16)\n",
    "\n",
    "mpl_axes_plot(ax[1][0], f.subs(t, t+8), (t, -20, 20), color='b')\n",
    "ax[1][0].set_xlim(-20, 20, 0.2)\n",
    "ax[1][0].set_ylim(-35, 35, 0.2)\n",
    "ax[1][0].set_title(r'$x(t+b) \\quad b>0$', fontsize=16)\n",
    "\n",
    "mpl_axes_stem(ax[1][1], f.subs(t, t+8), (t, -30, 30, 1), linefmt='b', markerfmt='bo')\n",
    "ax[1][1].set_xlim(-20, 20, 0.2)\n",
    "ax[1][1].set_ylim(-35, 35, 0.2)\n",
    "ax[1][1].set_title(r'$x[n+b] \\quad b>0$', fontsize=16)\n",
    "\n",
    "mpl_axes_plot(ax[2][0], f.subs(t, t-8), (t, -20, 20), color='b')\n",
    "ax[2][0].set_xlim(-20, 20, 0.2)\n",
    "ax[2][0].set_ylim(-35, 35, 0.2)\n",
    "ax[2][0].set_title(r'$x(t-b) \\quad b>0$', fontsize=16)\n",
    "\n",
    "\n",
    "mpl_axes_stem(ax[2][1], f.subs(t, t-8), (t, -30, 30, 1), linefmt='b', markerfmt='bo')\n",
    "ax[2][1].set_xlim(-20, 20, 0.2)\n",
    "ax[2][1].set_ylim(-35, 35, 0.2)\n",
    "ax[2][1].set_title(r'$x[n-b] \\quad b>0$', fontsize=16)\n",
    "\n",
    "plt.show()"
   ]
  },
  {
   "cell_type": "markdown",
   "metadata": {},
   "source": [
    "### Time Scaling"
   ]
  },
  {
   "cell_type": "code",
   "execution_count": null,
   "metadata": {
    "tags": [
     "hide_input"
    ]
   },
   "outputs": [
    {
     "ename": "",
     "evalue": "",
     "output_type": "error",
     "traceback": [
      "\u001b[1;31mFailed to start the Kernel. \n",
      "Unable to start Kernel 'base (Python 3.9.12)' due to connection timeout. \n",
      "View Jupyter <a href='command:jupyter.viewOutput'>log</a> for further details."
     ]
    }
   ],
   "source": [
    "# HIDE/SHOW\n",
    "fig, ax = plt.subplots(\n",
    "    3, 2, \n",
    "    figsize=(12, 12), \n",
    "    # tight_layout=True,\n",
    ")\n",
    "\n",
    "a = 2\n",
    "\n",
    "mpl_axes_plot(ax[0][0], f, (t, -20, 20), color='b')\n",
    "ax[0][0].set_xlim(-20, 20, 0.2)\n",
    "ax[0][0].set_ylim(-35, 35, 0.2)\n",
    "ax[0][0].set_title(r'$x(t)$', fontsize=16)\n",
    "\n",
    "mpl_axes_stem(ax[0][1], f, (t, -30, 30, 1), linefmt='b', markerfmt='bo')\n",
    "ax[0][1].set_xlim(-20, 20, 0.2)\n",
    "ax[0][1].set_ylim(-35, 35, 0.2)\n",
    "ax[0][1].set_title(r'$x[n]$', fontsize=16)\n",
    "\n",
    "mpl_axes_plot(ax[1][0], f.subs(t, a*t), (t, -20, 20), color='b')\n",
    "ax[1][0].set_xlim(-20, 20, 0.2)\n",
    "ax[1][0].set_ylim(-35, 35, 0.2)\n",
    "ax[1][0].set_title(r'$x(at) \\quad a>1$', fontsize=16)\n",
    "\n",
    "mpl_axes_stem(ax[1][1], f.subs(t, a*t), (t, -30, 30, 1), linefmt='b', markerfmt='bo')\n",
    "ax[1][1].set_xlim(-20, 20, 0.2)\n",
    "ax[1][1].set_ylim(-35, 35, 0.2)\n",
    "ax[1][1].set_title(r'$x[an] \\quad a>1$', fontsize=16)\n",
    "\n",
    "a = 2\n",
    "mpl_axes_plot(ax[2][0], f.subs(t, t/a), (t, -20, 20), color='b')\n",
    "ax[2][0].set_xlim(-20, 20, 0.2)\n",
    "ax[2][0].set_ylim(-35, 35, 0.2)\n",
    "ax[2][0].set_title(r'$x(t/a) \\quad a>1$', fontsize=16)\n",
    "\n",
    "\n",
    "mpl_axes_stem(ax[2][1], f.subs(t, t/a), (t, -30, 30, 1), linefmt='b', markerfmt='bo')\n",
    "ax[2][1].set_xlim(-20, 20, 0.2)\n",
    "ax[2][1].set_ylim(-35, 35, 0.2)\n",
    "ax[2][1].set_title(r'$x[n/a] \\quad a>1$', fontsize=16)\n",
    "\n",
    "plt.show()"
   ]
  },
  {
   "cell_type": "markdown",
   "metadata": {},
   "source": [
    "### Time Reversal "
   ]
  },
  {
   "cell_type": "code",
   "execution_count": null,
   "metadata": {
    "tags": [
     "hide_input"
    ]
   },
   "outputs": [
    {
     "ename": "",
     "evalue": "",
     "output_type": "error",
     "traceback": [
      "\u001b[1;31mFailed to start the Kernel. \n",
      "Unable to start Kernel 'base (Python 3.9.12)' due to connection timeout. \n",
      "View Jupyter <a href='command:jupyter.viewOutput'>log</a> for further details."
     ]
    }
   ],
   "source": [
    "# HIDE/SHOW\n",
    "fig, ax = plt.subplots(\n",
    "    2, 2, \n",
    "    figsize=(12, 8), \n",
    "    # tight_layout=True,\n",
    ")\n",
    "\n",
    "a = -1\n",
    "mpl_axes_plot(ax[0][0], f, (t, -20, 20), color='b')\n",
    "ax[0][0].set_xlim(-20, 20, 0.2)\n",
    "ax[0][0].set_ylim(-35, 35, 0.2)\n",
    "ax[0][0].set_title(r'$x(t)$', fontsize=16)\n",
    "\n",
    "mpl_axes_stem(ax[0][1], f, (t, -30, 30, 1), linefmt='b', markerfmt='bo')\n",
    "ax[0][1].set_xlim(-20, 20, 0.2)\n",
    "ax[0][1].set_ylim(-35, 35, 0.2)\n",
    "ax[0][1].set_title(r'$x[n]$', fontsize=16)\n",
    "\n",
    "mpl_axes_plot(ax[1][0], f.subs(t, a*t), (t, -20, 20), color='b')\n",
    "ax[1][0].set_xlim(-20, 20, 0.2)\n",
    "ax[1][0].set_ylim(-35, 35, 0.2)\n",
    "ax[1][0].set_title(r'$x(-t)$', fontsize=16)\n",
    "\n",
    "mpl_axes_stem(ax[1][1], f.subs(t, a*t), (t, -30, 30, 1), linefmt='b', markerfmt='bo')\n",
    "ax[1][1].set_xlim(-20, 20, 0.2)\n",
    "ax[1][1].set_ylim(-35, 35, 0.2)\n",
    "ax[1][1].set_title(r'$x[-n]$', fontsize=16)\n",
    "\n",
    "plt.show()"
   ]
  },
  {
   "cell_type": "markdown",
   "metadata": {},
   "source": [
    "## Rigid Systems on Elementary Signals"
   ]
  },
  {
   "cell_type": "code",
   "execution_count": null,
   "metadata": {
    "tags": [
     "hide_input"
    ]
   },
   "outputs": [
    {
     "ename": "",
     "evalue": "",
     "output_type": "error",
     "traceback": [
      "\u001b[1;31mFailed to start the Kernel. \n",
      "Unable to start Kernel 'base (Python 3.9.12)' due to connection timeout. \n",
      "View Jupyter <a href='command:jupyter.viewOutput'>log</a> for further details."
     ]
    }
   ],
   "source": [
    "# HIDE/SHOW\n",
    "step = sp.Heaviside(t, 1)\n",
    "rect = sp.Piecewise(\n",
    "    (0, sp.Or(sp.StrictLessThan(t, -1/2), sp.StrictGreaterThan(t, 1/2))),\n",
    "    (1, sp.And(sp.LessThan(t, 1/2), sp.GreaterThan(t, -1/2))),\n",
    ")\n",
    "tri = sp.Piecewise(\n",
    "    (0, sp.Or(sp.StrictLessThan(t, -1), sp.StrictGreaterThan(t, 1))),\n",
    "    (1+t, sp.And(sp.LessThan(t, 0), sp.GreaterThan(t, -1))),\n",
    "    (1-t, sp.And(sp.LessThan(t, 1), sp.GreaterThan(t, 0))),  \n",
    ")\n",
    "delta = sp.Piecewise(\n",
    "    (1, sp.Equality(t, 0)),\n",
    "    (0, sp.Or(sp.StrictLessThan(t, 0), sp.StrictGreaterThan(t, 0))),\n",
    ")\n",
    "sinc = sp.sin(sp.pi*t)/(sp.pi*t)\n",
    "# delta = sp.functions.special.delta_functions.DiracDelta(t)\n",
    "funcs = [\n",
    "    step,\n",
    "    rect,\n",
    "    tri, \n",
    "    sinc.subs(t, t+1e-8), \n",
    "    delta\n",
    "]"
   ]
  },
  {
   "cell_type": "markdown",
   "metadata": {},
   "source": [
    "### Amplitude Scaling"
   ]
  },
  {
   "cell_type": "code",
   "execution_count": null,
   "metadata": {
    "tags": [
     "hide_input"
    ]
   },
   "outputs": [
    {
     "ename": "",
     "evalue": "",
     "output_type": "error",
     "traceback": [
      "\u001b[1;31mFailed to start the Kernel. \n",
      "Unable to start Kernel 'base (Python 3.9.12)' due to connection timeout. \n",
      "View Jupyter <a href='command:jupyter.viewOutput'>log</a> for further details."
     ]
    }
   ],
   "source": [
    "# HIDE/SHOW\n",
    "for f in funcs[:5]:\n",
    "    fig, ax = plt.subplots(\n",
    "        3, 2, \n",
    "        figsize=(12, 12), \n",
    "        # tight_layout=True,\n",
    "    )\n",
    "    if f is not delta:\n",
    "        mpl_axes_plot(ax[0][0], f, (t, -20, 20), color='b')\n",
    "    else:\n",
    "        mpl_axes_stem(ax[0][0], f, (t, -20, 20, 0.25), linefmt='b', markerfmt=' ')\n",
    "        ax[0][0].scatter(0, 1, color='b', marker='^', s=100)\n",
    "    ax[0][0].set_xlim(-5, 5, 1)\n",
    "    ax[0][0].set_ylim(-2, 2, 1)\n",
    "    ax[0][0].set_title(r'$x(t)$', fontsize=16)\n",
    "\n",
    "    \n",
    "    mpl_axes_stem(ax[0][1], f, (t, -20, 20, 0.25), linefmt='b', markerfmt='bo')\n",
    "    ax[0][1].set_xlim(-5, 5, 1)\n",
    "    ax[0][1].set_ylim(-2, 2, 1)\n",
    "    ax[0][1].set_title(r'$x[n]$', fontsize=16)\n",
    "\n",
    "    if f is not delta:\n",
    "        mpl_axes_plot(ax[1][0], 1.5*f, (t, -20, 20), color='b')\n",
    "    else:\n",
    "        mpl_axes_stem(ax[1][0], 1.5*f, (t, -20, 20, 0.25), linefmt='b', markerfmt=' ')\n",
    "        ax[1][0].scatter(0, 1.5*1, color='b', marker='^', s=100)\n",
    "    ax[1][0].set_xlim(-5, 5, 1)\n",
    "    ax[1][0].set_ylim(-2, 2, 1)\n",
    "    ax[1][0].set_title(r'$Kx(t) \\quad K>1$', fontsize=16)\n",
    "\n",
    "    mpl_axes_stem(ax[1][1], 1.5*f, (t, -20, 20, 0.25), linefmt='b', markerfmt='bo')\n",
    "    ax[1][1].set_xlim(-5, 5, 1)\n",
    "    ax[1][1].set_ylim(-2, 2, 1)\n",
    "    ax[1][1].set_title(r'$Kx[n] \\quad K>1$', fontsize=16)\n",
    "\n",
    "    if f is not delta:\n",
    "        mpl_axes_plot(ax[2][0], 0.4*f, (t, -20, 20), color='b')\n",
    "    else:\n",
    "        mpl_axes_stem(ax[2][0], 0.4*f, (t, -20, 20, 0.25), linefmt='b', markerfmt=' ')\n",
    "        ax[2][0].scatter(0, 0.4*1, color='b', marker='^', s=100)\n",
    "    ax[2][0].set_xlim(-5, 5, 1)\n",
    "    ax[2][0].set_ylim(-2, 2, 1)\n",
    "    ax[2][0].set_title(r'$Kx(t) \\quad 0<K<1$', fontsize=16)\n",
    "\n",
    "\n",
    "    mpl_axes_stem(ax[2][1], 0.4*f, (t, -20, 20, 0.25), linefmt='b', markerfmt='bo')\n",
    "    ax[2][1].set_xlim(-5, 5, 1)\n",
    "    ax[2][1].set_ylim(-2, 2, 1)\n",
    "    ax[2][1].set_title(r'$Kx[n] \\quad 0<K<1$', fontsize=16)\n",
    "\n",
    "    plt.show()"
   ]
  },
  {
   "cell_type": "markdown",
   "metadata": {},
   "source": [
    "### Amplitude Reversal"
   ]
  },
  {
   "cell_type": "code",
   "execution_count": null,
   "metadata": {
    "tags": [
     "hide_input"
    ]
   },
   "outputs": [
    {
     "ename": "",
     "evalue": "",
     "output_type": "error",
     "traceback": [
      "\u001b[1;31mFailed to start the Kernel. \n",
      "Unable to start Kernel 'base (Python 3.9.12)' due to connection timeout. \n",
      "View Jupyter <a href='command:jupyter.viewOutput'>log</a> for further details."
     ]
    }
   ],
   "source": [
    "# HIDE/SHOW\n",
    "for f in funcs[:5]:\n",
    "    fig, ax = plt.subplots(\n",
    "        2, 2, \n",
    "        figsize=(12, 8), \n",
    "        # tight_layout=True,\n",
    "    )\n",
    "    if f is not delta:\n",
    "        mpl_axes_plot(ax[0][0], f, (t, -20, 20), color='b')\n",
    "    else:\n",
    "        mpl_axes_stem(ax[0][0], f, (t, -20, 20, 0.25), linefmt='b', markerfmt=' ')\n",
    "        ax[0][0].scatter(0, 1, color='b', marker='^', s=100)\n",
    "    ax[0][0].set_xlim(-5, 5, 1)\n",
    "    ax[0][0].set_ylim(-2, 2, 1)\n",
    "    ax[0][0].set_title(r'$x(t)$', fontsize=16)\n",
    "\n",
    "    \n",
    "    mpl_axes_stem(ax[0][1], f, (t, -30, 30, 0.25), linefmt='b', markerfmt='bo')\n",
    "    ax[0][1].set_xlim(-5, 5, 1)\n",
    "    ax[0][1].set_ylim(-2, 2, 1)\n",
    "    ax[0][1].set_title(r'$x[n]$', fontsize=16)\n",
    "\n",
    "    if f is not delta:\n",
    "        mpl_axes_plot(ax[1][0], -1*f, (t, -20, 20), color='b')\n",
    "    else:\n",
    "        mpl_axes_stem(ax[1][0], -1*f, (t, -20, 20, 0.25), linefmt='b', markerfmt=' ')\n",
    "        ax[1][0].scatter(0, -1*1, color='b', marker='v', s=100)\n",
    "    ax[1][0].set_xlim(-5, 5, 1)\n",
    "    ax[1][0].set_ylim(-2, 2, 1)\n",
    "    ax[1][0].set_title(r'$-x(t)$', fontsize=16)\n",
    "\n",
    "    mpl_axes_stem(ax[1][1], -1*f, (t, -30, 30, 0.25), linefmt='b', markerfmt='bo')\n",
    "    ax[1][1].set_xlim(-5, 5, 1)\n",
    "    ax[1][1].set_ylim(-2, 2, 1)\n",
    "    ax[1][1].set_title(r'$-x[n]$', fontsize=16)\n",
    "\n",
    "    plt.show()"
   ]
  },
  {
   "cell_type": "markdown",
   "metadata": {},
   "source": [
    "### Time Shifting"
   ]
  },
  {
   "cell_type": "code",
   "execution_count": null,
   "metadata": {
    "tags": [
     "hide_input"
    ]
   },
   "outputs": [
    {
     "ename": "",
     "evalue": "",
     "output_type": "error",
     "traceback": [
      "\u001b[1;31mFailed to start the Kernel. \n",
      "Unable to start Kernel 'base (Python 3.9.12)' due to connection timeout. \n",
      "View Jupyter <a href='command:jupyter.viewOutput'>log</a> for further details."
     ]
    }
   ],
   "source": [
    "# HIDE/SHOW\n",
    "for f in funcs:\n",
    "    \n",
    "    fig, ax = plt.subplots(\n",
    "        3, 2, \n",
    "        figsize=(12, 12), \n",
    "        # tight_layout=True,\n",
    "    )\n",
    "        \n",
    "    # mpl_axes_plot(ax[0][0], f, (t, -20, 20), color='b')\n",
    "    if f is not delta:\n",
    "        mpl_axes_plot(ax[0][0], f, (t, -20, 20), color='b')\n",
    "    else:\n",
    "        mpl_axes_stem(ax[0][0], f, (t, -20, 20, 0.25), linefmt='b', markerfmt=' ')\n",
    "        ax[0][0].scatter(0, 1, color='b', marker='^', s=100)\n",
    "    ax[0][0].set_xlim(-5, 5, 0.2)\n",
    "    ax[0][0].set_ylim(-2, 2, 0.2)\n",
    "    ax[0][0].set_title(r'$x(t)$', fontsize=16)\n",
    "\n",
    "\n",
    "    mpl_axes_stem(ax[0][1], f, (t, -10, 10, 0.25), linefmt='b', markerfmt='bo')\n",
    "    ax[0][1].set_xlim(-5, 5, 0.2)\n",
    "    ax[0][1].set_ylim(-2, 2, 0.2)\n",
    "    ax[0][1].set_title(r'$x[n]$', fontsize=16)\n",
    "\n",
    "    # mpl_axes_plot(ax[1][0], f.subs(t, t+2), (t, -20, 20), color='b')\n",
    "    if f is not delta:\n",
    "        mpl_axes_plot(ax[1][0], f.subs(t, t+2), (t, -20, 20), color='b')\n",
    "    else:\n",
    "        mpl_axes_stem(ax[1][0], f.subs(t, t+2), (t, -20, 20, 0.25), linefmt='b', markerfmt=' ')\n",
    "        ax[1][0].scatter(-2, 1, color='b', marker='^', s=100)\n",
    "    ax[1][0].set_xlim(-5, 5, 0.2)\n",
    "    ax[1][0].set_ylim(-2, 2, 0.2)\n",
    "    ax[1][0].set_title(r'$x(t+b) \\quad b>0$', fontsize=16)\n",
    "\n",
    "    mpl_axes_stem(ax[1][1], f.subs(t, t+2), (t, -10, 10, 0.25), linefmt='b', markerfmt='bo')\n",
    "    ax[1][1].set_xlim(-5, 5, 0.2)\n",
    "    ax[1][1].set_ylim(-2, 2, 0.2)\n",
    "    ax[1][1].set_title(r'$x[n+b] \\quad b>0$', fontsize=16)\n",
    "\n",
    "    # mpl_axes_plot(ax[2][0], f.subs(t, t-2), (t, -20, 20), color='b')\n",
    "    if f is not delta:\n",
    "        mpl_axes_plot(ax[2][0], f.subs(t, t-2), (t, -20, 20), color='b')\n",
    "    else:\n",
    "        mpl_axes_stem(ax[2][0], f.subs(t, t-2), (t, -20, 20, 0.25), linefmt='b', markerfmt=' ')\n",
    "        ax[2][0].scatter(2, 1, color='b', marker='^', s=100)\n",
    "    ax[2][0].set_xlim(-5, 5, 0.2)\n",
    "    ax[2][0].set_ylim(-2, 2, 0.2)\n",
    "    ax[2][0].set_title(r'$x(t-b) \\quad b>0$', fontsize=16)\n",
    "\n",
    "\n",
    "    mpl_axes_stem(ax[2][1], f.subs(t, t-2), (t, -10, 10, 0.25), linefmt='b', markerfmt='bo')\n",
    "    ax[2][1].set_xlim(-5, 5, 0.2)\n",
    "    ax[2][1].set_ylim(-2, 2, 0.2)\n",
    "    ax[2][1].set_title(r'$x[n-b] \\quad b>0$', fontsize=16)\n",
    "\n",
    "    plt.show()"
   ]
  },
  {
   "cell_type": "markdown",
   "metadata": {},
   "source": [
    "### Time Scaling"
   ]
  },
  {
   "cell_type": "code",
   "execution_count": null,
   "metadata": {
    "tags": [
     "hide_input"
    ]
   },
   "outputs": [
    {
     "ename": "",
     "evalue": "",
     "output_type": "error",
     "traceback": [
      "\u001b[1;31mFailed to start the Kernel. \n",
      "Unable to start Kernel 'base (Python 3.9.12)' due to connection timeout. \n",
      "View Jupyter <a href='command:jupyter.viewOutput'>log</a> for further details."
     ]
    }
   ],
   "source": [
    "# HIDE/SHOW\n",
    "for f in funcs:\n",
    "    fig, ax = plt.subplots(\n",
    "        3, 2, \n",
    "        figsize=(12, 12), \n",
    "        # tight_layout=True,\n",
    "    )\n",
    "\n",
    "    a = 2\n",
    "\n",
    "    # mpl_axes_plot(ax[0][0], f, (t, -20, 20), color='b')\n",
    "    if f is not delta:\n",
    "        mpl_axes_plot(ax[0][0], f, (t, -20, 20), color='b')\n",
    "    else:\n",
    "        mpl_axes_stem(ax[0][0], f, (t, -20, 20, 0.25), linefmt='b', markerfmt=' ')\n",
    "        ax[0][0].scatter(0, 1, color='b', marker='^', s=100)\n",
    "    ax[0][0].set_xlim(-5, 5, 0.2)\n",
    "    ax[0][0].set_ylim(-2, 2, 0.2)\n",
    "    ax[0][0].set_title(r'$x(t)$', fontsize=16)\n",
    "\n",
    "    mpl_axes_stem(ax[0][1], f, (t, -20, 20, 0.25), linefmt='b', markerfmt='bo')\n",
    "    ax[0][1].set_xlim(-5, 5, 0.2)\n",
    "    ax[0][1].set_ylim(-2, 2, 0.2)\n",
    "    ax[0][1].set_title(r'$x[n]$', fontsize=16)\n",
    "\n",
    "    # mpl_axes_plot(ax[1][0], f.subs(t, a*t), (t, -5, 5), color='b')\n",
    "    if f is not delta:\n",
    "        mpl_axes_plot(ax[1][0], f.subs(t, a*t), (t, -5, 5), color='b')\n",
    "    else:\n",
    "        mpl_axes_stem(ax[1][0], f.subs(t, a*t), (t, -20, 20, 0.25), linefmt='b', markerfmt=' ')\n",
    "        ax[1][0].scatter(0, 1, color='b', marker='^', s=100)\n",
    "    ax[1][0].set_xlim(-5, 5, 0.2)\n",
    "    ax[1][0].set_ylim(-2, 2, 0.2)\n",
    "    ax[1][0].set_title(r'$x(at) \\quad a>1$', fontsize=16)\n",
    "\n",
    "    mpl_axes_stem(ax[1][1], f.subs(t, a*t), (t, -20, 20, 0.25), linefmt='b', markerfmt='bo')\n",
    "    ax[1][1].set_xlim(-5, 5, 0.2)\n",
    "    ax[1][1].set_ylim(-2, 2, 0.2)\n",
    "    ax[1][1].set_title(r'$x[an] \\quad a>1$', fontsize=16)\n",
    "\n",
    "    a = 2\n",
    "    # mpl_axes_plot(ax[2][0], f.subs(t, t/a), (t, -5, 5), color='b')    \n",
    "    if f is not delta:\n",
    "        mpl_axes_plot(ax[2][0], f.subs(t, t/a), (t, -5, 5), color='b')\n",
    "    else:\n",
    "        mpl_axes_stem(ax[2][0], f.subs(t, t/a), (t, -20, 20, 0.25), linefmt='b', markerfmt=' ')\n",
    "        ax[2][0].scatter(0, 1, color='b', marker='^', s=100)\n",
    "    ax[2][0].set_xlim(-5, 5, 0.2)\n",
    "    ax[2][0].set_ylim(-2, 2, 0.2)\n",
    "    ax[2][0].set_title(r'$x(t/a) \\quad a>1$', fontsize=16)\n",
    "\n",
    "    mpl_axes_stem(ax[2][1], f.subs(t, t/a), (t, -20, 20, 0.25), linefmt='b', markerfmt='bo')\n",
    "    ax[2][1].set_xlim(-5, 5, 0.2)\n",
    "    ax[2][1].set_ylim(-2, 2, 0.2)\n",
    "    ax[2][1].set_title(r'$x[n/a] \\quad a>1$', fontsize=16)\n",
    "\n",
    "    plt.show()"
   ]
  },
  {
   "cell_type": "markdown",
   "metadata": {},
   "source": [
    "### Time Reversal"
   ]
  },
  {
   "cell_type": "code",
   "execution_count": null,
   "metadata": {
    "tags": [
     "hide_input"
    ]
   },
   "outputs": [
    {
     "ename": "",
     "evalue": "",
     "output_type": "error",
     "traceback": [
      "\u001b[1;31mFailed to start the Kernel. \n",
      "Unable to start Kernel 'base (Python 3.9.12)' due to connection timeout. \n",
      "View Jupyter <a href='command:jupyter.viewOutput'>log</a> for further details."
     ]
    }
   ],
   "source": [
    "# HIDE/SHOW\n",
    "for f in funcs:\n",
    "    fig, ax = plt.subplots(\n",
    "        2, 2, \n",
    "        figsize=(12, 8), \n",
    "        # tight_layout=True,\n",
    "    )\n",
    "\n",
    "    a = -1\n",
    "\n",
    "    # mpl_axes_plot(ax[0][0], f, (t, -20, 20), color='b')\n",
    "    if f is not delta:\n",
    "        mpl_axes_plot(ax[0][0], f, (t, -20, 20), color='b')\n",
    "    else:\n",
    "        mpl_axes_stem(ax[0][0], f, (t, -20, 20, 0.25), linefmt='b', markerfmt=' ')\n",
    "        ax[0][0].scatter(0, 1, color='b', marker='^', s=100)\n",
    "    ax[0][0].set_xlim(-5, 5, 0.2)\n",
    "    ax[0][0].set_ylim(-2, 2, 0.2)\n",
    "    ax[0][0].set_title(r'$x(t)$', fontsize=16)\n",
    "\n",
    "    mpl_axes_stem(ax[0][1], f, (t, -20, 20, 0.25), linefmt='b', markerfmt='bo')\n",
    "    ax[0][1].set_xlim(-5, 5, 0.2)\n",
    "    ax[0][1].set_ylim(-2, 2, 0.2)\n",
    "    ax[0][1].set_title(r'$x[n]$', fontsize=16)\n",
    "\n",
    "    # mpl_axes_plot(ax[1][0], f.subs(t, a*t), (t, -5, 5), color='b')\n",
    "    if f is not delta:\n",
    "        mpl_axes_plot(ax[1][0], f.subs(t, a*t), (t, -5, 5), color='b')\n",
    "    else:\n",
    "        mpl_axes_stem(ax[1][0], f.subs(t, a*t), (t, -20, 20, 0.25), linefmt='b', markerfmt=' ')\n",
    "        ax[1][0].scatter(0, 1, color='b', marker='^', s=100)\n",
    "    ax[1][0].set_xlim(-5, 5, 0.2)\n",
    "    ax[1][0].set_ylim(-2, 2, 0.2)\n",
    "    ax[1][0].set_title(r'$x(-t)$', fontsize=16)\n",
    "\n",
    "    mpl_axes_stem(ax[1][1], f.subs(t, a*t), (t, -20, 20, 0.25), linefmt='b', markerfmt='bo')\n",
    "    ax[1][1].set_xlim(-5, 5, 0.2)\n",
    "    ax[1][1].set_ylim(-2, 2, 0.2)\n",
    "    ax[1][1].set_title(r'$x[-n]$', fontsize=16)\n",
    "\n",
    "    plt.show()"
   ]
  },
  {
   "cell_type": "markdown",
   "metadata": {},
   "source": [
    "## Combination Time Ops"
   ]
  },
  {
   "cell_type": "markdown",
   "metadata": {},
   "source": [
    "### Method 1: Shift, then Scale (Recommended)\n",
    "- Define $\\quad s(t) = x\\left(t+b\\right) \\quad$ --- Add/Subtract to $t$ only, **first**\n",
    "- Define $\\quad y(t) = s\\left(at\\right) = x\\left(at+b\\right) \\quad$ --- Multiply/Divide to $t$ only, **later**\n",
    "\n",
    "### Method 2: Scale, then Shift\n",
    "- Define $\\quad s(t) = x\\left(at\\right)\\quad$\n",
    "- Define $\\quad y(t) = s\\left(t+\\dfrac{b}{a}\\right) = x\\left(at+b\\right) \\quad$"
   ]
  },
  {
   "cell_type": "markdown",
   "metadata": {},
   "source": []
  }
 ],
 "metadata": {
  "kernelspec": {
   "display_name": "Python 3.9.12 ('base')",
   "language": "python",
   "name": "python3"
  },
  "language_info": {
   "codemirror_mode": {
    "name": "ipython",
    "version": 3
   },
   "file_extension": ".py",
   "mimetype": "text/x-python",
   "name": "python",
   "nbconvert_exporter": "python",
   "pygments_lexer": "ipython3",
   "version": "3.9.12"
  },
  "vscode": {
   "interpreter": {
    "hash": "d594796bd8f1bbcbba7d96410b19473b7dd37b87d2c9c997260c2628fe83e732"
   }
  }
 },
 "nbformat": 4,
 "nbformat_minor": 2
}
