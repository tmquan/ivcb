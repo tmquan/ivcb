{
 "cells": [
  {
   "cell_type": "markdown",
   "metadata": {},
   "source": [
    "# Systems and Transformations"
   ]
  },
  {
   "cell_type": "code",
   "execution_count": 1,
   "metadata": {
    "tags": [
     "hide_input"
    ]
   },
   "outputs": [],
   "source": [
    "# HIDE/SHOW\n",
    "# ! pip install -U sympy \n",
    "# ! pip install -U numpy\n",
    "# ! pip install -U matplotlib\n",
    "\n",
    "# ! sudo apt install -y cm-super\n",
    "# ! sudo apt install -y texlive texlive-latex-extra texlive-fonts-recommended dvipng"
   ]
  },
  {
   "cell_type": "code",
   "execution_count": 2,
   "metadata": {
    "tags": [
     "hide_input"
    ]
   },
   "outputs": [],
   "source": [
    "# HIDE/SHOW\n",
    "# %reset -f\n",
    "! rm -rfv *.png *.jpg\n",
    "import os\n",
    "import shutil\n",
    "import warnings\n",
    "warnings.filterwarnings('ignore')\n",
    "\n",
    "from IPython.display import display, HTML\n",
    "import sympy as sp\n",
    "import numpy as np\n",
    "from lcapy import Circuit\n",
    "\n",
    "from sympy.abc import t, x, y\n",
    "import matplotlib.pyplot as plt\n",
    "from matplotlib.ticker import MaxNLocator\n",
    "\n",
    "saved_dir = \"systems\"\n",
    "if os.path.exists(saved_dir):\n",
    "    shutil.rmtree(saved_dir)\n",
    "os.makedirs(saved_dir)\n",
    "\n",
    "plt.rcParams['text.usetex'] = True\n",
    "plt.rcParams['font.family'] = 'serif'\n",
    "plt.rcParams['font.serif'] = ['Computer Modern Roman']\n",
    "plt.rcParams['font.sans-serif'] = ['Computer Modern Sans Serif']\n",
    "plt.rcParams['font.size'] = 24\n",
    "plt.rcParams['figure.figsize'] = (12, 8)\n",
    "plt.rcParams['axes.labelsize'] = 24\n",
    "plt.rcParams['axes.titlesize'] = 24\n",
    "plt.rcParams['xtick.labelsize'] = 16\n",
    "plt.rcParams['ytick.labelsize'] = 16\n",
    "%matplotlib inline "
   ]
  },
  {
   "cell_type": "code",
   "execution_count": 3,
   "metadata": {
    "tags": [
     "hide_input"
    ]
   },
   "outputs": [],
   "source": [
    "# HIDE/SHOW            \n",
    "def mpl_axes_plot(axes, expr, xrange, zero_is_none=False, **kwargs):\n",
    "    x, start, stop = xrange\n",
    "    func = sp.lambdify(x, expr)\n",
    "    x = np.linspace(start, stop, 10000)\n",
    "    y = func(x)\n",
    "    axes.tick_params(axis='x')\n",
    "    axes.tick_params(axis='y')\n",
    "    axes.xaxis.set_major_locator(MaxNLocator(integer=True))\n",
    "    axes.yaxis.set_major_locator(MaxNLocator(integer=True))\n",
    "    axes.grid(False)\n",
    "    axes.margins(0.02, 0.02)\n",
    "    if zero_is_none:\n",
    "        y[y==0] = np.nan\n",
    "    axes.plot(x, y, **kwargs)\n",
    "    axes.plot(x, np.zeros_like(x), color='k', alpha=0.5)\n",
    "    return axes\n",
    "    \n",
    "def mpl_axes_stem(axes, expr, xrange, zero_is_none=False, **kwargs):\n",
    "    x, start, stop, step = xrange\n",
    "    func = sp.lambdify(x, expr, ['numpy', 'sympy'])\n",
    "    x = np.arange(start, stop, step)\n",
    "    y = func(x)\n",
    "    axes.tick_params(axis='x')\n",
    "    axes.tick_params(axis='y')\n",
    "    axes.xaxis.set_major_locator(MaxNLocator(integer=True))\n",
    "    axes.yaxis.set_major_locator(MaxNLocator(integer=True))\n",
    "    axes.grid(False)\n",
    "    axes.margins(0.02, 0.02)\n",
    "    axes.plot(x, np.zeros_like(x), color='k', alpha=0.5)\n",
    "    if zero_is_none:\n",
    "        y[y==0] = np.nan\n",
    "    axes.stem(x, y, basefmt=\" \", use_line_collection=True, **kwargs)\n",
    "    return axes\n",
    "    \n",
    "def mpl_axes_step(axes, expr, xrange, **kwargs):\n",
    "    x, start, stop, step = xrange\n",
    "    func = sp.lambdify(x, expr)\n",
    "    x = np.arange(start, stop, step)\n",
    "    y = func(x)\n",
    "    axes.tick_params(axis='x')\n",
    "    axes.tick_params(axis='y')\n",
    "    axes.xaxis.set_major_locator(MaxNLocator(integer=True))\n",
    "    axes.yaxis.set_major_locator(MaxNLocator(integer=True))\n",
    "    axes.grid(False)\n",
    "    axes.margins(0.02, 0.02)\n",
    "    axes.plot(x, np.zeros_like(x), color='k', alpha=0.5)\n",
    "    return axes.step(x, y, **kwargs)"
   ]
  },
  {
   "cell_type": "markdown",
   "metadata": {},
   "source": [
    "## What are Systems?\n",
    "\n",
    "- Systems are the mappings from input signals to output signals. \n",
    "- Systems are mathematical models that transform the input signals to the output signals. \n",
    "- Systems are mathematical models that transform single input signal to single output signal. "
   ]
  },
  {
   "cell_type": "markdown",
   "metadata": {},
   "source": [
    "## Types of Systems\n",
    "\n",
    "- Continuous-Time (CT) Systems.\n",
    "- Discrete-Time (CT) Systems.\n",
    "- Deterministic Systems.\n",
    "- Probabilistic Systems."
   ]
  },
  {
   "cell_type": "code",
   "execution_count": 4,
   "metadata": {
    "tags": [
     "remove_cell",
     "hide_input"
    ]
   },
   "outputs": [],
   "source": [
    "# HIDE/SHOW\n",
    "Circuit(\"\"\"\n",
    "    S1 box; l=$x(t)$, right=0.5, aspect=1.1, draw=white\n",
    "    S2 box; l=$h(t)$, right=0.5, aspect=1.1, draw=black\n",
    "    S3 box; l=$y(t)$, right=0.5, aspect=1.1, draw=white\n",
    "    W S1.e S2.w; right=0.5, endarrow=stealth, color=black\n",
    "    W S2.e S3.w; right=0.5, endarrow=stealth, color=black\n",
    "; label_nodes=false, scale=0.5\n",
    "\"\"\").draw(os.path.join(saved_dir, \"ht.png\"))\n",
    "\n",
    "Circuit(\"\"\"\n",
    "    S1 box; l=$x[n]$, right=0.5, aspect=1.1, draw=white\n",
    "    S2 box; l=$h[n]$, right=0.5, aspect=1.1, draw=black\n",
    "    S3 box; l=$y[n]$, right=0.5, aspect=1.1, draw=white\n",
    "    W S1.e S2.w; right=0.5, endarrow=stealth, color=black\n",
    "    W S2.e S3.w; right=0.5, endarrow=stealth, color=black\n",
    "    ; label_nodes=false, scale=0.5\n",
    "\"\"\").draw(os.path.join(saved_dir, \"hn.png\"))\n",
    "\n",
    "Circuit(\"\"\"\n",
    "    S1 box; l=$x(t)$, down=0.5, aspect=1.1, draw=white\n",
    "    S2 box; l=$h(t)$, down=0.5, aspect=1.1, draw=black\n",
    "    S3 box; l=$y(t)$, down=0.5, aspect=1.1, draw=white\n",
    "    W S1.e S2.w; down=0.5, endarrow=stealth, color=black\n",
    "    W S2.e S3.w; down=0.5, endarrow=stealth, color=black\n",
    "; label_nodes=false, scale=0.5\n",
    "\"\"\").draw(os.path.join(saved_dir, \"vt.png\"))\n",
    "\n",
    "Circuit(\"\"\"\n",
    "    S1 box; l=$x[n]$, down=0.5, aspect=1.1, draw=white\n",
    "    S2 box; l=$h[n]$, down=0.5, aspect=1.1, draw=black\n",
    "    S3 box; l=$y[n]$, down=0.5, aspect=1.1, draw=white\n",
    "    W S1.e S2.w; down=0.5, endarrow=stealth, color=black\n",
    "    W S2.e S3.w; down=0.5, endarrow=stealth, color=black\n",
    "; label_nodes=false, scale=0.5\n",
    "\"\"\").draw(os.path.join(saved_dir, \"vn.png\"))"
   ]
  },
  {
   "cell_type": "markdown",
   "metadata": {},
   "source": [
    "<style>\n",
    "td, th {\n",
    "   border: none!important;\n",
    "}\n",
    "table th:first-of-type  {\n",
    "    width: 50%;\n",
    "}\n",
    "table th:nth-of-type(2) {\n",
    "    width: 50%;\n",
    "}\n",
    "img {\n",
    "    display: block; \n",
    "    margin-left: auto;\n",
    "    margin-right: auto;\n",
    "}\n",
    "</style>\n",
    "\n",
    "## Block Diagrams\n",
    "\n",
    "|      |      |\n",
    "|:----:|:----:|\n",
    "|![alt](systems/ht.png) | ![alt](systems/hn.png)    |\n",
    "|                       |                           |\n",
    "|                       |                           |\n",
    "|![alt](systems/vt.png) | ![alt](systems/vn.png)    |"
   ]
  },
  {
   "cell_type": "markdown",
   "metadata": {},
   "source": []
  }
 ],
 "metadata": {
  "kernelspec": {
   "display_name": "Python 3.9.12 ('base')",
   "language": "python",
   "name": "python3"
  },
  "language_info": {
   "codemirror_mode": {
    "name": "ipython",
    "version": 3
   },
   "file_extension": ".py",
   "mimetype": "text/x-python",
   "name": "python",
   "nbconvert_exporter": "python",
   "pygments_lexer": "ipython3",
   "version": "3.9.12"
  },
  "vscode": {
   "interpreter": {
    "hash": "d594796bd8f1bbcbba7d96410b19473b7dd37b87d2c9c997260c2628fe83e732"
   }
  }
 },
 "nbformat": 4,
 "nbformat_minor": 4
}
