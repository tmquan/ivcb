{
 "cells": [
  {
   "cell_type": "markdown",
   "metadata": {},
   "source": [
    "# Signals and Systems"
   ]
  },
  {
   "cell_type": "markdown",
   "metadata": {},
   "source": [
    "## Prerequisites"
   ]
  },
  {
   "cell_type": "code",
   "execution_count": 11,
   "metadata": {
    "tags": [
     "hide_input"
    ]
   },
   "outputs": [],
   "source": [
    "# ! pip install -U sympy \n",
    "# ! pip install -U numpy\n",
    "# ! pip install -U matplotlib\n",
    "\n",
    "# ! sudo apt install -y cm-super\n",
    "# ! sudo apt install -y texlive texlive-latex-extra texlive-fonts-recommended dvipng"
   ]
  },
  {
   "cell_type": "markdown",
   "metadata": {},
   "source": [
    "## Simulation and Visualization in Python"
   ]
  },
  {
   "cell_type": "code",
   "execution_count": 12,
   "metadata": {
    "tags": [
     "hide_input"
    ]
   },
   "outputs": [],
   "source": [
    "import sympy as sp\n",
    "import numpy as np\n",
    "import matplotlib.pyplot as plt\n",
    "\n",
    "plt.rcParams['text.usetex'] = True\n",
    "%matplotlib inline "
   ]
  },
  {
   "cell_type": "markdown",
   "metadata": {},
   "source": [
    "## Utilizations"
   ]
  },
  {
   "cell_type": "code",
   "execution_count": 13,
   "metadata": {
    "tags": [
     "hide_input"
    ]
   },
   "outputs": [],
   "source": [
    "def mpl_axes_plot(axes, expr, xrange, **kwargs):\n",
    "    x, start, stop = xrange\n",
    "    func = sp.lambdify(x, expr)\n",
    "    x = np.linspace(start, stop, 10000)\n",
    "    y = func(x)\n",
    "    return axes.plot(x, y, **kwargs)\n",
    "\n",
    "def mpl_axes_stem(axes, expr, xrange, **kwargs):\n",
    "    x, start, stop, step = xrange\n",
    "    func = sp.lambdify(x, expr)\n",
    "    x = np.arange(start, stop, step)\n",
    "    y = func(x)\n",
    "    return axes.stem(x, y, basefmt=\" \", use_line_collection=True, **kwargs)\n",
    "\n",
    "def mpl_axes_step(axes, expr, xrange, **kwargs):\n",
    "    x, start, stop, step = xrange\n",
    "    func = sp.lambdify(x, expr)\n",
    "    x = np.arange(start, stop, step)\n",
    "    y = func(x)\n",
    "    return axes.step(x, y, **kwargs)"
   ]
  },
  {
   "cell_type": "markdown",
   "metadata": {},
   "source": [
    "## Continuous-time versus Discrete-time Signals"
   ]
  },
  {
   "cell_type": "code",
   "execution_count": 14,
   "metadata": {
    "tags": [
     "hide_input"
    ]
   },
   "outputs": [
    {
     "data": {
      "image/png": "[encoded data removed]",
      "text/plain": [
       "<Figure size 864x576 with 4 Axes>"
      ]
     },
     "metadata": {
      "needs_background": "light"
     },
     "output_type": "display_data"
    }
   ],
   "source": [
    "t = sp.Symbol('t')\n",
    "h = t*sp.sin(t/1.7)\n",
    "fig, ax = plt.subplots(\n",
    "    2, 2, \n",
    "    figsize=(12, 8), \n",
    "    # tight_layout=True,\n",
    ")\n",
    "    \n",
    "mpl_axes_plot(ax[0][0], \n",
    "    expr=h, \n",
    "    xrange=(t, -60, 60), \n",
    "    color='b')\n",
    "ax[0][0].set_xlim(0, 12, 1)\n",
    "ax[0][0].set_ylim(-10, 10, 1)\n",
    "ax[0][0].set_title(r'$x(t)$', fontsize=24)\n",
    "ax[0][0].tick_params(axis='x', labelsize=16)\n",
    "ax[0][0].tick_params(axis='y', labelsize=16)\n",
    "# ax[0][0].set_xticks([], fontsize=16)\n",
    "# ax[0][0].set_yticks([], fontsize=16)\n",
    "ax[0][0].grid('on')\n",
    "ax[0][0].margins(0.2, 0.2)\n",
    "\n",
    "mpl_axes_stem(ax[0][1], \n",
    "    expr=h, \n",
    "    xrange=(t, -60, 60, 1), \n",
    "    linefmt='b', \n",
    "    markerfmt='bo')\n",
    "ax[0][1].set_xlim(0, 12, 1)\n",
    "ax[0][1].set_ylim(-10, 10, 1)\n",
    "ax[0][1].set_title(r'$x[n]$', fontsize=24)\n",
    "ax[0][1].tick_params(axis='x', labelsize=16)\n",
    "ax[0][1].tick_params(axis='y', labelsize=16)\n",
    "# ax[0][1].set_xticks([], fontsize=16)\n",
    "# ax[0][1].set_yticks([], fontsize=16)\n",
    "ax[0][1].grid('on')\n",
    "ax[0][1].margins(0.2, 0.2)\n",
    "\n",
    "mpl_axes_step(ax[1][0], \n",
    "    expr=h, \n",
    "    xrange=(t, -60, 60, 2), \n",
    "    color='b',\n",
    ")\n",
    "ax[1][0].set_xlim(0, 12, 1)\n",
    "ax[1][0].set_ylim(-10, 10, 1)\n",
    "# ax[1][0].set_title(r'$x[n]$', fontsize=24)\n",
    "ax[1][0].tick_params(axis='x', labelsize=16)\n",
    "ax[1][0].tick_params(axis='y', labelsize=16)\n",
    "# ax[1][0].set_xticks([], fontsize=16)\n",
    "# ax[1][0].set_yticks([], fontsize=16)\n",
    "ax[1][0].grid('on')\n",
    "ax[1][0].margins(0.2, 0.2)\n",
    "\n",
    "#\n",
    "mpl_axes_stem(ax[1][1], \n",
    "    expr=h, \n",
    "    xrange=(t, -60, 60, 2), \n",
    "    linefmt='b', \n",
    "    markerfmt='bo')\n",
    "ax[1][1].set_xlim(0, 12, 1)\n",
    "ax[1][1].set_ylim(-10, 10, 1)\n",
    "# ax[1][1].set_title(r'$x[n]$', fontsize=24)\n",
    "ax[1][1].tick_params(axis='x', labelsize=16)\n",
    "ax[1][1].tick_params(axis='y', labelsize=16)\n",
    "# ax[1][1].set_xticks([], fontsize=16)\n",
    "# ax[1][1].set_yticks([], fontsize=16)\n",
    "ax[1][1].grid('on')\n",
    "ax[1][1].margins(0.2, 0.2)\n",
    "\n",
    "\n",
    "\n",
    "plt.show()"
   ]
  }
 ],
 "metadata": {
  "kernelspec": {
   "display_name": "Python 3 (ipykernel)",
   "language": "python",
   "name": "python3"
  },
  "language_info": {
   "codemirror_mode": {
    "name": "ipython",
    "version": 3
   },
   "file_extension": ".py",
   "mimetype": "text/x-python",
   "name": "python",
   "nbconvert_exporter": "python",
   "pygments_lexer": "ipython3",
   "version": "3.8.8"
  },
  "vscode": {
   "interpreter": {
    "hash": "8097735f04f37b3c74e7078c27a78542a8f14d25b7e061c260bf54ce8a9f0548"
   }
  }
 },
 "nbformat": 4,
 "nbformat_minor": 4
}
