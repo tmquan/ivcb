{
 "cells": [
  {
   "cell_type": "code",
   "execution_count": 1,
   "metadata": {},
   "outputs": [],
   "source": [
    "import os\n",
    "import glob\n",
    "import folderstats\n",
    "import numpy as np\n",
    "import pandas as pd\n",
    "import networkx as nx\n",
    "from networkx.drawing.nx_pydot import graphviz_layout\n",
    "\n",
    "import matplotlib.pyplot as plt\n",
    "%matplotlib inline"
   ]
  },
  {
   "cell_type": "code",
   "execution_count": 2,
   "metadata": {},
   "outputs": [],
   "source": [
    "class Hparams:\n",
    "    def __init__(self, datadir):\n",
    "        self.datadir = datadir\n",
    "hparams = Hparams(datadir=\"/data/qtran/DATA/\")\n",
    "train_image3d_folders = [\n",
    "    # os.path.join(hparams.datadir, 'SpineXRVertSegmentation/Verse2019/raw/train/rawdata/'),\n",
    "    # os.path.join(hparams.datadir, 'SpineXRVertSegmentation/Verse2020/raw/train/rawdata/'),\n",
    "    # os.path.join(hparams.datadir, 'SpineXRVertSegmentation/Verse2019/raw/val/rawdata/'),\n",
    "    # os.path.join(hparams.datadir, 'SpineXRVertSegmentation/Verse2020/raw/val/rawdata/'),\n",
    "    # os.path.join(hparams.datadir, 'SpineXRVertSegmentation/Verse2019/raw/test/rawdata/'),\n",
    "    # os.path.join(hparams.datadir, 'SpineXRVertSegmentation/Verse2020/raw/test/rawdata/'),\n",
    "\n",
    "    # os.path.join(hparams.datadir, 'SpineXRVertSegmentation/UWSpine/processed/train/images'),\n",
    "    # os.path.join(hparams.datadir, 'SpineXRVertSegmentation/UWSpine/processed/test/images/'),\n",
    "\n",
    "    os.path.join(hparams.datadir, 'ChestXRLungSegmentation/NSCLC/processed/train/images'),\n",
    "    os.path.join(hparams.datadir, 'ChestXRLungSegmentation/MOSMED/processed/train/images/CT-0'),\n",
    "    os.path.join(hparams.datadir, 'ChestXRLungSegmentation/MOSMED/processed/train/images/CT-1'),\n",
    "    os.path.join(hparams.datadir, 'ChestXRLungSegmentation/MOSMED/processed/train/images/CT-2'),\n",
    "    os.path.join(hparams.datadir, 'ChestXRLungSegmentation/MOSMED/processed/train/images/CT-3'),\n",
    "    os.path.join(hparams.datadir, 'ChestXRLungSegmentation/MOSMED/processed/train/images/CT-4'),\n",
    "    # os.path.join(hparams.datadir, 'ChestXRLungSegmentation/Imagenglab/processed/train/images'),\n",
    "    os.path.join(hparams.datadir, 'ChestXRLungSegmentation/MELA2022/raw/train/images'),\n",
    "    os.path.join(hparams.datadir, 'ChestXRLungSegmentation/MELA2022/raw/val/images'),\n",
    "    os.path.join(hparams.datadir, 'ChestXRLungSegmentation/AMOS2022/raw/train/images'),\n",
    "    os.path.join(hparams.datadir, 'ChestXRLungSegmentation/AMOS2022/raw/val/images'),\n",
    "]\n",
    "train_label3d_folders = [\n",
    "\n",
    "]"
   ]
  },
  {
   "cell_type": "code",
   "execution_count": 19,
   "metadata": {},
   "outputs": [
    {
     "name": "stdout",
     "output_type": "stream",
     "text": [
      "   Datasets  Images\n",
      "0     NSCLC     402\n",
      "1    MOSMED     254\n",
      "2    MOSMED     684\n",
      "3    MOSMED     125\n",
      "4    MOSMED      45\n",
      "5    MOSMED       2\n",
      "6  MELA2022     770\n",
      "7  MELA2022     110\n",
      "8  AMOS2022     240\n",
      "9  AMOS2022     120\n",
      "\n",
      "   Datasets  Images\n",
      "0  AMOS2022     360\n",
      "1  MELA2022     880\n",
      "2    MOSMED    1110\n",
      "3     NSCLC     402\n"
     ]
    }
   ],
   "source": [
    "def glob_files(folders: str=None, extension: str='*.nii.gz', verbose: bool=False):\n",
    "    assert folders is not None\n",
    "    paths = [glob.glob(os.path.join(folder, extension), recursive = True) for folder in folders]\n",
    "    files = sorted([item for sublist in paths for item in sublist])\n",
    "    if verbose:\n",
    "        print(len(files))\n",
    "        print(files[:1])\n",
    "    return files\n",
    "\n",
    "rows = []\n",
    "for folder in train_image3d_folders:\n",
    "    dataset_name = folder.split('/')[5]\n",
    "    num_images = len(glob_files(folders=[folder], extension='*.nii.gz'))\n",
    "    rows.append([dataset_name, num_images])\n",
    "\n",
    "df = pd.DataFrame(rows, columns=[\"Datasets\", \"Images\"], index=None)\n",
    "print(df)\n",
    "print()\n",
    "df = df.reset_index(drop=True).groupby(['Datasets']).sum().reset_index()\n",
    "print(df)"
   ]
  },
  {
   "cell_type": "code",
   "execution_count": null,
   "metadata": {},
   "outputs": [],
   "source": [
    "G = nx.Graph()\n",
    "for i, row in df.sort_values(by='id').iterrows():\n",
    "    if row.parent:\n",
    "        G.add_edge(row.id, row.parent)\n",
    "    \n",
    "# Print some additional information\n",
    "print(nx.info(G))\n",
    "\n",
    "\n",
    "# neato\n",
    "# dot\n",
    "# twopi\n",
    "# circo\n",
    "# fdp\n",
    "# nop\n",
    "pos_dot = graphviz_layout(G, prog='dot')\n",
    "\n",
    "fig = plt.figure(figsize=(16, 8))\n",
    "nodes = nx.draw_networkx_nodes(G, pos_dot, node_size=2, node_color='C0')\n",
    "edges = nx.draw_networkx_edges(G, pos_dot, edge_color='C0', width=0.5)\n",
    "plt.axis('off')"
   ]
  },
  {
   "cell_type": "code",
   "execution_count": null,
   "metadata": {},
   "outputs": [],
   "source": []
  }
 ],
 "metadata": {
  "kernelspec": {
   "display_name": "Python 3.9.12 ('base')",
   "language": "python",
   "name": "python3"
  },
  "language_info": {
   "codemirror_mode": {
    "name": "ipython",
    "version": 3
   },
   "file_extension": ".py",
   "mimetype": "text/x-python",
   "name": "python",
   "nbconvert_exporter": "python",
   "pygments_lexer": "ipython3",
   "version": "3.9.12"
  },
  "orig_nbformat": 4,
  "vscode": {
   "interpreter": {
    "hash": "d594796bd8f1bbcbba7d96410b19473b7dd37b87d2c9c997260c2628fe83e732"
   }
  }
 },
 "nbformat": 4,
 "nbformat_minor": 2
}
