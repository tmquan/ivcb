{
 "cells": [
  {
   "cell_type": "markdown",
   "metadata": {},
   "source": [
    "## Method"
   ]
  },
  {
   "cell_type": "markdown",
   "metadata": {},
   "source": [
    "### Architecture\n",
    "![\"Architecture\"](images/Architecture.png \"Architecture\")"
   ]
  },
  {
   "cell_type": "markdown",
   "metadata": {},
   "source": [
    "#### CameraModel = CameraNet\n",
    "![\"CameraNet\"](images/CameraNet.png \"CameraNet\")"
   ]
  },
  {
   "cell_type": "markdown",
   "metadata": {},
   "source": [
    "#### ScreenModel = OpaqueNet + Renderer\n",
    "![\"ScreenModel\"](images/ScreenModel.png \"ScreenModel\")\n",
    "\n",
    "##### OpaqueNet\n",
    "![\"OpaqueNet\"](images/OpaqueNet.png \"OpaqueNet\")\n",
    "\n",
    "##### Renderer\n",
    "![\"Renderer\"](images/Renderer.png \"Renderer\")"
   ]
  },
  {
   "cell_type": "markdown",
   "metadata": {},
   "source": [
    "#### VolumeModel = ReformNet + RefineNet\n",
    "![\"VolumeModel\"](images/VolumeModel.png \"VolumeModel\")\n",
    "\n",
    "##### ReformNet\n",
    "![\"ReformNet\"](images/ReformNet.png \"ReformNet\")\n",
    "\n",
    "##### RefineNet\n",
    "![\"RefineNet\"](images/RefineNet.png \"RefineNet\")"
   ]
  },
  {
   "cell_type": "markdown",
   "metadata": {},
   "source": [
    "### Losses = LossXR + LossCT\n",
    "\n",
    "#### XR pathway\n",
    "![\"XRPath\"](images/XRPath.png \"XRPath\")\n",
    "\n",
    "#### CT pathway\n",
    "![\"CTPath\"](images/CTPath.png \"CTPath\")"
   ]
  },
  {
   "cell_type": "markdown",
   "metadata": {},
   "source": []
  }
 ],
 "metadata": {
  "kernelspec": {
   "display_name": "Python 3.9.12 ('base')",
   "language": "python",
   "name": "python3"
  },
  "language_info": {
   "name": "python",
   "version": "3.9.12"
  },
  "orig_nbformat": 4,
  "vscode": {
   "interpreter": {
    "hash": "d594796bd8f1bbcbba7d96410b19473b7dd37b87d2c9c997260c2628fe83e732"
   }
  }
 },
 "nbformat": 4,
 "nbformat_minor": 2
}
