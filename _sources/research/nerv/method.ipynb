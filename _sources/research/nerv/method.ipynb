{
 "cells": [
  {
   "cell_type": "markdown",
   "metadata": {},
   "source": [
    "## Method"
   ]
  },
  {
   "cell_type": "markdown",
   "metadata": {},
   "source": [
    "### Architecture\n",
    "![\"Architecture\"](images/Architecture.png \"Architecture\")"
   ]
  },
  {
   "cell_type": "markdown",
   "metadata": {},
   "source": [
    "#### FrustumModel \n",
    "\n",
    "##### FrustumNet\n",
    "![\"FrustumNet\"](images/FrustumNet.png \"FrustumNet\")"
   ]
  },
  {
   "cell_type": "markdown",
   "metadata": {},
   "source": [
    "#### PictureModel\n",
    "![\"PictureModel\"](images/PictureModel.png \"PictureModel\")\n",
    "\n",
    "##### OpacityNet\n",
    "![\"OpacityNet\"](images/OpacityNet.png \"OpacityNet\")\n",
    "\n",
    "##### DetectorOp\n",
    "![\"DetectorOp\"](images/DetectorOp.png \"DetectorOp\")"
   ]
  },
  {
   "cell_type": "markdown",
   "metadata": {},
   "source": [
    "#### DensityModel\n",
    "![\"DensityModel\"](images/DensityModel.png \"DensityModel\")\n",
    "\n",
    "##### ClarityNet\n",
    "![\"ClarityNet\"](images/ClarityNet.png \"ClarityNet\")\n",
    "\n",
    "##### DensityNet\n",
    "![\"DensityNet\"](images/DensityNet.png \"DensityNet\")"
   ]
  },
  {
   "cell_type": "markdown",
   "metadata": {},
   "source": [
    "### Losses = LossXR + LossCT\n",
    "\n",
    "#### XR pathway\n",
    "![\"XRPath\"](images/XRPath.png \"XRPath\")\n",
    "\n",
    "#### CT pathway\n",
    "![\"CTPath\"](images/CTPath.png \"CTPath\")"
   ]
  },
  {
   "cell_type": "markdown",
   "metadata": {},
   "source": []
  }
 ],
 "metadata": {
  "kernelspec": {
   "display_name": "Python 3.9.12 ('base')",
   "language": "python",
   "name": "python3"
  },
  "language_info": {
   "name": "python",
   "version": "3.9.12"
  },
  "orig_nbformat": 4,
  "vscode": {
   "interpreter": {
    "hash": "d594796bd8f1bbcbba7d96410b19473b7dd37b87d2c9c997260c2628fe83e732"
   }
  }
 },
 "nbformat": 4,
 "nbformat_minor": 2
}
