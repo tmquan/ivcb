{
 "cells": [
  {
   "cell_type": "markdown",
   "metadata": {},
   "source": [
    "## Method"
   ]
  },
  {
   "cell_type": "markdown",
   "metadata": {},
   "source": [
    "### Architecture\n",
    "![\"Architecture\"](images/Architecture.png \"Architecture\")"
   ]
  },
  {
   "cell_type": "markdown",
   "metadata": {},
   "source": [
    "#### CameraModel\n",
    "![\"CameraModel\"](images/CameraModel.png \"CameraModel\")"
   ]
  },
  {
   "cell_type": "markdown",
   "metadata": {},
   "source": [
    "#### ScreenModel\n",
    "![\"ScreenModel\"](images/ScreenModel.png \"ScreenModel\")\n",
    "\n",
    "##### OpaqueNet\n",
    "![\"OpaqueNet\"](images/OpaqueNet.png \"OpaqueNet\")\n",
    "\n",
    "##### Renderer\n",
    "![\"Renderer\"](images/Renderer.png \"Renderer\")"
   ]
  },
  {
   "cell_type": "markdown",
   "metadata": {},
   "source": [
    "#### VolumeModel\n",
    "![\"VolumeModel\"](images/VolumeModel.png \"VolumeModel\")\n",
    "\n",
    "##### ReformNet\n",
    "![\"ReformNet\"](images/ReformNet.png \"ReformNet\")\n",
    "\n",
    "##### RefineNet\n",
    "![\"RefineNet\"](images/RefineNet.png \"RefineNet\")"
   ]
  },
  {
   "cell_type": "markdown",
   "metadata": {},
   "source": [
    "### Losses\n",
    "\n",
    "#### XR pathway\n",
    "![\"XRPath\"](images/XRPath.png \"XRPath\")\n",
    "\n",
    "#### CT pathway\n",
    "![\"CTPath\"](images/CTPath.png \"CTPath\")"
   ]
  }
 ],
 "metadata": {
  "kernelspec": {
   "display_name": "Python 3.9.6 64-bit",
   "language": "python",
   "name": "python3"
  },
  "language_info": {
   "name": "python",
   "version": "3.9.6"
  },
  "orig_nbformat": 4,
  "vscode": {
   "interpreter": {
    "hash": "f9f85f796d01129d0dd105a088854619f454435301f6ffec2fea96ecbd9be4ac"
   }
  }
 },
 "nbformat": 4,
 "nbformat_minor": 2
}
